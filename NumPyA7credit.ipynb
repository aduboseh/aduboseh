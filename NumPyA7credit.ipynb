{
  "nbformat": 4,
  "nbformat_minor": 0,
  "metadata": {
    "colab": {
      "provenance": []
    },
    "kernelspec": {
      "name": "python3",
      "display_name": "Python 3"
    },
    "language_info": {
      "name": "python"
    }
  },
  "cells": [
    {
      "cell_type": "code",
      "source": [
        "import numpy as np"
      ],
      "metadata": {
        "id": "mE-kHYPOJunK"
      },
      "execution_count": 1,
      "outputs": []
    },
    {
      "cell_type": "code",
      "execution_count": null,
      "metadata": {
        "id": "jxZn8F0RGAAj"
      },
      "outputs": [],
      "source": [
        "q1 = np.arange(2, 17, 2)\n",
        "Q1 = q1[[6, 2, 5]].tolist()"
      ]
    },
    {
      "cell_type": "code",
      "source": [
        "q2 = np.array([[1, 3, 2], [0, 7, 4]])"
      ],
      "metadata": {
        "id": "Y1NISYDNKtkG"
      },
      "execution_count": 3,
      "outputs": []
    },
    {
      "cell_type": "code",
      "source": [
        "Q2 = q1[q2]"
      ],
      "metadata": {
        "id": "4fesA118LqfR"
      },
      "execution_count": 4,
      "outputs": []
    },
    {
      "cell_type": "code",
      "source": [
        "Q3 = q1.reshape((4,2))"
      ],
      "metadata": {
        "id": "jOFZpX16M1kr"
      },
      "execution_count": 5,
      "outputs": []
    },
    {
      "cell_type": "code",
      "source": [
        "Q4 = Q3[:1, :2]"
      ],
      "metadata": {
        "id": "1mu5fwWyN3DU"
      },
      "execution_count": 6,
      "outputs": []
    },
    {
      "cell_type": "code",
      "source": [
        "Q5 = Q3[0:2, [0]]"
      ],
      "metadata": {
        "id": "P9_gq7UXSBo7"
      },
      "execution_count": 7,
      "outputs": []
    },
    {
      "cell_type": "code",
      "source": [
        "np.random.seed(6)\n",
        "x = np.random.randint(10, size = 10)\n",
        "Q6 = np.sort(x)\n",
        "\n",
        "q7 = np.random.randint(10, size = (4,5))\n",
        "Q7 = np.sort(q7, axis = 0)\n",
        "Q8 = np.sort(q7, axis = 1)"
      ],
      "metadata": {
        "id": "O1Nc9IbnUjsW"
      },
      "execution_count": null,
      "outputs": []
    },
    {
      "cell_type": "code",
      "source": [
        "Fruit = ['Grape', \"Apple\", 'Banana']\n",
        "Color = ['Purple','Red','Yellow']\n",
        "Ranking = [3, 2, 1]\n",
        "\n",
        "q9 = np.zeros(3, dtype = {'names' :('Fruit', 'Color', 'Ranking'),\n",
        "                          'formats' :('U20', 'U20', 'i4')})"
      ],
      "metadata": {
        "id": "Rn2Dsvek3Vjx"
      },
      "execution_count": 47,
      "outputs": []
    },
    {
      "cell_type": "code",
      "source": [
        "q9['Fruit'] = Fruit\n",
        "q9['Color'] = Color\n",
        "q9['Ranking'] = Ranking\n",
        "\n",
        "Q9 = Color"
      ],
      "metadata": {
        "id": "N6OLzMSM8JBd"
      },
      "execution_count": 48,
      "outputs": []
    },
    {
      "cell_type": "code",
      "source": [
        "Q10 = q9[-1]"
      ],
      "metadata": {
        "id": "iYVckB839dsx"
      },
      "execution_count": 49,
      "outputs": []
    },
    {
      "cell_type": "code",
      "source": [
        "Q11 = q9[q9['Ranking'] < 3]"
      ],
      "metadata": {
        "id": "nodo69ix_ERz"
      },
      "execution_count": 51,
      "outputs": []
    }
  ]
}