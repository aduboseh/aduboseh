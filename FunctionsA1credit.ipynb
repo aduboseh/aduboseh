{
  "nbformat": 4,
  "nbformat_minor": 0,
  "metadata": {
    "colab": {
      "provenance": [],
      "authorship_tag": "ABX9TyNKBVKrK6yyMn8T1Ucv4yA+",
      "include_colab_link": true
    },
    "kernelspec": {
      "name": "python3",
      "display_name": "Python 3"
    },
    "language_info": {
      "name": "python"
    }
  },
  "cells": [
    {
      "cell_type": "markdown",
      "metadata": {
        "id": "view-in-github",
        "colab_type": "text"
      },
      "source": [
        "<a href=\"https://colab.research.google.com/github/aduboseh/aduboseh/blob/main/FunctionsA1credit.ipynb\" target=\"_parent\"><img src=\"https://colab.research.google.com/assets/colab-badge.svg\" alt=\"Open In Colab\"/></a>"
      ]
    },
    {
      "cell_type": "code",
      "execution_count": null,
      "metadata": {
        "id": "pbAjhYzGaSxY"
      },
      "outputs": [],
      "source": [
        "def Q1():\n",
        "  print(\"Hello World\")\n",
        "Q1()"
      ]
    },
    {
      "cell_type": "code",
      "source": [
        "def Q2():\n",
        "  print('Eastern University')\n",
        "Q2()"
      ],
      "metadata": {
        "id": "HInBfj5AbF9f"
      },
      "execution_count": null,
      "outputs": []
    },
    {
      "cell_type": "code",
      "source": [
        "def Q3(x):\n",
        "  print(x)\n",
        "Q3(5)"
      ],
      "metadata": {
        "id": "cmsqogPTbccf"
      },
      "execution_count": null,
      "outputs": []
    },
    {
      "cell_type": "code",
      "source": [
        "def Q4(y):\n",
        "  return y*y\n",
        "Q4(5)"
      ],
      "metadata": {
        "id": "IMvhjgIpcA_C"
      },
      "execution_count": null,
      "outputs": []
    },
    {
      "cell_type": "code",
      "source": [
        "def Q5(z):\n",
        "  return z**z\n",
        "Q5(3)"
      ],
      "metadata": {
        "id": "nACNa6sCcvg7"
      },
      "execution_count": null,
      "outputs": []
    },
    {
      "cell_type": "code",
      "source": [
        "def Q6(a):\n",
        "  print(\"The argument is 6\")\n",
        "Q6(6)"
      ],
      "metadata": {
        "id": "oaD-QkTId1Aq"
      },
      "execution_count": null,
      "outputs": []
    },
    {
      "cell_type": "code",
      "source": [
        "def Q7(b, c):\n",
        "  print(b - c)\n",
        "Q7(10, 6)"
      ],
      "metadata": {
        "id": "K1mbgeu2eh1M"
      },
      "execution_count": null,
      "outputs": []
    },
    {
      "cell_type": "code",
      "source": [
        "def Q8(d,e,f,g,h):\n",
        "  print(d*e*f*g*h)\n",
        "Q8(1,2,3,4,5)"
      ],
      "metadata": {
        "id": "tyhXdSepfKQa"
      },
      "execution_count": null,
      "outputs": []
    },
    {
      "cell_type": "code",
      "source": [
        "def Q9():\n",
        "  for num in range(0,5):\n",
        "    print(num)\n",
        "Q9()"
      ],
      "metadata": {
        "id": "AybcHyA3gFxd"
      },
      "execution_count": null,
      "outputs": []
    }
  ]
}