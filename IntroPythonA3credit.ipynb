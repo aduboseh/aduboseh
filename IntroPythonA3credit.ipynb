{
  "nbformat": 4,
  "nbformat_minor": 0,
  "metadata": {
    "colab": {
      "provenance": [],
      "authorship_tag": "ABX9TyNiyH0He8fEQwNdRCiZ/ofb",
      "include_colab_link": true
    },
    "kernelspec": {
      "name": "python3",
      "display_name": "Python 3"
    },
    "language_info": {
      "name": "python"
    }
  },
  "cells": [
    {
      "cell_type": "markdown",
      "metadata": {
        "id": "view-in-github",
        "colab_type": "text"
      },
      "source": [
        "<a href=\"https://colab.research.google.com/github/aduboseh/aduboseh/blob/main/IntroPythonA3credit.ipynb\" target=\"_parent\"><img src=\"https://colab.research.google.com/assets/colab-badge.svg\" alt=\"Open In Colab\"/></a>"
      ]
    },
    {
      "cell_type": "code",
      "execution_count": null,
      "metadata": {
        "id": "4RV2-aOJeh6H"
      },
      "outputs": [],
      "source": [
        "Q1 = ['one', 1, 1.0]"
      ]
    },
    {
      "cell_type": "code",
      "source": [
        "q2 = ['two', 2, 2.0]\n",
        "Q2 = q2\n",
        "Q2[1] = 'dos'"
      ],
      "metadata": {
        "id": "cnXsyF1-yK4z"
      },
      "execution_count": null,
      "outputs": []
    },
    {
      "cell_type": "code",
      "source": [
        "q3 = ['three', 3, 3.0]\n",
        "Q3 = q3\n",
        "Q3.append('tres')"
      ],
      "metadata": {
        "id": "pzzF1qvsynAt"
      },
      "execution_count": null,
      "outputs": []
    },
    {
      "cell_type": "code",
      "source": [
        "q4a = ['four', 4, 4.0]\n",
        "q4b = ['eight', 8, 8.0, 'ocho']\n",
        "Q4 = q4a + q4b"
      ],
      "metadata": {
        "id": "2uJ030n0zvY1"
      },
      "execution_count": null,
      "outputs": []
    },
    {
      "cell_type": "code",
      "source": [
        "q5a = ['five', 5,]\n",
        "q5b = ['nine', 9, 9.0, 'nueve']\n",
        "q5a.append(['nine', 9, 9.0, 'nueve'])\n",
        "Q5 = q5a\n",
        "print(Q5)"
      ],
      "metadata": {
        "id": "K-j4NYACM0wh"
      },
      "execution_count": null,
      "outputs": []
    },
    {
      "cell_type": "code",
      "source": [
        "Q6 = len(q5b)"
      ],
      "metadata": {
        "id": "rFfatcWGTcFu"
      },
      "execution_count": null,
      "outputs": []
    },
    {
      "cell_type": "code",
      "source": [
        "Q7 = q5b*3"
      ],
      "metadata": {
        "id": "MAtQVcAwTu13"
      },
      "execution_count": null,
      "outputs": []
    },
    {
      "cell_type": "code",
      "source": [
        "Q8 = Q5[-1]"
      ],
      "metadata": {
        "id": "U3B-gosyUEyx"
      },
      "execution_count": null,
      "outputs": []
    }
  ]
}