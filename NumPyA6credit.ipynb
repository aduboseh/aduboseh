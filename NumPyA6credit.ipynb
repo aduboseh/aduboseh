{
  "nbformat": 4,
  "nbformat_minor": 0,
  "metadata": {
    "colab": {
      "provenance": []
    },
    "kernelspec": {
      "name": "python3",
      "display_name": "Python 3"
    },
    "language_info": {
      "name": "python"
    }
  },
  "cells": [
    {
      "cell_type": "code",
      "execution_count": 1,
      "metadata": {
        "id": "1JB4L1dQD0_R"
      },
      "outputs": [],
      "source": [
        "import numpy as np"
      ]
    },
    {
      "cell_type": "code",
      "source": [
        "np.random.seed(100)\n",
        "A = np.random.rand(20)"
      ],
      "metadata": {
        "id": "f-VRKqbREE4S"
      },
      "execution_count": 2,
      "outputs": []
    },
    {
      "cell_type": "code",
      "source": [
        "Q1 = np.sum(A)"
      ],
      "metadata": {
        "id": "Yp2tc2-0HFyk"
      },
      "execution_count": 3,
      "outputs": []
    },
    {
      "cell_type": "code",
      "source": [
        "Q2 = np.max(A)"
      ],
      "metadata": {
        "id": "VkBnVqntHOMY"
      },
      "execution_count": 4,
      "outputs": []
    },
    {
      "cell_type": "code",
      "source": [
        "np.random.seed(100)\n",
        "B = np.random.rand(4,5)"
      ],
      "metadata": {
        "id": "BAG13D0LHaEt"
      },
      "execution_count": 5,
      "outputs": []
    },
    {
      "cell_type": "code",
      "source": [
        "Q3 = np.min(B, axis=1)"
      ],
      "metadata": {
        "id": "FpF8EIL6H8bg"
      },
      "execution_count": 6,
      "outputs": []
    },
    {
      "cell_type": "code",
      "source": [
        "Q4 = np.mean(B)"
      ],
      "metadata": {
        "id": "jfOIQas8MGf3"
      },
      "execution_count": 7,
      "outputs": []
    },
    {
      "cell_type": "code",
      "source": [
        "C = np.array([2, 3, np.nan, 5])\n",
        "Q5 = np.nansum(C)"
      ],
      "metadata": {
        "id": "R-XXLFB3MXUK"
      },
      "execution_count": null,
      "outputs": []
    },
    {
      "cell_type": "code",
      "source": [
        "np.random.seed(100)\n",
        "D = np.random.rand(4)\n",
        "E = np.random.rand(4)\n",
        "Q6 = np.concatenate([D,E])"
      ],
      "metadata": {
        "id": "d5WEbzVJTY1D"
      },
      "execution_count": null,
      "outputs": []
    },
    {
      "cell_type": "code",
      "source": [
        "np.random.seed(100)\n",
        "q7 = np.random.rand(4, 4)\n",
        "Q7 =np.concatenate([q7, q7])"
      ],
      "metadata": {
        "id": "fzNWAhdpUbA-"
      },
      "execution_count": null,
      "outputs": []
    },
    {
      "cell_type": "code",
      "source": [
        "np.random.seed(100)\n",
        "q8 = np.random.rand(2, 4)\n",
        "Q8 = np.vstack([q7, q8])"
      ],
      "metadata": {
        "id": "Wz_pxSLSVHGQ"
      },
      "execution_count": null,
      "outputs": []
    },
    {
      "cell_type": "code",
      "source": [
        "Q9 = np.vstack([q7, q7, q7, q8, q8])"
      ],
      "metadata": {
        "id": "B0f_Bij4Vvig"
      },
      "execution_count": null,
      "outputs": []
    },
    {
      "cell_type": "code",
      "source": [
        "np.random.seed(100)\n",
        "F = np.random.rand(2,1)\n",
        "Q10 = np.hstack([F, q8])"
      ],
      "metadata": {
        "id": "Hi0arJohWFjJ"
      },
      "execution_count": 34,
      "outputs": []
    },
    {
      "cell_type": "code",
      "source": [
        "q11 = np.random.rand(20)\n",
        "Q11a, Qllb = np.split(q11, [5])"
      ],
      "metadata": {
        "id": "etAg--I3WpM_"
      },
      "execution_count": 45,
      "outputs": []
    },
    {
      "cell_type": "code",
      "source": [
        "Q12a, Q12b, Q12c = np.split(q11, [10, 15])"
      ],
      "metadata": {
        "id": "fEgwsZTXZ8le"
      },
      "execution_count": null,
      "outputs": []
    },
    {
      "cell_type": "code",
      "source": [
        "q13 = np.random.rand(5, 5)\n",
        "Q13a, Q13b = np.vsplit(q13, [3])"
      ],
      "metadata": {
        "id": "zg56k3Q-a_40"
      },
      "execution_count": null,
      "outputs": []
    },
    {
      "cell_type": "code",
      "source": [
        "Q14a, Q14b = np.hsplit(q13, [3])"
      ],
      "metadata": {
        "id": "Cvdx90j4bgbn"
      },
      "execution_count": null,
      "outputs": []
    }
  ]
}