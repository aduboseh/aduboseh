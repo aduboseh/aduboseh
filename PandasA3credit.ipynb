{
  "nbformat": 4,
  "nbformat_minor": 0,
  "metadata": {
    "colab": {
      "provenance": []
    },
    "kernelspec": {
      "name": "python3",
      "display_name": "Python 3"
    },
    "language_info": {
      "name": "python"
    }
  },
  "cells": [
    {
      "cell_type": "code",
      "execution_count": 1,
      "metadata": {
        "id": "m1kbMJ3bEMKy"
      },
      "outputs": [],
      "source": [
        "import numpy as np\n",
        "import pandas as pd"
      ]
    },
    {
      "cell_type": "code",
      "source": [
        "dict_1 = {'A': 'a', 'B': 'b', 'C': 'c', 'D': 'd', 'E': 'e'}\n",
        "dict_2 = {'A': 1, 'B': 2, 'C': 3, 'D': 4, 'E': 5}\n",
        "\n",
        "a = pd.Series(dict_1)\n",
        "b = pd.Series(dict_2)\n"
      ],
      "metadata": {
        "id": "MqVNAHKOLTPX"
      },
      "execution_count": 2,
      "outputs": []
    },
    {
      "cell_type": "code",
      "source": [
        "q1 = pd.DataFrame({'lowercase': dict_1,\n",
        "                   'numbers': dict_2})"
      ],
      "metadata": {
        "id": "YVcFrzOiN6b-"
      },
      "execution_count": 53,
      "outputs": []
    },
    {
      "cell_type": "code",
      "source": [
        "Q1 = q1.loc['C','numbers']"
      ],
      "metadata": {
        "id": "Uen9tz2UO4Pi"
      },
      "execution_count": 51,
      "outputs": []
    },
    {
      "cell_type": "code",
      "source": [
        "Q2 = q1[1:5]"
      ],
      "metadata": {
        "id": "A5blRdLhUfBa"
      },
      "execution_count": 52,
      "outputs": []
    },
    {
      "cell_type": "code",
      "source": [
        "Q3 = q1.loc['D', ['lowercase', 'numbers']]"
      ],
      "metadata": {
        "id": "LZQglLuIWJ5x"
      },
      "execution_count": 54,
      "outputs": []
    },
    {
      "cell_type": "code",
      "source": [
        "Q4 = q1.loc[['A', 'B', 'C'], ['numbers']]"
      ],
      "metadata": {
        "id": "fdanFD0qdyFb"
      },
      "execution_count": 55,
      "outputs": []
    },
    {
      "cell_type": "code",
      "source": [
        "Q5 = q1.loc[['A', 'C', 'D'], ['lowercase', 'numbers']]"
      ],
      "metadata": {
        "id": "uXTnQh1sd5SF"
      },
      "execution_count": 56,
      "outputs": []
    },
    {
      "cell_type": "code",
      "source": [
        "Q6 = q1.loc['C', ['lowercase', 'numbers']]"
      ],
      "metadata": {
        "id": "VSTYUPvN15Fg"
      },
      "execution_count": 57,
      "outputs": []
    },
    {
      "cell_type": "code",
      "source": [
        "Q7 = q1.loc['E', 'numbers']"
      ],
      "metadata": {
        "id": "AHgReyPUohq-"
      },
      "execution_count": 50,
      "outputs": []
    },
    {
      "cell_type": "code",
      "source": [
        "Q8 = q1.loc[['C', 'D', 'E'], ['lowercase', 'numbers']]"
      ],
      "metadata": {
        "id": "8IQ-ou_Bp_kz"
      },
      "execution_count": 49,
      "outputs": []
    },
    {
      "cell_type": "code",
      "source": [
        "Q9 = q1.loc[q1['numbers'] < 3]\n",
        "#using locate to identify data from the numbers dictionary that is less than 3"
      ],
      "metadata": {
        "id": "904J6zcWqPX9"
      },
      "execution_count": 48,
      "outputs": []
    },
    {
      "cell_type": "code",
      "source": [
        "Q10 = q1.iloc[3, :]"
      ],
      "metadata": {
        "id": "yp5HnEdGq-UL"
      },
      "execution_count": 47,
      "outputs": []
    },
    {
      "cell_type": "code",
      "source": [
        "Q11 = q1.iloc[4, -1]"
      ],
      "metadata": {
        "id": "2kjLVimrsBPY"
      },
      "execution_count": 46,
      "outputs": []
    },
    {
      "cell_type": "code",
      "source": [
        "Q12 = q1.iloc[[0, 2, 3], :]"
      ],
      "metadata": {
        "id": "O7z7xP_msNz2"
      },
      "execution_count": 45,
      "outputs": []
    },
    {
      "cell_type": "code",
      "source": [
        "Q13 = q1.iloc[2:5, :]"
      ],
      "metadata": {
        "id": "6tZWdFAKtKaq"
      },
      "execution_count": 44,
      "outputs": []
    },
    {
      "cell_type": "code",
      "source": [
        "Q14 = q1.lowercase"
      ],
      "metadata": {
        "id": "SAQwcsLRtkWE"
      },
      "execution_count": 43,
      "outputs": []
    },
    {
      "cell_type": "code",
      "source": [
        "dict_3 = {'A': 'a', 'B': 'b', 'C': 'c', 'D': 'd', 'E': 'e'}\n",
        "dict_4 = {'A': 1, 'B': 2, 'C': 3, 'D': 4, 'E': 5}\n",
        "\n",
        "c = pd.Series(dict_3)\n",
        "d = pd.Series(dict_4)"
      ],
      "metadata": {
        "id": "bD9g8H6mt7LG"
      },
      "execution_count": 59,
      "outputs": []
    },
    {
      "cell_type": "code",
      "source": [
        "Q15 = pd.DataFrame({'lowercase': dict_3,\n",
        "                   'numbers': dict_4})"
      ],
      "metadata": {
        "id": "AK_DdLIHuVOW"
      },
      "execution_count": null,
      "outputs": []
    },
    {
      "cell_type": "code",
      "source": [
        "total = Q15['numbers'].sum()\n",
        "Q15['percent'] = Q15['numbers'] / total"
      ],
      "metadata": {
        "id": "ONotBGtsvRPc"
      },
      "execution_count": null,
      "outputs": []
    }
  ]
}