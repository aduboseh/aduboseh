{
  "nbformat": 4,
  "nbformat_minor": 0,
  "metadata": {
    "colab": {
      "provenance": []
    },
    "kernelspec": {
      "name": "python3",
      "display_name": "Python 3"
    },
    "language_info": {
      "name": "python"
    }
  },
  "cells": [
    {
      "cell_type": "code",
      "execution_count": 1,
      "metadata": {
        "id": "kQEImqYEExUf"
      },
      "outputs": [],
      "source": [
        "import numpy as np"
      ]
    },
    {
      "cell_type": "code",
      "source": [
        "q1 = {\n",
        "    \"One\": \"A\",\n",
        "    \"Two\": \"B\",\n",
        "    \"Three\": \"C\",\n",
        "    \"Four\": \"D\"\n",
        "}\n",
        "\n",
        "q1\n",
        "\n",
        "Q1 = q1['Three']"
      ],
      "metadata": {
        "id": "vN0R7squFk3e"
      },
      "execution_count": null,
      "outputs": []
    },
    {
      "cell_type": "code",
      "source": [
        "Q2 = {\n",
        "    \"Five\": \"E\",\n",
        "    \"Six\": \"F\"\n",
        "}\n",
        "\n",
        "Q2"
      ],
      "metadata": {
        "id": "2Rdzf3nSHIjI"
      },
      "execution_count": null,
      "outputs": []
    },
    {
      "cell_type": "code",
      "source": [
        "Q2[\"Seven\"] = \"G\""
      ],
      "metadata": {
        "id": "GlF2ODhZHgHb"
      },
      "execution_count": null,
      "outputs": []
    },
    {
      "cell_type": "code",
      "source": [
        "Q3 = {\n",
        "    \"Eight\": \"H\"\n",
        "}\n",
        "Q3\n",
        "\n",
        "del(Q3['Eight'])"
      ],
      "metadata": {
        "id": "YQ3ejhNbIps3"
      },
      "execution_count": null,
      "outputs": []
    },
    {
      "cell_type": "code",
      "source": [
        "Q4 = {\n",
        "    \"Nine\": \"I\",\n",
        "    \"Ten\": \"J\",\n",
        "}\n",
        "\n",
        "Q4"
      ],
      "metadata": {
        "id": "aETX1iCiJJui"
      },
      "execution_count": null,
      "outputs": []
    },
    {
      "cell_type": "code",
      "source": [
        "Q4[\"Ten\"] = \"K\""
      ],
      "metadata": {
        "id": "c8CZlPntJY3a"
      },
      "execution_count": 15,
      "outputs": []
    },
    {
      "cell_type": "code",
      "source": [
        "def Q5(q1):\n",
        "  for i in q1.values():\n",
        "    print(i)\n",
        "Q5(q1)"
      ],
      "metadata": {
        "id": "VNVi9LXDJvMT"
      },
      "execution_count": null,
      "outputs": []
    },
    {
      "cell_type": "code",
      "source": [
        "def Q6(q1):\n",
        "  for i in q1:\n",
        "    print(i)\n",
        "q1 = {\n",
        "    \"One\": \"A\",\n",
        "    \"Two\": \"B\",\n",
        "    \"Three\": \"C\",\n",
        "    \"Four\": \"D\"\n",
        "}\n",
        "Q6(q1)"
      ],
      "metadata": {
        "id": "Dy9Fp9ujK6_U"
      },
      "execution_count": null,
      "outputs": []
    },
    {
      "cell_type": "code",
      "source": [
        "Q7 = {\n",
        "        \"Least Favorite\": {\"Fruit\": \"Grape\", \"Color\": \"Purple\"},\n",
        "        \"Medium Favorite\": {\"Fruit\": \"Apple\", \"Color\": \"Red\"},\n",
        "        \"Most Favorite\": {\"Fruit\": \"Banana\", \"Color\": \"Yellow\"}\n",
        "}\n",
        "Q7"
      ],
      "metadata": {
        "id": "oDk8sEdcLX1Q"
      },
      "execution_count": null,
      "outputs": []
    }
  ]
}