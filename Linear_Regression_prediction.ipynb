{
  "nbformat": 4,
  "nbformat_minor": 0,
  "metadata": {
    "colab": {
      "provenance": []
    },
    "kernelspec": {
      "name": "python3",
      "display_name": "Python 3"
    },
    "language_info": {
      "name": "python"
    }
  },
  "cells": [
    {
      "cell_type": "markdown",
      "source": [
        "This example demonstrates how to use linear regression to model and understand the relationship between two variables (X and y). It shows how to fit a linear regression model to data, extract model coefficients, make predictions, and visualize the results, providing insights into the linear relationship between the variables."
      ],
      "metadata": {
        "id": "oUU2T-js7CCm"
      }
    },
    {
      "cell_type": "code",
      "execution_count": null,
      "metadata": {
        "id": "OgCcE4XA27qe"
      },
      "outputs": [],
      "source": [
        "# Importing necessary libraries\n",
        "import numpy as np\n",
        "from sklearn.linear_model import LinearRegression\n",
        "import matplotlib.pyplot as plt\n",
        "\n",
        "# Generating some sample data\n",
        "np.random.seed(0)\n",
        "X = 2 * np.random.rand(100, 1)  # Generating 100 random numbers between 0 and 2\n",
        "y = 4 + 3 * X + np.random.randn(100, 1)  # Adding some random noise to create a linear relationship\n",
        "\n",
        "# Visualizing the data\n",
        "plt.scatter(X, y)\n",
        "plt.xlabel('X')\n",
        "plt.ylabel('y')\n",
        "plt.title('Sample Data for Linear Regression')\n",
        "plt.show()\n",
        "\n",
        "# Fitting a linear regression model to the data\n",
        "model = LinearRegression()\n",
        "model.fit(X, y)  #trains the model to predict Y values for new X values not present in the training data\n",
        "\n",
        "# Getting the slope (coefficients) and intercept of the fitted line\n",
        "slope = model.coef_[0][0]\n",
        "intercept = model.intercept_[0]\n",
        "\n",
        "print(\"Slope:\", slope)\n",
        "print(\"Intercept:\", intercept)\n",
        "\n",
        "# Predicting y values using the fitted model\n",
        "y_pred = model.predict(X)\n",
        "\n",
        "# Visualizing the fitted line\n",
        "plt.scatter(X, y)\n",
        "plt.plot(X, y_pred, color='red')\n",
        "plt.xlabel('X')\n",
        "plt.ylabel('y')\n",
        "plt.title('Linear Regression Fit')\n",
        "plt.show()\n"
      ]
    },
    {
      "cell_type": "markdown",
      "source": [
        "Training the linear regression model from scratch using the sci-kit learn instead of using the fit() method."
      ],
      "metadata": {
        "id": "I8zwDoEd5FoB"
      }
    },
    {
      "cell_type": "code",
      "source": [
        "from sklearn.linear_model import LinearRegression\n",
        "\n",
        "import numpy as np\n",
        "X = np.array([[1], [2], [3]])  # Example input features\n",
        "y = np.array([2, 4, 6])         # Example target variable\n",
        "\n",
        "model = LinearRegression()\n",
        "\n",
        "model.fit(X, y)\n",
        "\n",
        "slope = model.coef_[0]\n",
        "intercept = model.intercept_\n",
        "\n",
        "new_X = np.array([[4], [5]])  # New input features\n",
        "predicted_y = model.predict(new_X)\n",
        "print(predicted_y)"
      ],
      "metadata": {
        "id": "wEd9E1Q55C-Z"
      },
      "execution_count": null,
      "outputs": []
    }
  ]
}