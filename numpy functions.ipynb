{
  "nbformat": 4,
  "nbformat_minor": 0,
  "metadata": {
    "colab": {
      "provenance": []
    },
    "kernelspec": {
      "name": "python3",
      "display_name": "Python 3"
    },
    "language_info": {
      "name": "python"
    }
  },
  "cells": [
    {
      "cell_type": "code",
      "execution_count": 1,
      "metadata": {
        "id": "SfamyeYTtqJs"
      },
      "outputs": [],
      "source": [
        "import numpy as np"
      ]
    },
    {
      "cell_type": "code",
      "source": [
        "np.full((3, 3), 2)"
      ],
      "metadata": {
        "id": "fFQ3xp9FtvBX"
      },
      "execution_count": null,
      "outputs": []
    },
    {
      "cell_type": "code",
      "source": [
        "np.random.seed(0)\n",
        "Q2 = np.random.randint(10, size =(3, 4)) #creating random array\n",
        "Q3 = Q2[1:2, 1:3] #slicing and indexing the array\n",
        "Q4 = Q2[2:3, :3]\n",
        "Q5 = Q2[1:2, 1:4]\n",
        "Q6 = Q2[:1, :1]\n",
        "Q7 = Q2[1:2, :1]\n",
        "Q8 = Q2[2:3, :1]\n",
        "print(Q2)\n",
        "print(Q3)"
      ],
      "metadata": {
        "id": "8hdVEvGDuEty"
      },
      "execution_count": null,
      "outputs": []
    },
    {
      "cell_type": "code",
      "source": [
        "Q2_sub = Q2[:2, :2]\n",
        "print(Q2_sub)"
      ],
      "metadata": {
        "colab": {
          "base_uri": "https://localhost:8080/"
        },
        "id": "mVxcMMdYKOBF",
        "outputId": "18e42a09-0ef7-4be5-867e-41da1d01170a"
      },
      "execution_count": 5,
      "outputs": [
        {
          "output_type": "stream",
          "name": "stdout",
          "text": [
            "[[5 0]\n",
            " [7 9]]\n"
          ]
        }
      ]
    },
    {
      "cell_type": "code",
      "source": [
        "Q2_sub[0,0] = 99\n",
        "print(Q2_sub)"
      ],
      "metadata": {
        "colab": {
          "base_uri": "https://localhost:8080/"
        },
        "id": "xUp48Cr_QfM4",
        "outputId": "b52979aa-0f7e-47b5-9f1d-c17cb66dd1b7"
      },
      "execution_count": 6,
      "outputs": [
        {
          "output_type": "stream",
          "name": "stdout",
          "text": [
            "[[99  0]\n",
            " [ 7  9]]\n"
          ]
        }
      ]
    },
    {
      "cell_type": "code",
      "source": [
        "Q2"
      ],
      "metadata": {
        "colab": {
          "base_uri": "https://localhost:8080/"
        },
        "id": "-JhNjqVgQrhK",
        "outputId": "e83f81a2-a01c-426f-87b2-74237f626a55"
      },
      "execution_count": null,
      "outputs": [
        {
          "output_type": "execute_result",
          "data": {
            "text/plain": [
              "array([[99,  0,  3,  3],\n",
              "       [ 7,  9,  3,  5],\n",
              "       [ 2,  4,  7,  6]])"
            ]
          },
          "metadata": {},
          "execution_count": 6
        }
      ]
    },
    {
      "cell_type": "code",
      "source": [
        "Q2_sub_copy = Q2[:2, :2].copy()\n",
        "print(Q2_sub_copy)"
      ],
      "metadata": {
        "colab": {
          "base_uri": "https://localhost:8080/"
        },
        "id": "Rjte5o3tQw82",
        "outputId": "9c023044-8750-4cb3-8a85-8a76e7f5e6e6"
      },
      "execution_count": 7,
      "outputs": [
        {
          "output_type": "stream",
          "name": "stdout",
          "text": [
            "[[99  0]\n",
            " [ 7  9]]\n"
          ]
        }
      ]
    },
    {
      "cell_type": "code",
      "source": [
        "Q2_sub_copy[0,0] = 42  #creating a copy of Q2 to manipulate without altering original data\n",
        "print(Q2_sub_copy)"
      ],
      "metadata": {
        "colab": {
          "base_uri": "https://localhost:8080/"
        },
        "id": "mngLxh8HQ-oe",
        "outputId": "ce223db6-f0aa-411b-c692-fe26890bb32b"
      },
      "execution_count": 8,
      "outputs": [
        {
          "output_type": "stream",
          "name": "stdout",
          "text": [
            "[[42  0]\n",
            " [ 7  9]]\n"
          ]
        }
      ]
    },
    {
      "cell_type": "code",
      "source": [
        "Q2"
      ],
      "metadata": {
        "colab": {
          "base_uri": "https://localhost:8080/"
        },
        "id": "EAo2rwReRGU8",
        "outputId": "f26130c8-beb4-4ed0-86df-2a27764bccb0"
      },
      "execution_count": 9,
      "outputs": [
        {
          "output_type": "execute_result",
          "data": {
            "text/plain": [
              "array([[99,  0,  3,  3],\n",
              "       [ 7,  9,  3,  5],\n",
              "       [ 2,  4,  7,  6]])"
            ]
          },
          "metadata": {},
          "execution_count": 9
        }
      ]
    },
    {
      "cell_type": "code",
      "source": [
        "array = np.arange(1, 10) #arraning data by number including 1-9\n",
        "print(array)"
      ],
      "metadata": {
        "colab": {
          "base_uri": "https://localhost:8080/"
        },
        "id": "HE0UjN1IRSC_",
        "outputId": "3de2a0c3-268a-4533-a33a-ed9c3a264cc3"
      },
      "execution_count": 10,
      "outputs": [
        {
          "output_type": "stream",
          "name": "stdout",
          "text": [
            "[1 2 3 4 5 6 7 8 9]\n"
          ]
        }
      ]
    },
    {
      "cell_type": "code",
      "source": [
        "grid = array.reshape((3,3)) #Reshaping in grid method\n",
        "print(grid)"
      ],
      "metadata": {
        "colab": {
          "base_uri": "https://localhost:8080/"
        },
        "id": "HTB5MvKwRbb_",
        "outputId": "321f6163-f3eb-4341-a403-2901183bd510"
      },
      "execution_count": 11,
      "outputs": [
        {
          "output_type": "stream",
          "name": "stdout",
          "text": [
            "[[1 2 3]\n",
            " [4 5 6]\n",
            " [7 8 9]]\n"
          ]
        }
      ]
    },
    {
      "cell_type": "code",
      "source": [
        "array2 = np.arange(1,11)\n",
        "grid2 = array2.reshape((5,2))\n",
        "print(grid2)"
      ],
      "metadata": {
        "colab": {
          "base_uri": "https://localhost:8080/"
        },
        "id": "kn4GzIylRmth",
        "outputId": "97d676f2-db7a-4a57-a392-6287ac683d57"
      },
      "execution_count": 14,
      "outputs": [
        {
          "output_type": "stream",
          "name": "stdout",
          "text": [
            "[[ 1  2]\n",
            " [ 3  4]\n",
            " [ 5  6]\n",
            " [ 7  8]\n",
            " [ 9 10]]\n"
          ]
        }
      ]
    },
    {
      "cell_type": "code",
      "source": [
        "t = np.array([1, 2, 3])\n",
        "print(t)"
      ],
      "metadata": {
        "colab": {
          "base_uri": "https://localhost:8080/"
        },
        "id": "jidzD1wBSNQF",
        "outputId": "d19c6975-c247-4b68-f460-aa0f8244e01a"
      },
      "execution_count": 16,
      "outputs": [
        {
          "output_type": "stream",
          "name": "stdout",
          "text": [
            "[1 2 3]\n"
          ]
        }
      ]
    },
    {
      "cell_type": "code",
      "source": [
        "t.reshape((1,3)) # reshaping arrays"
      ],
      "metadata": {
        "id": "HQvhMLRcScM9",
        "colab": {
          "base_uri": "https://localhost:8080/"
        },
        "outputId": "81abb17f-9923-4004-9460-b771c79a2c50"
      },
      "execution_count": 17,
      "outputs": [
        {
          "output_type": "execute_result",
          "data": {
            "text/plain": [
              "array([[1, 2, 3]])"
            ]
          },
          "metadata": {},
          "execution_count": 17
        }
      ]
    },
    {
      "cell_type": "code",
      "source": [
        "t[np.newaxis, :] #creating new axis point"
      ],
      "metadata": {
        "colab": {
          "base_uri": "https://localhost:8080/"
        },
        "id": "yICOQi85j2_7",
        "outputId": "8047e2fd-2695-429d-d595-a3db84eb71bf"
      },
      "execution_count": 18,
      "outputs": [
        {
          "output_type": "execute_result",
          "data": {
            "text/plain": [
              "array([[1, 2, 3]])"
            ]
          },
          "metadata": {},
          "execution_count": 18
        }
      ]
    },
    {
      "cell_type": "code",
      "source": [
        "t[:, np.newaxis]"
      ],
      "metadata": {
        "colab": {
          "base_uri": "https://localhost:8080/"
        },
        "id": "-3Z_6YrWkBW_",
        "outputId": "4e21ba27-7246-4e32-f715-dc3a7835f579"
      },
      "execution_count": 19,
      "outputs": [
        {
          "output_type": "execute_result",
          "data": {
            "text/plain": [
              "array([[1],\n",
              "       [2],\n",
              "       [3]])"
            ]
          },
          "metadata": {},
          "execution_count": 19
        }
      ]
    },
    {
      "cell_type": "code",
      "source": [
        "t.reshape((3,1))"
      ],
      "metadata": {
        "colab": {
          "base_uri": "https://localhost:8080/"
        },
        "id": "u9GyKSZukISO",
        "outputId": "092ecd7f-0927-464d-edd7-3b8bbc45a7f2"
      },
      "execution_count": 20,
      "outputs": [
        {
          "output_type": "execute_result",
          "data": {
            "text/plain": [
              "array([[1],\n",
              "       [2],\n",
              "       [3]])"
            ]
          },
          "metadata": {},
          "execution_count": 20
        }
      ]
    },
    {
      "cell_type": "code",
      "source": [
        "np.random.seed(0)\n",
        "x = np.random.randint(5, size = (4, 4))\n",
        "print(x)"
      ],
      "metadata": {
        "colab": {
          "base_uri": "https://localhost:8080/"
        },
        "id": "b-0gIzMJ4SHD",
        "outputId": "6555807f-f7e2-4b10-e7ba-8d6d3d2d0963"
      },
      "execution_count": 21,
      "outputs": [
        {
          "output_type": "stream",
          "name": "stdout",
          "text": [
            "[[4 0 3 3]\n",
            " [3 1 3 2]\n",
            " [4 0 0 4]\n",
            " [2 1 0 1]]\n"
          ]
        }
      ]
    },
    {
      "cell_type": "code",
      "source": [
        "np.random.seed(56)\n",
        "x = np.random.randint(20, size = (10, 10))\n",
        "print(x)"
      ],
      "metadata": {
        "colab": {
          "base_uri": "https://localhost:8080/"
        },
        "id": "T8NtAZ7G7Nf4",
        "outputId": "17916ce0-05de-4021-f96c-2558f2d25493"
      },
      "execution_count": 22,
      "outputs": [
        {
          "output_type": "stream",
          "name": "stdout",
          "text": [
            "[[ 4 15  0  2 11 14  9  4 15 17]\n",
            " [12  2 11 11 14 16  6  1 10  5]\n",
            " [ 2 15 19  5  9  2 10  1 16 13]\n",
            " [ 6 18 12  0  8  4 14 15  0 17]\n",
            " [11 17 12 19 14 10 18  1 19  3]\n",
            " [ 2  0  3 16 16  8 16  9 11  0]\n",
            " [10 18 19  7  1 11  5 16  8  2]\n",
            " [13  8 16 19 18  7 18  5 16 14]\n",
            " [17  1  7 15  4  1 19  2  0  8]\n",
            " [15 16  5 19  7  7  0 15  1 19]]\n"
          ]
        }
      ]
    },
    {
      "cell_type": "code",
      "source": [
        "x[2:3, 4:5]"
      ],
      "metadata": {
        "colab": {
          "base_uri": "https://localhost:8080/"
        },
        "id": "MqYePmsAHLnT",
        "outputId": "4970d16e-528c-45ae-ba06-75fbe2ee6733"
      },
      "execution_count": 23,
      "outputs": [
        {
          "output_type": "execute_result",
          "data": {
            "text/plain": [
              "array([[9]])"
            ]
          },
          "metadata": {},
          "execution_count": 23
        }
      ]
    },
    {
      "cell_type": "code",
      "source": [
        "np.random.seed(1)\n",
        "x = np.random.randint(15, size = 10)\n",
        "y = np.random.randint(15, size = 10)\n",
        "\n",
        "print(x)\n",
        "print(y)"
      ],
      "metadata": {
        "colab": {
          "base_uri": "https://localhost:8080/"
        },
        "id": "xRqSbsIcDocs",
        "outputId": "54e2f426-9c19-4688-c9da-eebb806f4e0e"
      },
      "execution_count": 24,
      "outputs": [
        {
          "output_type": "stream",
          "name": "stdout",
          "text": [
            "[ 5 11 12  8  9 11  5  0  0  1]\n",
            "[12  7 13 12  6  9  2  4 14  5]\n"
          ]
        }
      ]
    },
    {
      "cell_type": "code",
      "source": [
        "x.reshape((2,5))"
      ],
      "metadata": {
        "colab": {
          "base_uri": "https://localhost:8080/"
        },
        "id": "hPyFtx2b6LPI",
        "outputId": "fdf6e262-7a34-42ec-dc42-e174a19c8165"
      },
      "execution_count": 26,
      "outputs": [
        {
          "output_type": "execute_result",
          "data": {
            "text/plain": [
              "array([[ 5, 11, 12,  8,  9],\n",
              "       [11,  5,  0,  0,  1]])"
            ]
          },
          "metadata": {},
          "execution_count": 26
        }
      ]
    },
    {
      "cell_type": "code",
      "source": [
        "x_sub  = x[:2].copy()\n",
        "print(x_sub)"
      ],
      "metadata": {
        "colab": {
          "base_uri": "https://localhost:8080/"
        },
        "id": "Fe8Gp_DC6jDL",
        "outputId": "20d05ff9-c8a0-4435-d34b-95c3df0cd68d"
      },
      "execution_count": 29,
      "outputs": [
        {
          "output_type": "stream",
          "name": "stdout",
          "text": [
            "[ 5 11]\n"
          ]
        }
      ]
    },
    {
      "cell_type": "code",
      "source": [
        "np.random.seed(0)\n",
        "x = np.random.randint(0,15, size = 10)\n",
        "y = np.random.randint(0,15, size = 10)\n",
        "Q5 = np.concatenate([x,y]) #concatenating the random numbers list\n",
        "print(Q5)"
      ],
      "metadata": {
        "colab": {
          "base_uri": "https://localhost:8080/"
        },
        "id": "cZhfKm7BRRTM",
        "outputId": "18e8f65b-29e1-4bc8-829f-3b90b84c349c"
      },
      "execution_count": 30,
      "outputs": [
        {
          "output_type": "stream",
          "name": "stdout",
          "text": [
            "[12  5  0  3 11  3  7  9  3  5  2  4  7  6  8  8 12 10  1  6]\n"
          ]
        }
      ]
    },
    {
      "cell_type": "code",
      "source": [
        "x = np.array([1, 2, 3])\n",
        "y = np.array([4, 5, 6])\n",
        "np.concatenate([x,y])  #concatenating the one dimensional arrays"
      ],
      "metadata": {
        "colab": {
          "base_uri": "https://localhost:8080/"
        },
        "id": "4u_ppOEdeL4w",
        "outputId": "4b09eb5d-54b4-43da-8b03-3ac72e544ca4"
      },
      "execution_count": 31,
      "outputs": [
        {
          "output_type": "execute_result",
          "data": {
            "text/plain": [
              "array([1, 2, 3, 4, 5, 6])"
            ]
          },
          "metadata": {},
          "execution_count": 31
        }
      ]
    },
    {
      "cell_type": "code",
      "source": [
        "z = [7, 8, 9]\n",
        "np.concatenate([x, y, z])"
      ],
      "metadata": {
        "colab": {
          "base_uri": "https://localhost:8080/"
        },
        "id": "s2eCKOtSdzvB",
        "outputId": "2a467718-1956-4f02-a73e-0452cba88cbe"
      },
      "execution_count": 32,
      "outputs": [
        {
          "output_type": "execute_result",
          "data": {
            "text/plain": [
              "array([1, 2, 3, 4, 5, 6, 7, 8, 9])"
            ]
          },
          "metadata": {},
          "execution_count": 32
        }
      ]
    },
    {
      "cell_type": "code",
      "source": [
        "grid = np.array([[1, 2, 3],\n",
        "                [4, 5, 6]])\n",
        "np.concatenate([grid, grid])"
      ],
      "metadata": {
        "colab": {
          "base_uri": "https://localhost:8080/"
        },
        "id": "Z0Cq70ftecqu",
        "outputId": "359d3d80-980e-48d8-fd23-b604696b9943"
      },
      "execution_count": 33,
      "outputs": [
        {
          "output_type": "execute_result",
          "data": {
            "text/plain": [
              "array([[1, 2, 3],\n",
              "       [4, 5, 6],\n",
              "       [1, 2, 3],\n",
              "       [4, 5, 6]])"
            ]
          },
          "metadata": {},
          "execution_count": 33
        }
      ]
    },
    {
      "cell_type": "code",
      "source": [
        "x = np.array([7, 8, 9])\n",
        "np.vstack([x, grid]) #vertical stacking the previous arrray onto the new array"
      ],
      "metadata": {
        "colab": {
          "base_uri": "https://localhost:8080/"
        },
        "id": "0A1PgdDJe9n0",
        "outputId": "28c1bb6f-b52f-478c-fc4d-2f6181a5551f"
      },
      "execution_count": 34,
      "outputs": [
        {
          "output_type": "execute_result",
          "data": {
            "text/plain": [
              "array([[7, 8, 9],\n",
              "       [1, 2, 3],\n",
              "       [4, 5, 6]])"
            ]
          },
          "metadata": {},
          "execution_count": 34
        }
      ]
    },
    {
      "cell_type": "code",
      "source": [
        "x = [0, 1, 2, 3, 4, 5, 6, 7, 8, 9]\n",
        "x1, x2 = np.split(x, [3]) #splitting the array\n",
        "print(x1, x2)"
      ],
      "metadata": {
        "colab": {
          "base_uri": "https://localhost:8080/"
        },
        "id": "33p9peCQfOfz",
        "outputId": "f94aba68-9dca-4db2-d028-d4a18b6b0023"
      },
      "execution_count": 35,
      "outputs": [
        {
          "output_type": "stream",
          "name": "stdout",
          "text": [
            "[0 1 2] [3 4 5 6 7 8 9]\n"
          ]
        }
      ]
    },
    {
      "cell_type": "code",
      "source": [
        "np.random.seed(0)\n",
        "Q8 = np.random.randint(48,86, size = 50)\n",
        "Q8 = np.mean(Q8) #calculating the mean of the values"
      ],
      "metadata": {
        "id": "4Ycw_RcAjKjK"
      },
      "execution_count": 36,
      "outputs": []
    },
    {
      "cell_type": "code",
      "source": [
        "name = ['Jonathan Loaisiga', \"Nick Saban\", 'Katie Ladecky']\n",
        "occupation = ['Baseball player', 'Football coach', 'Swimmer']\n",
        "salary = [595800.00, 8619934.23, 100000.00]  #creating lists to use in df"
      ],
      "metadata": {
        "id": "Ef6xqOxckMIg"
      },
      "execution_count": 37,
      "outputs": []
    },
    {
      "cell_type": "code",
      "source": [
        "Q6 = np.zeros(3, dtype = {'names' :('name', 'occupation', 'salary'),\n",
        "                            'formats' :('U20', 'U20', 'f8')})\n",
        "#creatign structured arrays with specific data type using the dtype parameter\n",
        "print(Q6.dtype)"
      ],
      "metadata": {
        "colab": {
          "base_uri": "https://localhost:8080/"
        },
        "id": "9_MeLYi5lMbY",
        "outputId": "f9cf31d3-7671-4fdd-8f3d-3f95c3be5e91"
      },
      "execution_count": 38,
      "outputs": [
        {
          "output_type": "stream",
          "name": "stdout",
          "text": [
            "[('name', '<U20'), ('occupation', '<U20'), ('salary', '<f8')]\n"
          ]
        }
      ]
    },
    {
      "cell_type": "code",
      "source": [
        "Q6['name'] = name\n",
        "Q6['occupation'] = occupation\n",
        "Q6['salary'] = salary\n",
        "#assignig corresponding fileds in the structured arrays which contains the data within the lists\n",
        "print(Q6)"
      ],
      "metadata": {
        "colab": {
          "base_uri": "https://localhost:8080/"
        },
        "id": "Yu2KcUzJBDxS",
        "outputId": "58927bca-66bf-4d5d-f975-4341e6db8e4a"
      },
      "execution_count": 39,
      "outputs": [
        {
          "output_type": "stream",
          "name": "stdout",
          "text": [
            "[('Jonathan Loaisiga', 'Baseball player',  595800.  )\n",
            " ('Nick Saban', 'Football coach', 8619934.23)\n",
            " ('Katie Ladecky', 'Swimmer',  100000.  )]\n"
          ]
        }
      ]
    },
    {
      "cell_type": "code",
      "source": [
        "q1 = {\n",
        "    \"One\": \"A\",\n",
        "    \"Two\": \"B\",\n",
        "    \"Three\": \"C\",\n",
        "    \"Four\": \"D\"\n",
        "}\n",
        "#creating a dictionary with Keys and mapping their corresponding value\n",
        "print(q1[\"Four\"])"
      ],
      "metadata": {
        "colab": {
          "base_uri": "https://localhost:8080/"
        },
        "id": "sAMW_0CtQ7X5",
        "outputId": "dedf1ba9-75b6-4293-ec3f-6b7a1848f13d"
      },
      "execution_count": 44,
      "outputs": [
        {
          "output_type": "stream",
          "name": "stdout",
          "text": [
            "D\n"
          ]
        }
      ]
    },
    {
      "cell_type": "code",
      "source": [
        "def Q6(q1):\n",
        "  for i in q1:\n",
        "    #printing the key in a dictionary\n",
        "    print(i)\n",
        "Q6(q1)"
      ],
      "metadata": {
        "colab": {
          "base_uri": "https://localhost:8080/"
        },
        "id": "hTKp8MDDQpLu",
        "outputId": "74305284-9afd-4ba4-b2f9-e66c45c9f98e"
      },
      "execution_count": 45,
      "outputs": [
        {
          "output_type": "stream",
          "name": "stdout",
          "text": [
            "One\n",
            "Two\n",
            "Three\n",
            "Four\n"
          ]
        }
      ]
    },
    {
      "cell_type": "code",
      "source": [
        "def Q5(q1):\n",
        "  for i in q1:\n",
        "    #printing the value in a dictionary\n",
        "    print(q1[i])\n",
        "Q5(q1)"
      ],
      "metadata": {
        "colab": {
          "base_uri": "https://localhost:8080/"
        },
        "id": "iwq-H9LpQwl3",
        "outputId": "c4d6432b-d200-4179-d456-d94b5f0c1c5d"
      },
      "execution_count": 46,
      "outputs": [
        {
          "output_type": "stream",
          "name": "stdout",
          "text": [
            "A\n",
            "B\n",
            "C\n",
            "D\n"
          ]
        }
      ]
    },
    {
      "cell_type": "code",
      "source": [
        "x = np.arange(10)\n",
        "\n",
        "i = np.array([2, 1, 8, 4])\n",
        "x[i] = 99\n",
        "#updating indices and replacing its value to random number\n",
        "print(x)"
      ],
      "metadata": {
        "colab": {
          "base_uri": "https://localhost:8080/"
        },
        "id": "AXTSQ9VMbl2v",
        "outputId": "0c66809a-c787-42e8-9f0b-685f9c9b1867"
      },
      "execution_count": 47,
      "outputs": [
        {
          "output_type": "stream",
          "name": "stdout",
          "text": [
            "[ 0 99 99  3 99  5  6  7 99  9]\n"
          ]
        }
      ]
    },
    {
      "cell_type": "code",
      "source": [
        "np.random.seed(1)\n",
        "x = np.random.randint(10, size = (4,4))\n",
        "print(x)\n",
        "\n",
        "x[1:3, 0:3]"
      ],
      "metadata": {
        "colab": {
          "base_uri": "https://localhost:8080/"
        },
        "id": "SQi4hT1KdLT9",
        "outputId": "d60ea55f-ca16-4f2e-cb51-e3e2438e0119"
      },
      "execution_count": 50,
      "outputs": [
        {
          "output_type": "stream",
          "name": "stdout",
          "text": [
            "[[5 8 9 5]\n",
            " [0 0 1 7]\n",
            " [6 9 2 4]\n",
            " [5 2 4 2]]\n"
          ]
        },
        {
          "output_type": "execute_result",
          "data": {
            "text/plain": [
              "array([[0, 0, 1],\n",
              "       [6, 9, 2]])"
            ]
          },
          "metadata": {},
          "execution_count": 50
        }
      ]
    },
    {
      "cell_type": "code",
      "source": [
        "np.random.seed(1)\n",
        "x = np.random.randint(10, size = (4, 4))\n",
        "print(x)\n",
        "#selecting rows 1 and 2 and colums 0-2 to create subarray\n",
        "x[1:3, 0:3]"
      ],
      "metadata": {
        "id": "TkovE6MOgWQq",
        "colab": {
          "base_uri": "https://localhost:8080/"
        },
        "outputId": "2f8bd76e-d1e4-4f07-bd7b-f9f300582a63"
      },
      "execution_count": 51,
      "outputs": [
        {
          "output_type": "stream",
          "name": "stdout",
          "text": [
            "[[5 8 9 5]\n",
            " [0 0 1 7]\n",
            " [6 9 2 4]\n",
            " [5 2 4 2]]\n"
          ]
        },
        {
          "output_type": "execute_result",
          "data": {
            "text/plain": [
              "array([[0, 0, 1],\n",
              "       [6, 9, 2]])"
            ]
          },
          "metadata": {},
          "execution_count": 51
        }
      ]
    },
    {
      "cell_type": "code",
      "source": [
        "x = np.array([0, 1, 2, 3, 4, 5, 6, 7, 8, 9])\n",
        "x[3:6]"
      ],
      "metadata": {
        "colab": {
          "base_uri": "https://localhost:8080/"
        },
        "id": "morA42Vkh8MH",
        "outputId": "51811a27-47fb-45c6-fad9-6a0a40a355ae"
      },
      "execution_count": 52,
      "outputs": [
        {
          "output_type": "execute_result",
          "data": {
            "text/plain": [
              "array([3, 4, 5])"
            ]
          },
          "metadata": {},
          "execution_count": 52
        }
      ]
    }
  ]
}