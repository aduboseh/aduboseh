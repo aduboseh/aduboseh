{
  "nbformat": 4,
  "nbformat_minor": 0,
  "metadata": {
    "colab": {
      "provenance": []
    },
    "kernelspec": {
      "name": "python3",
      "display_name": "Python 3"
    },
    "language_info": {
      "name": "python"
    }
  },
  "cells": [
    {
      "cell_type": "code",
      "execution_count": 1,
      "metadata": {
        "id": "VgX7Vhd-k2cR"
      },
      "outputs": [],
      "source": [
        "import numpy as np\n",
        "import pandas as pd"
      ]
    },
    {
      "cell_type": "code",
      "source": [
        "index = [('One', 1),('One', 2),\n",
        "         ('Two', 1), ('Two', 2),\n",
        "         ('Three', 1), ('Three', 2)]\n",
        "digits = [11, 111,\n",
        "               22, 222,\n",
        "               33, 333]\n",
        "Q1 = pd.Series(digits, index=index)\n",
        "#creaing a series from the dictionary above\n",
        "index = pd.MultiIndex.from_tuples(index)\n",
        "#creating a multi dimensional index from tuples of the index created above\n",
        "Q1 = Q1.reindex(index)\n",
        "#reindexing to created a stacked list\n",
        "Q1.index.names = ['Words', 'Numbers']\n",
        "# naming indexes for ease of use"
      ],
      "metadata": {
        "id": "6J42AS5g2olg"
      },
      "execution_count": 2,
      "outputs": []
    },
    {
      "cell_type": "code",
      "source": [
        "Q2 = Q1['Three']"
      ],
      "metadata": {
        "id": "P_NJlXN25Uva"
      },
      "execution_count": 3,
      "outputs": []
    },
    {
      "cell_type": "code",
      "source": [
        "Q3 = Q1[:,2]"
      ],
      "metadata": {
        "id": "RJ_e3Nl05x8R"
      },
      "execution_count": 4,
      "outputs": []
    },
    {
      "cell_type": "code",
      "source": [
        "Q4 = Q1.unstack()"
      ],
      "metadata": {
        "id": "7mFWvESsuhbX"
      },
      "execution_count": 5,
      "outputs": []
    },
    {
      "cell_type": "code",
      "source": [
        "Q5 = Q4.sum()"
      ],
      "metadata": {
        "id": "Z35pgox26eFW"
      },
      "execution_count": 6,
      "outputs": []
    },
    {
      "cell_type": "code",
      "source": [
        "np.random.seed(12)\n",
        "Q6 = pd.DataFrame(np.random.randint(9, size= (6, 2)),\n",
        "                  index = [['a', 'b', 'a', 'b', 'a', 'b'], [1, 2, 3, 1, 2, 3]],\n",
        "                  columns = ['A', 'B'])\n",
        "#creating a pandas dataframe usining numpys random intergers with a random seed of 12"
      ],
      "metadata": {
        "id": "pcTkvea_vBVV"
      },
      "execution_count": 7,
      "outputs": []
    },
    {
      "cell_type": "code",
      "source": [
        "index = pd.MultiIndex.from_product([['ONE', 'TWO', 'THREE'], ['one', 'two']],\n",
        "                                   names = ['NUMBER', 'number'])\n",
        "columns = pd.MultiIndex.from_product([['A', 'B'], ['a', 'b', 'c', 'd']],\n",
        "                                     names =['LETTER', 'letter'])\n",
        "#using multiindex from_product to create labels for the column and index names\n",
        "np.random.seed(12)\n",
        "data = np.random.randint(20, size = (6, 8))\n",
        "Q7 = pd.DataFrame(data, index=index, columns=columns)"
      ],
      "metadata": {
        "id": "rQ-0uIwSym_D"
      },
      "execution_count": 8,
      "outputs": []
    },
    {
      "cell_type": "code",
      "source": [
        "Q8 = Q7.iloc[:, :4].copy().droplevel(level=0, axis =1)\n",
        "#slicing DF and dropping level 0"
      ],
      "metadata": {
        "id": "oEnKUurH6XJi"
      },
      "execution_count": 9,
      "outputs": []
    },
    {
      "cell_type": "code",
      "source": [
        "A = pd.Series([7, 8, 9, 10], index=['ONE', 'TWO','THREE','FOUR'])\n",
        "\n",
        "B = pd.Series([11, 12, 13, 14], index=['THREE', 'FOUR','FIVE','SIX'])"
      ],
      "metadata": {
        "id": "sNyni7kgNqLG"
      },
      "execution_count": 35,
      "outputs": []
    },
    {
      "cell_type": "code",
      "source": [
        "Q9 = pd.concat([A, B], axis = 1)\n",
        "Q9"
      ],
      "metadata": {
        "id": "8Hi3ekprjQYd"
      },
      "execution_count": null,
      "outputs": []
    },
    {
      "cell_type": "code",
      "source": [
        "Q10 = pd.concat([A, B])"
      ],
      "metadata": {
        "id": "VE0m5SRDjNlj"
      },
      "execution_count": 55,
      "outputs": []
    },
    {
      "cell_type": "code",
      "source": [
        "Q11 = pd.concat([A,B], keys= ['A', 'B'])\n",
        "#using the key function to add values to row side"
      ],
      "metadata": {
        "id": "noucjW_teo18"
      },
      "execution_count": null,
      "outputs": []
    },
    {
      "cell_type": "code",
      "source": [
        "A = pd.Series([7, 8, 9, 10], index=['ONE', 'TWO','THREE','FOUR'])\n",
        "B = pd.Series([11, 12, 13, 14], index=['THREE', 'FOUR','FIVE','SIX'])\n",
        "C = pd.Series([15, 16], index = ['SEVEN', 'EIGHT'])\n",
        "\n",
        "df_A = pd.DataFrame(A, columns = ['A'])\n",
        "df_B = pd.DataFrame(B, columns = ['B'])\n",
        "df_C = pd.DataFrame(C, columns = ['C'])\n",
        "\n",
        "Q12 = pd.concat([df_A, df_B, df_C], sort = False)"
      ],
      "metadata": {
        "id": "4evWtHhTjGTD"
      },
      "execution_count": null,
      "outputs": []
    }
  ]
}