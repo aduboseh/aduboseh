{
  "nbformat": 4,
  "nbformat_minor": 0,
  "metadata": {
    "colab": {
      "provenance": [],
      "authorship_tag": "ABX9TyMUB0n59dE307iPMqZI8u8r",
      "include_colab_link": true
    },
    "kernelspec": {
      "name": "python3",
      "display_name": "Python 3"
    },
    "language_info": {
      "name": "python"
    }
  },
  "cells": [
    {
      "cell_type": "markdown",
      "metadata": {
        "id": "view-in-github",
        "colab_type": "text"
      },
      "source": [
        "<a href=\"https://colab.research.google.com/github/aduboseh/aduboseh/blob/main/IntroPythonA2credit.ipynb\" target=\"_parent\"><img src=\"https://colab.research.google.com/assets/colab-badge.svg\" alt=\"Open In Colab\"/></a>"
      ]
    },
    {
      "cell_type": "code",
      "execution_count": null,
      "metadata": {
        "id": "bgBTVikk3Awh"
      },
      "outputs": [],
      "source": [
        "Q1 = \"Data Science for all!\""
      ]
    },
    {
      "cell_type": "code",
      "source": [
        "def Q2():\n",
        "  Q1 = \"Data Science for all!\"\n",
        "  for word in Q1:\n",
        "    print(word)\n",
        "Q2()"
      ],
      "metadata": {
        "id": "VULdBOJm3Xlv"
      },
      "execution_count": null,
      "outputs": []
    },
    {
      "cell_type": "code",
      "source": [
        "def Q3():\n",
        "  Q1 = \"Data 'Science' for 'all!\"\n",
        "  words = Q1.split()\n",
        "  for word in words:\n",
        "    for char in word:\n",
        "      print('A')\n",
        "Q3()"
      ],
      "metadata": {
        "id": "DQAnV8eW3r8Y"
      },
      "execution_count": null,
      "outputs": []
    },
    {
      "cell_type": "code",
      "source": [
        "Q4 = [\"DTSC 520\", \"DTSC 550\", \"DTSC 575\", \"DTSC 600\",\"DTSC 650\"]"
      ],
      "metadata": {
        "id": "UkatpYpF4hus"
      },
      "execution_count": null,
      "outputs": []
    },
    {
      "cell_type": "code",
      "source": [
        "def Q5():\n",
        "  Q4 = [\"DTSC 520\", \"DTSC 550\", \"DTSC 575\", \"DTSC 600\",\"DTSC 650\"]\n",
        "  for classes in Q4:\n",
        "    print(classes)\n",
        "Q5()\n",
        "\n"
      ],
      "metadata": {
        "id": "5Fgqtf9m5ivM"
      },
      "execution_count": null,
      "outputs": []
    },
    {
      "cell_type": "code",
      "source": [
        "def Q6():\n",
        "  a = 2\n",
        "  while a <= 50:\n",
        "    print(a)\n",
        "    a += a\n",
        "Q6()"
      ],
      "metadata": {
        "id": "IIjRMt43yX1t"
      },
      "execution_count": null,
      "outputs": []
    },
    {
      "cell_type": "code",
      "source": [
        "Q7 = [2,3,5,7,11,13,17,19,23,29]\n"
      ],
      "metadata": {
        "id": "Vat2std-9uw8"
      },
      "execution_count": null,
      "outputs": []
    },
    {
      "cell_type": "code",
      "source": [
        "def Q8():\n",
        "  Q7 = \"2,3,5,7,11,13,17,19,23,29\"\n",
        "  numbers = [2,3,5,7,11,13,17,19,23,29]\n",
        "  return(sum(numbers))\n",
        "Q8()"
      ],
      "metadata": {
        "id": "xpPNGfGM-Gm_",
        "colab": {
          "base_uri": "https://localhost:8080/"
        },
        "outputId": "afe7f4e0-77f5-4ea5-c693-7f156cf71d87"
      },
      "execution_count": null,
      "outputs": [
        {
          "output_type": "execute_result",
          "data": {
            "text/plain": [
              "129"
            ]
          },
          "metadata": {},
          "execution_count": 77
        }
      ]
    },
    {
      "cell_type": "code",
      "source": [],
      "metadata": {
        "id": "jILyCjw1j0KL"
      },
      "execution_count": null,
      "outputs": []
    }
  ]
}