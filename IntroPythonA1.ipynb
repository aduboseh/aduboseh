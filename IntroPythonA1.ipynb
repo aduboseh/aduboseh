{
  "nbformat": 4,
  "nbformat_minor": 0,
  "metadata": {
    "colab": {
      "provenance": [],
      "authorship_tag": "ABX9TyNqAi5118maf9J+eg2ljBu7",
      "include_colab_link": true
    },
    "kernelspec": {
      "name": "python3",
      "display_name": "Python 3"
    },
    "language_info": {
      "name": "python"
    }
  },
  "cells": [
    {
      "cell_type": "markdown",
      "metadata": {
        "id": "view-in-github",
        "colab_type": "text"
      },
      "source": [
        "<a href=\"https://colab.research.google.com/github/aduboseh/aduboseh/blob/main/IntroPythonA1.ipynb\" target=\"_parent\"><img src=\"https://colab.research.google.com/assets/colab-badge.svg\" alt=\"Open In Colab\"/></a>"
      ]
    },
    {
      "cell_type": "code",
      "source": [
        "Q1 = ['Welcome to EU!']\n",
        "Q2 = Q1[11:14]\n",
        "Q3 = Q1[5:11]\n",
        "Q4 = [\"Eric Camacho, Elmer Felicitas, Shankar Lucrece, Gitta Nevena, Rasmus Tarquinius\"]\n",
        "Q5 = [\"7,'7','Seven', 7.0\"]\n",
        "Q6 = Q4[3:5]\n",
        "Q7 = Q5[1:3]\n",
        "mylist = [4, 8, 11, 3, 19, 2, 5, 8, 12, 9]\n",
        "Q8 = mylist[0:3]\n",
        "Q9 = mylist[7:10]\n",
        "Q10 = mylist[2:6]\n",
        "Q11 = mylist[5:7]\n"
      ],
      "metadata": {
        "id": "CncxqGEAJX7Z"
      },
      "execution_count": 34,
      "outputs": []
    }
  ]
}