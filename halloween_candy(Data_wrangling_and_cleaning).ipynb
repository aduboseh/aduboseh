{
  "cells": [
    {
      "cell_type": "markdown",
      "metadata": {
        "id": "pbGPNJUzi6jX"
      },
      "source": [
        "\n",
        "\n",
        "## Assignment:  Halloween Candy\n",
        "\n",
        "### Name: Armonti Du-Bose-Hill\n",
        "\n",
        "## Overview\n",
        "\n",
        "Data cleaning and data wrangling from a survey of Halloween candy to prepare it for a machine learning project.\n",
        "\n",
        "## Data Set\n",
        "\n",
        "The data set that we will be using is the 2017 Halloween Candy Hierarchy data set as discussed in this [boingboing](https://boingboing.net/2017/10/30/the-2017-halloween-candy-hiera.html) article.  You can also read more about the data in the [Science Creative Quarterly](https://www.scq.ubc.ca/so-much-candy-data-seriously/).\n",
        "\n",
        "The following are the rating instructions from the survey:  \n",
        "\n",
        "> Basically, consider that feeling you get when you receive this item in your Halloween haul. Does it make you really happy (JOY)? Or is it something that you automatically place in the junk pile (DESPAIR)? MEH for indifference, and you can leave blank if you have no idea what the item is.\n",
        "\n",
        "This data is a great example of a messy data set, especially since they allowed respondents to enter text for a number of the fields. Also, note that some of the comments in the file might be considered inappropriate to some readers but cleaning this type of data is normal in a lot of data science projects.\n",
        "\n",
        "## Note\n",
        "\n",
        "<u>Show Work</u>\n",
        "\n",
        "For example, if the answer to Q1, the mean of a specific column, is 22:\n",
        "```\n",
        "# correct way\n",
        "Q1 = df['column_name'].mean()\n",
        "\n",
        "# incorrect way\n",
        "Q1 = 22\n",
        "```\n",
        "\n",
        "## Our End Goal\n",
        "\n",
        "Our end goal for this project is to clean the data so that we could then create a machine learning model. We want to see if we are able to predict a person's gender based purely on their candy preferences.\n",
        "\n",
        "## Initial Import & Exploration"
      ]
    },
    {
      "cell_type": "code",
      "execution_count": 1,
      "metadata": {
        "id": "v7Nk5vE6i6jY"
      },
      "outputs": [],
      "source": [
        "# initial imports\n",
        "import pandas as pd\n",
        "import numpy as np\n",
        "\n",
        "# Do not change this option; This allows the CodeGrade auto grading to function correctly\n",
        "pd.set_option('display.max_columns', 20)\n",
        "import warnings\n",
        "warnings.filterwarnings(\"ignore\")"
      ]
    },
    {
      "cell_type": "markdown",
      "metadata": {
        "id": "U8DlVZmui6jZ"
      },
      "source": [
        "***Import the data and create a DataFrame called `candy`.  We need to include `encoding='iso-8859-1'` during the import because there are special characters in the data that Pandas doesn't recognize. This happens a lot when attempting to import data where the public is able to input answers, especially if there are foreign language characters included. The normal encoding for Pandas is `utf-8`, so changing the encoding allows Pandas to recognize those special characters."
      ]
    },
    {
      "cell_type": "code",
      "execution_count": 2,
      "metadata": {
        "id": "AjrJIX66i6jZ"
      },
      "outputs": [],
      "source": [
        "# read_csv with iso-8859-1 encoding; using latin-1 would also work here\n",
        "candy_full = pd.read_csv('candy.csv', encoding='iso-8859-1')\n",
        "\n",
        "# copy to new DF so that we can have a copy of the original import if needed\n",
        "candy = candy_full.copy()"
      ]
    },
    {
      "cell_type": "markdown",
      "metadata": {
        "id": "cIduBNaYi6jZ"
      },
      "source": [
        "Take a brief look at the data."
      ]
    },
    {
      "cell_type": "code",
      "execution_count": 3,
      "metadata": {
        "colab": {
          "base_uri": "https://localhost:8080/",
          "height": 516
        },
        "id": "YesrfLkEi6jZ",
        "outputId": "bba730d9-cbf7-46e9-e798-aa9c77ca7d21"
      },
      "outputs": [
        {
          "output_type": "execute_result",
          "data": {
            "text/plain": [
              "   Internal ID Q1: GOING OUT? Q2: GENDER Q3: AGE Q4: COUNTRY  \\\n",
              "0     90258773            NaN        NaN     NaN         NaN   \n",
              "1     90272821             No       Male      44        USA    \n",
              "2     90272829            NaN       Male      49         USA   \n",
              "3     90272840             No       Male      40          us   \n",
              "4     90272841             No       Male      23         usa   \n",
              "\n",
              "  Q5: STATE, PROVINCE, COUNTY, ETC Q6 | 100 Grand Bar  \\\n",
              "0                              NaN                NaN   \n",
              "1                               NM                MEH   \n",
              "2                         Virginia                NaN   \n",
              "3                               or                MEH   \n",
              "4                         exton pa                JOY   \n",
              "\n",
              "  Q6 | Anonymous brown globs that come in black and orange wrappers\\t(a.k.a. Mary Janes)  \\\n",
              "0                                                NaN                                       \n",
              "1                                            DESPAIR                                       \n",
              "2                                                NaN                                       \n",
              "3                                            DESPAIR                                       \n",
              "4                                            DESPAIR                                       \n",
              "\n",
              "  Q6 | Any full-sized candy bar Q6 | Black Jacks  ... Q8: DESPAIR OTHER  \\\n",
              "0                           NaN              NaN  ...               NaN   \n",
              "1                           JOY              MEH  ...               NaN   \n",
              "2                           NaN              NaN  ...               NaN   \n",
              "3                           JOY              MEH  ...               NaN   \n",
              "4                           JOY          DESPAIR  ...               NaN   \n",
              "\n",
              "                                  Q9: OTHER COMMENTS      Q10: DRESS  \\\n",
              "0                                                NaN             NaN   \n",
              "1  Bottom line is Twix is really the only candy w...  White and gold   \n",
              "2                                                NaN             NaN   \n",
              "3                             Raisins can go to hell  White and gold   \n",
              "4                                                NaN  White and gold   \n",
              "\n",
              "  Unnamed: 113 Q11: DAY Q12: MEDIA [Daily Dish] Q12: MEDIA [Science]  \\\n",
              "0          NaN      NaN                     NaN                  NaN   \n",
              "1          NaN   Sunday                     NaN                  1.0   \n",
              "2          NaN      NaN                     NaN                  NaN   \n",
              "3          NaN   Sunday                     NaN                  1.0   \n",
              "4          NaN   Friday                     NaN                  1.0   \n",
              "\n",
              "  Q12: MEDIA [ESPN] Q12: MEDIA [Yahoo] Click Coordinates (x, y)  \n",
              "0               NaN                NaN                      NaN  \n",
              "1               NaN                NaN                 (84, 25)  \n",
              "2               NaN                NaN                      NaN  \n",
              "3               NaN                NaN                 (75, 23)  \n",
              "4               NaN                NaN                 (70, 10)  \n",
              "\n",
              "[5 rows x 120 columns]"
            ],
            "text/html": [
              "\n",
              "  <div id=\"df-4d1ac52e-5f52-4f66-9c67-d7050665d558\" class=\"colab-df-container\">\n",
              "    <div>\n",
              "<style scoped>\n",
              "    .dataframe tbody tr th:only-of-type {\n",
              "        vertical-align: middle;\n",
              "    }\n",
              "\n",
              "    .dataframe tbody tr th {\n",
              "        vertical-align: top;\n",
              "    }\n",
              "\n",
              "    .dataframe thead th {\n",
              "        text-align: right;\n",
              "    }\n",
              "</style>\n",
              "<table border=\"1\" class=\"dataframe\">\n",
              "  <thead>\n",
              "    <tr style=\"text-align: right;\">\n",
              "      <th></th>\n",
              "      <th>Internal ID</th>\n",
              "      <th>Q1: GOING OUT?</th>\n",
              "      <th>Q2: GENDER</th>\n",
              "      <th>Q3: AGE</th>\n",
              "      <th>Q4: COUNTRY</th>\n",
              "      <th>Q5: STATE, PROVINCE, COUNTY, ETC</th>\n",
              "      <th>Q6 | 100 Grand Bar</th>\n",
              "      <th>Q6 | Anonymous brown globs that come in black and orange wrappers\\t(a.k.a. Mary Janes)</th>\n",
              "      <th>Q6 | Any full-sized candy bar</th>\n",
              "      <th>Q6 | Black Jacks</th>\n",
              "      <th>...</th>\n",
              "      <th>Q8: DESPAIR OTHER</th>\n",
              "      <th>Q9: OTHER COMMENTS</th>\n",
              "      <th>Q10: DRESS</th>\n",
              "      <th>Unnamed: 113</th>\n",
              "      <th>Q11: DAY</th>\n",
              "      <th>Q12: MEDIA [Daily Dish]</th>\n",
              "      <th>Q12: MEDIA [Science]</th>\n",
              "      <th>Q12: MEDIA [ESPN]</th>\n",
              "      <th>Q12: MEDIA [Yahoo]</th>\n",
              "      <th>Click Coordinates (x, y)</th>\n",
              "    </tr>\n",
              "  </thead>\n",
              "  <tbody>\n",
              "    <tr>\n",
              "      <th>0</th>\n",
              "      <td>90258773</td>\n",
              "      <td>NaN</td>\n",
              "      <td>NaN</td>\n",
              "      <td>NaN</td>\n",
              "      <td>NaN</td>\n",
              "      <td>NaN</td>\n",
              "      <td>NaN</td>\n",
              "      <td>NaN</td>\n",
              "      <td>NaN</td>\n",
              "      <td>NaN</td>\n",
              "      <td>...</td>\n",
              "      <td>NaN</td>\n",
              "      <td>NaN</td>\n",
              "      <td>NaN</td>\n",
              "      <td>NaN</td>\n",
              "      <td>NaN</td>\n",
              "      <td>NaN</td>\n",
              "      <td>NaN</td>\n",
              "      <td>NaN</td>\n",
              "      <td>NaN</td>\n",
              "      <td>NaN</td>\n",
              "    </tr>\n",
              "    <tr>\n",
              "      <th>1</th>\n",
              "      <td>90272821</td>\n",
              "      <td>No</td>\n",
              "      <td>Male</td>\n",
              "      <td>44</td>\n",
              "      <td>USA</td>\n",
              "      <td>NM</td>\n",
              "      <td>MEH</td>\n",
              "      <td>DESPAIR</td>\n",
              "      <td>JOY</td>\n",
              "      <td>MEH</td>\n",
              "      <td>...</td>\n",
              "      <td>NaN</td>\n",
              "      <td>Bottom line is Twix is really the only candy w...</td>\n",
              "      <td>White and gold</td>\n",
              "      <td>NaN</td>\n",
              "      <td>Sunday</td>\n",
              "      <td>NaN</td>\n",
              "      <td>1.0</td>\n",
              "      <td>NaN</td>\n",
              "      <td>NaN</td>\n",
              "      <td>(84, 25)</td>\n",
              "    </tr>\n",
              "    <tr>\n",
              "      <th>2</th>\n",
              "      <td>90272829</td>\n",
              "      <td>NaN</td>\n",
              "      <td>Male</td>\n",
              "      <td>49</td>\n",
              "      <td>USA</td>\n",
              "      <td>Virginia</td>\n",
              "      <td>NaN</td>\n",
              "      <td>NaN</td>\n",
              "      <td>NaN</td>\n",
              "      <td>NaN</td>\n",
              "      <td>...</td>\n",
              "      <td>NaN</td>\n",
              "      <td>NaN</td>\n",
              "      <td>NaN</td>\n",
              "      <td>NaN</td>\n",
              "      <td>NaN</td>\n",
              "      <td>NaN</td>\n",
              "      <td>NaN</td>\n",
              "      <td>NaN</td>\n",
              "      <td>NaN</td>\n",
              "      <td>NaN</td>\n",
              "    </tr>\n",
              "    <tr>\n",
              "      <th>3</th>\n",
              "      <td>90272840</td>\n",
              "      <td>No</td>\n",
              "      <td>Male</td>\n",
              "      <td>40</td>\n",
              "      <td>us</td>\n",
              "      <td>or</td>\n",
              "      <td>MEH</td>\n",
              "      <td>DESPAIR</td>\n",
              "      <td>JOY</td>\n",
              "      <td>MEH</td>\n",
              "      <td>...</td>\n",
              "      <td>NaN</td>\n",
              "      <td>Raisins can go to hell</td>\n",
              "      <td>White and gold</td>\n",
              "      <td>NaN</td>\n",
              "      <td>Sunday</td>\n",
              "      <td>NaN</td>\n",
              "      <td>1.0</td>\n",
              "      <td>NaN</td>\n",
              "      <td>NaN</td>\n",
              "      <td>(75, 23)</td>\n",
              "    </tr>\n",
              "    <tr>\n",
              "      <th>4</th>\n",
              "      <td>90272841</td>\n",
              "      <td>No</td>\n",
              "      <td>Male</td>\n",
              "      <td>23</td>\n",
              "      <td>usa</td>\n",
              "      <td>exton pa</td>\n",
              "      <td>JOY</td>\n",
              "      <td>DESPAIR</td>\n",
              "      <td>JOY</td>\n",
              "      <td>DESPAIR</td>\n",
              "      <td>...</td>\n",
              "      <td>NaN</td>\n",
              "      <td>NaN</td>\n",
              "      <td>White and gold</td>\n",
              "      <td>NaN</td>\n",
              "      <td>Friday</td>\n",
              "      <td>NaN</td>\n",
              "      <td>1.0</td>\n",
              "      <td>NaN</td>\n",
              "      <td>NaN</td>\n",
              "      <td>(70, 10)</td>\n",
              "    </tr>\n",
              "  </tbody>\n",
              "</table>\n",
              "<p>5 rows × 120 columns</p>\n",
              "</div>\n",
              "    <div class=\"colab-df-buttons\">\n",
              "\n",
              "  <div class=\"colab-df-container\">\n",
              "    <button class=\"colab-df-convert\" onclick=\"convertToInteractive('df-4d1ac52e-5f52-4f66-9c67-d7050665d558')\"\n",
              "            title=\"Convert this dataframe to an interactive table.\"\n",
              "            style=\"display:none;\">\n",
              "\n",
              "  <svg xmlns=\"http://www.w3.org/2000/svg\" height=\"24px\" viewBox=\"0 -960 960 960\">\n",
              "    <path d=\"M120-120v-720h720v720H120Zm60-500h600v-160H180v160Zm220 220h160v-160H400v160Zm0 220h160v-160H400v160ZM180-400h160v-160H180v160Zm440 0h160v-160H620v160ZM180-180h160v-160H180v160Zm440 0h160v-160H620v160Z\"/>\n",
              "  </svg>\n",
              "    </button>\n",
              "\n",
              "  <style>\n",
              "    .colab-df-container {\n",
              "      display:flex;\n",
              "      gap: 12px;\n",
              "    }\n",
              "\n",
              "    .colab-df-convert {\n",
              "      background-color: #E8F0FE;\n",
              "      border: none;\n",
              "      border-radius: 50%;\n",
              "      cursor: pointer;\n",
              "      display: none;\n",
              "      fill: #1967D2;\n",
              "      height: 32px;\n",
              "      padding: 0 0 0 0;\n",
              "      width: 32px;\n",
              "    }\n",
              "\n",
              "    .colab-df-convert:hover {\n",
              "      background-color: #E2EBFA;\n",
              "      box-shadow: 0px 1px 2px rgba(60, 64, 67, 0.3), 0px 1px 3px 1px rgba(60, 64, 67, 0.15);\n",
              "      fill: #174EA6;\n",
              "    }\n",
              "\n",
              "    .colab-df-buttons div {\n",
              "      margin-bottom: 4px;\n",
              "    }\n",
              "\n",
              "    [theme=dark] .colab-df-convert {\n",
              "      background-color: #3B4455;\n",
              "      fill: #D2E3FC;\n",
              "    }\n",
              "\n",
              "    [theme=dark] .colab-df-convert:hover {\n",
              "      background-color: #434B5C;\n",
              "      box-shadow: 0px 1px 3px 1px rgba(0, 0, 0, 0.15);\n",
              "      filter: drop-shadow(0px 1px 2px rgba(0, 0, 0, 0.3));\n",
              "      fill: #FFFFFF;\n",
              "    }\n",
              "  </style>\n",
              "\n",
              "    <script>\n",
              "      const buttonEl =\n",
              "        document.querySelector('#df-4d1ac52e-5f52-4f66-9c67-d7050665d558 button.colab-df-convert');\n",
              "      buttonEl.style.display =\n",
              "        google.colab.kernel.accessAllowed ? 'block' : 'none';\n",
              "\n",
              "      async function convertToInteractive(key) {\n",
              "        const element = document.querySelector('#df-4d1ac52e-5f52-4f66-9c67-d7050665d558');\n",
              "        const dataTable =\n",
              "          await google.colab.kernel.invokeFunction('convertToInteractive',\n",
              "                                                    [key], {});\n",
              "        if (!dataTable) return;\n",
              "\n",
              "        const docLinkHtml = 'Like what you see? Visit the ' +\n",
              "          '<a target=\"_blank\" href=https://colab.research.google.com/notebooks/data_table.ipynb>data table notebook</a>'\n",
              "          + ' to learn more about interactive tables.';\n",
              "        element.innerHTML = '';\n",
              "        dataTable['output_type'] = 'display_data';\n",
              "        await google.colab.output.renderOutput(dataTable, element);\n",
              "        const docLink = document.createElement('div');\n",
              "        docLink.innerHTML = docLinkHtml;\n",
              "        element.appendChild(docLink);\n",
              "      }\n",
              "    </script>\n",
              "  </div>\n",
              "\n",
              "\n",
              "<div id=\"df-66a34e6d-7157-4f0e-b442-ef09ab929fd0\">\n",
              "  <button class=\"colab-df-quickchart\" onclick=\"quickchart('df-66a34e6d-7157-4f0e-b442-ef09ab929fd0')\"\n",
              "            title=\"Suggest charts\"\n",
              "            style=\"display:none;\">\n",
              "\n",
              "<svg xmlns=\"http://www.w3.org/2000/svg\" height=\"24px\"viewBox=\"0 0 24 24\"\n",
              "     width=\"24px\">\n",
              "    <g>\n",
              "        <path d=\"M19 3H5c-1.1 0-2 .9-2 2v14c0 1.1.9 2 2 2h14c1.1 0 2-.9 2-2V5c0-1.1-.9-2-2-2zM9 17H7v-7h2v7zm4 0h-2V7h2v10zm4 0h-2v-4h2v4z\"/>\n",
              "    </g>\n",
              "</svg>\n",
              "  </button>\n",
              "\n",
              "<style>\n",
              "  .colab-df-quickchart {\n",
              "      --bg-color: #E8F0FE;\n",
              "      --fill-color: #1967D2;\n",
              "      --hover-bg-color: #E2EBFA;\n",
              "      --hover-fill-color: #174EA6;\n",
              "      --disabled-fill-color: #AAA;\n",
              "      --disabled-bg-color: #DDD;\n",
              "  }\n",
              "\n",
              "  [theme=dark] .colab-df-quickchart {\n",
              "      --bg-color: #3B4455;\n",
              "      --fill-color: #D2E3FC;\n",
              "      --hover-bg-color: #434B5C;\n",
              "      --hover-fill-color: #FFFFFF;\n",
              "      --disabled-bg-color: #3B4455;\n",
              "      --disabled-fill-color: #666;\n",
              "  }\n",
              "\n",
              "  .colab-df-quickchart {\n",
              "    background-color: var(--bg-color);\n",
              "    border: none;\n",
              "    border-radius: 50%;\n",
              "    cursor: pointer;\n",
              "    display: none;\n",
              "    fill: var(--fill-color);\n",
              "    height: 32px;\n",
              "    padding: 0;\n",
              "    width: 32px;\n",
              "  }\n",
              "\n",
              "  .colab-df-quickchart:hover {\n",
              "    background-color: var(--hover-bg-color);\n",
              "    box-shadow: 0 1px 2px rgba(60, 64, 67, 0.3), 0 1px 3px 1px rgba(60, 64, 67, 0.15);\n",
              "    fill: var(--button-hover-fill-color);\n",
              "  }\n",
              "\n",
              "  .colab-df-quickchart-complete:disabled,\n",
              "  .colab-df-quickchart-complete:disabled:hover {\n",
              "    background-color: var(--disabled-bg-color);\n",
              "    fill: var(--disabled-fill-color);\n",
              "    box-shadow: none;\n",
              "  }\n",
              "\n",
              "  .colab-df-spinner {\n",
              "    border: 2px solid var(--fill-color);\n",
              "    border-color: transparent;\n",
              "    border-bottom-color: var(--fill-color);\n",
              "    animation:\n",
              "      spin 1s steps(1) infinite;\n",
              "  }\n",
              "\n",
              "  @keyframes spin {\n",
              "    0% {\n",
              "      border-color: transparent;\n",
              "      border-bottom-color: var(--fill-color);\n",
              "      border-left-color: var(--fill-color);\n",
              "    }\n",
              "    20% {\n",
              "      border-color: transparent;\n",
              "      border-left-color: var(--fill-color);\n",
              "      border-top-color: var(--fill-color);\n",
              "    }\n",
              "    30% {\n",
              "      border-color: transparent;\n",
              "      border-left-color: var(--fill-color);\n",
              "      border-top-color: var(--fill-color);\n",
              "      border-right-color: var(--fill-color);\n",
              "    }\n",
              "    40% {\n",
              "      border-color: transparent;\n",
              "      border-right-color: var(--fill-color);\n",
              "      border-top-color: var(--fill-color);\n",
              "    }\n",
              "    60% {\n",
              "      border-color: transparent;\n",
              "      border-right-color: var(--fill-color);\n",
              "    }\n",
              "    80% {\n",
              "      border-color: transparent;\n",
              "      border-right-color: var(--fill-color);\n",
              "      border-bottom-color: var(--fill-color);\n",
              "    }\n",
              "    90% {\n",
              "      border-color: transparent;\n",
              "      border-bottom-color: var(--fill-color);\n",
              "    }\n",
              "  }\n",
              "</style>\n",
              "\n",
              "  <script>\n",
              "    async function quickchart(key) {\n",
              "      const quickchartButtonEl =\n",
              "        document.querySelector('#' + key + ' button');\n",
              "      quickchartButtonEl.disabled = true;  // To prevent multiple clicks.\n",
              "      quickchartButtonEl.classList.add('colab-df-spinner');\n",
              "      try {\n",
              "        const charts = await google.colab.kernel.invokeFunction(\n",
              "            'suggestCharts', [key], {});\n",
              "      } catch (error) {\n",
              "        console.error('Error during call to suggestCharts:', error);\n",
              "      }\n",
              "      quickchartButtonEl.classList.remove('colab-df-spinner');\n",
              "      quickchartButtonEl.classList.add('colab-df-quickchart-complete');\n",
              "    }\n",
              "    (() => {\n",
              "      let quickchartButtonEl =\n",
              "        document.querySelector('#df-66a34e6d-7157-4f0e-b442-ef09ab929fd0 button');\n",
              "      quickchartButtonEl.style.display =\n",
              "        google.colab.kernel.accessAllowed ? 'block' : 'none';\n",
              "    })();\n",
              "  </script>\n",
              "</div>\n",
              "\n",
              "    </div>\n",
              "  </div>\n"
            ],
            "application/vnd.google.colaboratory.intrinsic+json": {
              "type": "dataframe",
              "variable_name": "candy"
            }
          },
          "metadata": {},
          "execution_count": 3
        }
      ],
      "source": [
        "# first five rows\n",
        "candy.head()"
      ]
    },
    {
      "cell_type": "markdown",
      "metadata": {
        "id": "Nzbdo08Zi6jZ"
      },
      "source": [
        "Run a code to see information about the DataFrame.\n",
        "\n"
      ]
    },
    {
      "cell_type": "code",
      "execution_count": 4,
      "metadata": {
        "colab": {
          "base_uri": "https://localhost:8080/"
        },
        "id": "uIuoH6zai6jZ",
        "outputId": "848701b9-908d-438b-b38b-f65b7d359109"
      },
      "outputs": [
        {
          "output_type": "stream",
          "name": "stdout",
          "text": [
            "<class 'pandas.core.frame.DataFrame'>\n",
            "RangeIndex: 2479 entries, 0 to 2478\n",
            "Columns: 120 entries, Internal ID to Click Coordinates (x, y)\n",
            "dtypes: float64(4), int64(1), object(115)\n",
            "memory usage: 2.3+ MB\n"
          ]
        }
      ],
      "source": [
        "# check info about the DataFrame\n",
        "candy.info()"
      ]
    },
    {
      "cell_type": "markdown",
      "metadata": {
        "id": "25uUv2oJi6ja"
      },
      "source": [
        "According to the Pandas documentation:  \"If the DataFrame has more than max_cols columns, the truncated output is used. By default, the setting in pandas.options.display.max_info_columns is used.\"\n",
        "\n",
        "Make the columns display by setting the `max_cols` argument equal to the number of columns in the data set."
      ]
    },
    {
      "cell_type": "code",
      "execution_count": 5,
      "metadata": {
        "colab": {
          "base_uri": "https://localhost:8080/"
        },
        "id": "CRt3Qz9Fi6ja",
        "outputId": "6fadf40d-d22d-46bd-b5f2-af4aabf4ebfa"
      },
      "outputs": [
        {
          "output_type": "stream",
          "name": "stdout",
          "text": [
            "<class 'pandas.core.frame.DataFrame'>\n",
            "RangeIndex: 2479 entries, 0 to 2478\n",
            "Data columns (total 120 columns):\n",
            " #    Column                                                                                 Non-Null Count  Dtype  \n",
            "---   ------                                                                                 --------------  -----  \n",
            " 0    Internal ID                                                                            2479 non-null   int64  \n",
            " 1    Q1: GOING OUT?                                                                         2368 non-null   object \n",
            " 2    Q2: GENDER                                                                             2437 non-null   object \n",
            " 3    Q3: AGE                                                                                2394 non-null   object \n",
            " 4    Q4: COUNTRY                                                                            2414 non-null   object \n",
            " 5    Q5: STATE, PROVINCE, COUNTY, ETC                                                       2377 non-null   object \n",
            " 6    Q6 | 100 Grand Bar                                                                     1728 non-null   object \n",
            " 7    Q6 | Anonymous brown globs that come in black and orange wrappers\t(a.k.a. Mary Janes)  1741 non-null   object \n",
            " 8    Q6 | Any full-sized candy bar                                                          1803 non-null   object \n",
            " 9    Q6 | Black Jacks                                                                       1517 non-null   object \n",
            " 10   Q6 | Bonkers (the candy)                                                               1482 non-null   object \n",
            " 11   Q6 | Bonkers (the board game)                                                          1469 non-null   object \n",
            " 12   Q6 | Bottle Caps                                                                       1709 non-null   object \n",
            " 13   Q6 | Box'o'Raisins                                                                     1787 non-null   object \n",
            " 14   Q6 | Broken glow stick                                                                 1767 non-null   object \n",
            " 15   Q6 | Butterfinger                                                                      1793 non-null   object \n",
            " 16   Q6 | Cadbury Creme Eggs                                                                1792 non-null   object \n",
            " 17   Q6 | Candy Corn                                                                        1796 non-null   object \n",
            " 18   Q6 | Candy that is clearly just the stuff given out for free at restaurants            1784 non-null   object \n",
            " 19   Q6 | Caramellos                                                                        1723 non-null   object \n",
            " 20   Q6 | Cash, or other forms of legal tender                                              1795 non-null   object \n",
            " 21   Q6 | Chardonnay                                                                        1732 non-null   object \n",
            " 22   Q6 | Chick-o-Sticks (we donÕt know what that is)                                       1528 non-null   object \n",
            " 23   Q6 | Chiclets                                                                          1764 non-null   object \n",
            " 24   Q6 | Coffee Crisp                                                                      1621 non-null   object \n",
            " 25   Q6 | Creepy Religious comics/Chick Tracts                                              1771 non-null   object \n",
            " 26   Q6 | Dental paraphenalia                                                               1783 non-null   object \n",
            " 27   Q6 | Dots                                                                              1746 non-null   object \n",
            " 28   Q6 | Dove Bars                                                                         1773 non-null   object \n",
            " 29   Q6 | Fuzzy Peaches                                                                     1652 non-null   object \n",
            " 30   Q6 | Generic Brand Acetaminophen                                                       1744 non-null   object \n",
            " 31   Q6 | Glow sticks                                                                       1778 non-null   object \n",
            " 32   Q6 | Goo Goo Clusters                                                                  1595 non-null   object \n",
            " 33   Q6 | Good N' Plenty                                                                    1741 non-null   object \n",
            " 34   Q6 | Gum from baseball cards                                                           1759 non-null   object \n",
            " 35   Q6 | Gummy Bears straight up                                                           1778 non-null   object \n",
            " 36   Q6 | Hard Candy                                                                        1780 non-null   object \n",
            " 37   Q6 | Healthy Fruit                                                                     1781 non-null   object \n",
            " 38   Q6 | Heath Bar                                                                         1763 non-null   object \n",
            " 39   Q6 | Hershey's Dark Chocolate                                                          1802 non-null   object \n",
            " 40   Q6 | HersheyÕs Milk Chocolate                                                          1803 non-null   object \n",
            " 41   Q6 | Hershey's Kisses                                                                  1797 non-null   object \n",
            " 42   Q6 | Hugs (actual physical hugs)                                                       1762 non-null   object \n",
            " 43   Q6 | Jolly Rancher (bad flavor)                                                        1781 non-null   object \n",
            " 44   Q6 | Jolly Ranchers (good flavor)                                                      1780 non-null   object \n",
            " 45   Q6 | JoyJoy (Mit Iodine!)                                                              1449 non-null   object \n",
            " 46   Q6 | Junior Mints                                                                      1777 non-null   object \n",
            " 47   Q6 | Senior Mints                                                                      1532 non-null   object \n",
            " 48   Q6 | Kale smoothie                                                                     1731 non-null   object \n",
            " 49   Q6 | Kinder Happy Hippo                                                                1528 non-null   object \n",
            " 50   Q6 | Kit Kat                                                                           1801 non-null   object \n",
            " 51   Q6 | LaffyTaffy                                                                        1739 non-null   object \n",
            " 52   Q6 | LemonHeads                                                                        1745 non-null   object \n",
            " 53   Q6 | Licorice (not black)                                                              1789 non-null   object \n",
            " 54   Q6 | Licorice (yes black)                                                              1790 non-null   object \n",
            " 55   Q6 | Lindt Truffle                                                                     1757 non-null   object \n",
            " 56   Q6 | Lollipops                                                                         1784 non-null   object \n",
            " 57   Q6 | Mars                                                                              1750 non-null   object \n",
            " 58   Q6 | Maynards                                                                          1450 non-null   object \n",
            " 59   Q6 | Mike and Ike                                                                      1746 non-null   object \n",
            " 60   Q6 | Milk Duds                                                                         1782 non-null   object \n",
            " 61   Q6 | Milky Way                                                                         1787 non-null   object \n",
            " 62   Q6 | Regular M&Ms                                                                      1800 non-null   object \n",
            " 63   Q6 | Peanut M&MÕs                                                                      1804 non-null   object \n",
            " 64   Q6 | Blue M&M's                                                                        1748 non-null   object \n",
            " 65   Q6 | Red M&M's                                                                         1746 non-null   object \n",
            " 66   Q6 | Green Party M&M's                                                                 1711 non-null   object \n",
            " 67   Q6 | Independent M&M's                                                                 1662 non-null   object \n",
            " 68   Q6 | Abstained from M&M'ing.                                                           1532 non-null   object \n",
            " 69   Q6 | Minibags of chips                                                                 1751 non-null   object \n",
            " 70   Q6 | Mint Kisses                                                                       1699 non-null   object \n",
            " 71   Q6 | Mint Juleps                                                                       1664 non-null   object \n",
            " 72   Q6 | Mr. Goodbar                                                                       1735 non-null   object \n",
            " 73   Q6 | Necco Wafers                                                                      1731 non-null   object \n",
            " 74   Q6 | Nerds                                                                             1752 non-null   object \n",
            " 75   Q6 | Nestle Crunch                                                                     1777 non-null   object \n",
            " 76   Q6 | Now'n'Laters                                                                      1657 non-null   object \n",
            " 77   Q6 | Peeps                                                                             1765 non-null   object \n",
            " 78   Q6 | Pencils                                                                           1766 non-null   object \n",
            " 79   Q6 | Pixy Stix                                                                         1753 non-null   object \n",
            " 80   Q6 | Real Housewives of Orange County Season 9 Blue-Ray                                1722 non-null   object \n",
            " 81   Q6 | ReeseÕs Peanut Butter Cups                                                        1796 non-null   object \n",
            " 82   Q6 | Reese's Pieces                                                                    1784 non-null   object \n",
            " 83   Q6 | Reggie Jackson Bar                                                                1460 non-null   object \n",
            " 84   Q6 | Rolos                                                                             1761 non-null   object \n",
            " 85   Q6 | Sandwich-sized bags filled with BooBerry Crunch                                   1699 non-null   object \n",
            " 86   Q6 | Skittles                                                                          1769 non-null   object \n",
            " 87   Q6 | Smarties (American)                                                               1750 non-null   object \n",
            " 88   Q6 | Smarties (Commonwealth)                                                           1573 non-null   object \n",
            " 89   Q6 | Snickers                                                                          1785 non-null   object \n",
            " 90   Q6 | Sourpatch Kids (i.e. abominations of nature)                                      1737 non-null   object \n",
            " 91   Q6 | Spotted Dick                                                                      1593 non-null   object \n",
            " 92   Q6 | Starburst                                                                         1782 non-null   object \n",
            " 93   Q6 | Sweet Tarts                                                                       1767 non-null   object \n",
            " 94   Q6 | Swedish Fish                                                                      1760 non-null   object \n",
            " 95   Q6 | Sweetums (a friend to diabetes)                                                   1472 non-null   object \n",
            " 96   Q6 | Take 5                                                                            1557 non-null   object \n",
            " 97   Q6 | Tic Tacs                                                                          1761 non-null   object \n",
            " 98   Q6 | Those odd marshmallow circus peanut things                                        1739 non-null   object \n",
            " 99   Q6 | Three Musketeers                                                                  1767 non-null   object \n",
            " 100  Q6 | Tolberone something or other                                                      1769 non-null   object \n",
            " 101  Q6 | Trail Mix                                                                         1767 non-null   object \n",
            " 102  Q6 | Twix                                                                              1785 non-null   object \n",
            " 103  Q6 | Vials of pure high fructose corn syrup, for main-lining into your vein            1683 non-null   object \n",
            " 104  Q6 | Vicodin                                                                           1686 non-null   object \n",
            " 105  Q6 | Whatchamacallit Bars                                                              1652 non-null   object \n",
            " 106  Q6 | White Bread                                                                       1718 non-null   object \n",
            " 107  Q6 | Whole Wheat anything                                                              1728 non-null   object \n",
            " 108  Q6 | York Peppermint Patties                                                           1770 non-null   object \n",
            " 109  Q7: JOY OTHER                                                                          917 non-null    object \n",
            " 110  Q8: DESPAIR OTHER                                                                      723 non-null    object \n",
            " 111  Q9: OTHER COMMENTS                                                                     389 non-null    object \n",
            " 112  Q10: DRESS                                                                             1730 non-null   object \n",
            " 113  Unnamed: 113                                                                           9 non-null      object \n",
            " 114  Q11: DAY                                                                               1750 non-null   object \n",
            " 115  Q12: MEDIA [Daily Dish]                                                                85 non-null     float64\n",
            " 116  Q12: MEDIA [Science]                                                                   1376 non-null   float64\n",
            " 117  Q12: MEDIA [ESPN]                                                                      99 non-null     float64\n",
            " 118  Q12: MEDIA [Yahoo]                                                                     67 non-null     float64\n",
            " 119  Click Coordinates (x, y)                                                               1619 non-null   object \n",
            "dtypes: float64(4), int64(1), object(115)\n",
            "memory usage: 2.3+ MB\n"
          ]
        }
      ],
      "source": [
        "# check info, set max_cols\n",
        "candy.info(max_cols=120)"
      ]
    },
    {
      "cell_type": "markdown",
      "metadata": {
        "id": "og2i7Aq8i6ja"
      },
      "source": [
        "Of course, if you are just looking for the column names, you can just use a simple `for` loop."
      ]
    },
    {
      "cell_type": "code",
      "execution_count": 6,
      "metadata": {
        "colab": {
          "base_uri": "https://localhost:8080/"
        },
        "id": "SiZnW1Fci6ja",
        "outputId": "10d7cdc7-3c0c-4761-d2c2-160f2762f3d3"
      },
      "outputs": [
        {
          "output_type": "stream",
          "name": "stdout",
          "text": [
            "Internal ID\n",
            "Q1: GOING OUT?\n",
            "Q2: GENDER\n",
            "Q3: AGE\n",
            "Q4: COUNTRY\n",
            "Q5: STATE, PROVINCE, COUNTY, ETC\n",
            "Q6 | 100 Grand Bar\n",
            "Q6 | Anonymous brown globs that come in black and orange wrappers\t(a.k.a. Mary Janes)\n",
            "Q6 | Any full-sized candy bar\n",
            "Q6 | Black Jacks\n",
            "Q6 | Bonkers (the candy)\n",
            "Q6 | Bonkers (the board game)\n",
            "Q6 | Bottle Caps\n",
            "Q6 | Box'o'Raisins\n",
            "Q6 | Broken glow stick\n",
            "Q6 | Butterfinger\n",
            "Q6 | Cadbury Creme Eggs\n",
            "Q6 | Candy Corn\n",
            "Q6 | Candy that is clearly just the stuff given out for free at restaurants\n",
            "Q6 | Caramellos\n",
            "Q6 | Cash, or other forms of legal tender\n",
            "Q6 | Chardonnay\n",
            "Q6 | Chick-o-Sticks (we donÕt know what that is)\n",
            "Q6 | Chiclets\n",
            "Q6 | Coffee Crisp\n",
            "Q6 | Creepy Religious comics/Chick Tracts\n",
            "Q6 | Dental paraphenalia\n",
            "Q6 | Dots\n",
            "Q6 | Dove Bars\n",
            "Q6 | Fuzzy Peaches\n",
            "Q6 | Generic Brand Acetaminophen\n",
            "Q6 | Glow sticks\n",
            "Q6 | Goo Goo Clusters\n",
            "Q6 | Good N' Plenty\n",
            "Q6 | Gum from baseball cards\n",
            "Q6 | Gummy Bears straight up\n",
            "Q6 | Hard Candy\n",
            "Q6 | Healthy Fruit\n",
            "Q6 | Heath Bar\n",
            "Q6 | Hershey's Dark Chocolate\n",
            "Q6 | HersheyÕs Milk Chocolate\n",
            "Q6 | Hershey's Kisses\n",
            "Q6 | Hugs (actual physical hugs)\n",
            "Q6 | Jolly Rancher (bad flavor)\n",
            "Q6 | Jolly Ranchers (good flavor)\n",
            "Q6 | JoyJoy (Mit Iodine!)\n",
            "Q6 | Junior Mints\n",
            "Q6 | Senior Mints\n",
            "Q6 | Kale smoothie\n",
            "Q6 | Kinder Happy Hippo\n",
            "Q6 | Kit Kat\n",
            "Q6 | LaffyTaffy\n",
            "Q6 | LemonHeads\n",
            "Q6 | Licorice (not black)\n",
            "Q6 | Licorice (yes black)\n",
            "Q6 | Lindt Truffle\n",
            "Q6 | Lollipops\n",
            "Q6 | Mars\n",
            "Q6 | Maynards\n",
            "Q6 | Mike and Ike\n",
            "Q6 | Milk Duds\n",
            "Q6 | Milky Way\n",
            "Q6 | Regular M&Ms\n",
            "Q6 | Peanut M&MÕs\n",
            "Q6 | Blue M&M's\n",
            "Q6 | Red M&M's\n",
            "Q6 | Green Party M&M's\n",
            "Q6 | Independent M&M's\n",
            "Q6 | Abstained from M&M'ing.\n",
            "Q6 | Minibags of chips\n",
            "Q6 | Mint Kisses\n",
            "Q6 | Mint Juleps\n",
            "Q6 | Mr. Goodbar\n",
            "Q6 | Necco Wafers\n",
            "Q6 | Nerds\n",
            "Q6 | Nestle Crunch\n",
            "Q6 | Now'n'Laters\n",
            "Q6 | Peeps\n",
            "Q6 | Pencils\n",
            "Q6 | Pixy Stix\n",
            "Q6 | Real Housewives of Orange County Season 9 Blue-Ray\n",
            "Q6 | ReeseÕs Peanut Butter Cups\n",
            "Q6 | Reese's Pieces\n",
            "Q6 | Reggie Jackson Bar\n",
            "Q6 | Rolos\n",
            "Q6 | Sandwich-sized bags filled with BooBerry Crunch\n",
            "Q6 | Skittles\n",
            "Q6 | Smarties (American)\n",
            "Q6 | Smarties (Commonwealth)\n",
            "Q6 | Snickers\n",
            "Q6 | Sourpatch Kids (i.e. abominations of nature)\n",
            "Q6 | Spotted Dick\n",
            "Q6 | Starburst\n",
            "Q6 | Sweet Tarts\n",
            "Q6 | Swedish Fish\n",
            "Q6 | Sweetums (a friend to diabetes)\n",
            "Q6 | Take 5\n",
            "Q6 | Tic Tacs\n",
            "Q6 | Those odd marshmallow circus peanut things\n",
            "Q6 | Three Musketeers\n",
            "Q6 | Tolberone something or other\n",
            "Q6 | Trail Mix\n",
            "Q6 | Twix\n",
            "Q6 | Vials of pure high fructose corn syrup, for main-lining into your vein\n",
            "Q6 | Vicodin\n",
            "Q6 | Whatchamacallit Bars\n",
            "Q6 | White Bread\n",
            "Q6 | Whole Wheat anything\n",
            "Q6 | York Peppermint Patties\n",
            "Q7: JOY OTHER\n",
            "Q8: DESPAIR OTHER\n",
            "Q9: OTHER COMMENTS\n",
            "Q10: DRESS\n",
            "Unnamed: 113\n",
            "Q11: DAY\n",
            "Q12: MEDIA [Daily Dish]\n",
            "Q12: MEDIA [Science]\n",
            "Q12: MEDIA [ESPN]\n",
            "Q12: MEDIA [Yahoo]\n",
            "Click Coordinates (x, y)\n"
          ]
        }
      ],
      "source": [
        "# print a list of column names\n",
        "for col in candy.columns:\n",
        "    print(col)"
      ]
    },
    {
      "cell_type": "markdown",
      "metadata": {
        "id": "po6L07I3i6ja"
      },
      "source": [
        "This data set is pretty messy. Your goal is now to perform the following actions to get it to the point where it can be passed to a machine learning model.\n",
        "\n",
        "<span style='color:red'>**Note: Unless the instructions ask you to do something different, please always update the original `candy` DataFrame for the exercises below."
      ]
    },
    {
      "cell_type": "markdown",
      "metadata": {
        "id": "pdZhwNFFi6ja"
      },
      "source": [
        "## Data Cleaning"
      ]
    },
    {
      "cell_type": "markdown",
      "metadata": {
        "id": "gor60DXJi6ja"
      },
      "source": [
        "**Exercise1:** Taking a look at the column names, you may notice that some include the character `Õ`. This should instead be an apostrophe `'` mark. Rename the column names that include the `Õ` character and replace it with an apostrophe.  \n",
        "\n",
        "Remember that you should be updating the `candy` DataFrame for the tasks listed as unless told differently."
      ]
    },
    {
      "cell_type": "code",
      "execution_count": 7,
      "metadata": {
        "id": "4AQYlEqHi6ja"
      },
      "outputs": [],
      "source": [
        "candy.columns = candy.columns.str.replace(\"Õ\", \"'\", regex = False)"
      ]
    },
    {
      "cell_type": "markdown",
      "metadata": {
        "id": "sYGMYMHEi6ja"
      },
      "source": [
        "**Q1:** How many duplicated rows are there in the file? Assume that a duplicate is any row that is *exactly* the same as another one. Save this number as `Q1`."
      ]
    },
    {
      "cell_type": "code",
      "execution_count": 8,
      "metadata": {
        "id": "zoM016YBi6jb"
      },
      "outputs": [],
      "source": [
        "Q1 = candy.duplicated().sum()"
      ]
    },
    {
      "cell_type": "markdown",
      "metadata": {
        "id": "0TOFL1aAi6jb"
      },
      "source": [
        "**Q2:** How many duplicated rows are there in the file if we were to assume that a duplicate is any row with the same `Internal ID` number as another. In other words, even if the other values are different, a row would count as a duplicate if it had the same `Internal ID` as another. Save this number as `Q2`."
      ]
    },
    {
      "cell_type": "code",
      "execution_count": 9,
      "metadata": {
        "id": "_LlRGC_Ki6jb"
      },
      "outputs": [],
      "source": [
        "Q2 = candy['Internal ID'].duplicated().sum()"
      ]
    },
    {
      "cell_type": "markdown",
      "metadata": {
        "id": "UxGq7-DHi6jb"
      },
      "source": [
        "**Exercise2:** Drop any duplicates from the `candy` DataFrame.  Duplicates are to be defined as any row with the same `Internal ID` as another. Use the default setting that keeps the first record from the duplicates."
      ]
    },
    {
      "cell_type": "code",
      "execution_count": 10,
      "metadata": {
        "id": "BcaIEHhhi6jb"
      },
      "outputs": [],
      "source": [
        "candy = candy.drop_duplicates('Internal ID', keep= 'first')"
      ]
    },
    {
      "cell_type": "markdown",
      "metadata": {
        "id": "JklyNr-ki6jb"
      },
      "source": [
        "**Exercise3:** Your next task is to remove the following columns from the `candy` DataFrame as we will not use these columns for this project.  You are welcome to do further analysis on these columns but do not save your analysis in this notebook.\n",
        "\n",
        "Remove the following columns: `Internal ID`, `Q5: STATE, PROVINCE, COUNTY, ETC`, `Q7: JOY OTHER`, `Q8: DESPAIR OTHER`, `Q9: OTHER COMMENTS`, `Unnamed: 113`, `Click Coordinates (x, y)`."
      ]
    },
    {
      "cell_type": "code",
      "execution_count": 11,
      "metadata": {
        "colab": {
          "base_uri": "https://localhost:8080/",
          "height": 773
        },
        "id": "-geqgYePi6jb",
        "outputId": "ace63d63-788a-477b-e919-f296ef228adb"
      },
      "outputs": [
        {
          "output_type": "execute_result",
          "data": {
            "text/plain": [
              "     Q1: GOING OUT? Q2: GENDER Q3: AGE Q4: COUNTRY Q6 | 100 Grand Bar  \\\n",
              "0               NaN        NaN     NaN         NaN                NaN   \n",
              "1                No       Male      44        USA                 MEH   \n",
              "2               NaN       Male      49         USA                NaN   \n",
              "3                No       Male      40          us                MEH   \n",
              "4                No       Male      23         usa                JOY   \n",
              "...             ...        ...     ...         ...                ...   \n",
              "2474             No       Male      24         USA                JOY   \n",
              "2475             No     Female      33         USA                MEH   \n",
              "2476             No     Female      26        USA                 MEH   \n",
              "2477             No       Male      58         Usa                NaN   \n",
              "2478             No     Female      66         usa            DESPAIR   \n",
              "\n",
              "     Q6 | Anonymous brown globs that come in black and orange wrappers\\t(a.k.a. Mary Janes)  \\\n",
              "0                                                   NaN                                       \n",
              "1                                               DESPAIR                                       \n",
              "2                                                   NaN                                       \n",
              "3                                               DESPAIR                                       \n",
              "4                                               DESPAIR                                       \n",
              "...                                                 ...                                       \n",
              "2474                                            DESPAIR                                       \n",
              "2475                                            DESPAIR                                       \n",
              "2476                                            DESPAIR                                       \n",
              "2477                                                NaN                                       \n",
              "2478                                            DESPAIR                                       \n",
              "\n",
              "     Q6 | Any full-sized candy bar Q6 | Black Jacks Q6 | Bonkers (the candy)  \\\n",
              "0                              NaN              NaN                      NaN   \n",
              "1                              JOY              MEH                  DESPAIR   \n",
              "2                              NaN              NaN                      NaN   \n",
              "3                              JOY              MEH                      MEH   \n",
              "4                              JOY          DESPAIR                      MEH   \n",
              "...                            ...              ...                      ...   \n",
              "2474                           MEH          DESPAIR                  DESPAIR   \n",
              "2475                           JOY              NaN                      NaN   \n",
              "2476                           JOY          DESPAIR                      MEH   \n",
              "2477                           NaN              NaN                      NaN   \n",
              "2478                           JOY          DESPAIR                  DESPAIR   \n",
              "\n",
              "     Q6 | Bonkers (the board game)  ... Q6 | Whatchamacallit Bars  \\\n",
              "0                              NaN  ...                       NaN   \n",
              "1                          DESPAIR  ...                   DESPAIR   \n",
              "2                              NaN  ...                       NaN   \n",
              "3                          DESPAIR  ...                       JOY   \n",
              "4                          DESPAIR  ...                       JOY   \n",
              "...                            ...  ...                       ...   \n",
              "2474                           MEH  ...                   DESPAIR   \n",
              "2475                           NaN  ...                       JOY   \n",
              "2476                           JOY  ...                       MEH   \n",
              "2477                           NaN  ...                       NaN   \n",
              "2478                       DESPAIR  ...                   DESPAIR   \n",
              "\n",
              "     Q6 | White Bread Q6 | Whole Wheat anything Q6 | York Peppermint Patties  \\\n",
              "0                 NaN                       NaN                          NaN   \n",
              "1             DESPAIR                   DESPAIR                      DESPAIR   \n",
              "2                 NaN                       NaN                          NaN   \n",
              "3             DESPAIR                   DESPAIR                      DESPAIR   \n",
              "4             DESPAIR                   DESPAIR                          JOY   \n",
              "...               ...                       ...                          ...   \n",
              "2474              MEH                   DESPAIR                          MEH   \n",
              "2475          DESPAIR                       MEH                          JOY   \n",
              "2476          DESPAIR                   DESPAIR                          MEH   \n",
              "2477              NaN                       NaN                          NaN   \n",
              "2478              MEH                   DESPAIR                          JOY   \n",
              "\n",
              "          Q10: DRESS Q11: DAY Q12: MEDIA [Daily Dish] Q12: MEDIA [Science]  \\\n",
              "0                NaN      NaN                     NaN                  NaN   \n",
              "1     White and gold   Sunday                     NaN                  1.0   \n",
              "2                NaN      NaN                     NaN                  NaN   \n",
              "3     White and gold   Sunday                     NaN                  1.0   \n",
              "4     White and gold   Friday                     NaN                  1.0   \n",
              "...              ...      ...                     ...                  ...   \n",
              "2474  White and gold   Friday                     NaN                  NaN   \n",
              "2475  Blue and black   Friday                     NaN                  1.0   \n",
              "2476  Blue and black   Friday                     NaN                  1.0   \n",
              "2477             NaN      NaN                     NaN                  NaN   \n",
              "2478  White and gold   Sunday                     1.0                  NaN   \n",
              "\n",
              "     Q12: MEDIA [ESPN] Q12: MEDIA [Yahoo]  \n",
              "0                  NaN                NaN  \n",
              "1                  NaN                NaN  \n",
              "2                  NaN                NaN  \n",
              "3                  NaN                NaN  \n",
              "4                  NaN                NaN  \n",
              "...                ...                ...  \n",
              "2474               NaN                NaN  \n",
              "2475               NaN                NaN  \n",
              "2476               NaN                NaN  \n",
              "2477               NaN                NaN  \n",
              "2478               NaN                NaN  \n",
              "\n",
              "[2460 rows x 113 columns]"
            ],
            "text/html": [
              "\n",
              "  <div id=\"df-ea140124-d378-45d0-b349-41da9aca97bc\" class=\"colab-df-container\">\n",
              "    <div>\n",
              "<style scoped>\n",
              "    .dataframe tbody tr th:only-of-type {\n",
              "        vertical-align: middle;\n",
              "    }\n",
              "\n",
              "    .dataframe tbody tr th {\n",
              "        vertical-align: top;\n",
              "    }\n",
              "\n",
              "    .dataframe thead th {\n",
              "        text-align: right;\n",
              "    }\n",
              "</style>\n",
              "<table border=\"1\" class=\"dataframe\">\n",
              "  <thead>\n",
              "    <tr style=\"text-align: right;\">\n",
              "      <th></th>\n",
              "      <th>Q1: GOING OUT?</th>\n",
              "      <th>Q2: GENDER</th>\n",
              "      <th>Q3: AGE</th>\n",
              "      <th>Q4: COUNTRY</th>\n",
              "      <th>Q6 | 100 Grand Bar</th>\n",
              "      <th>Q6 | Anonymous brown globs that come in black and orange wrappers\\t(a.k.a. Mary Janes)</th>\n",
              "      <th>Q6 | Any full-sized candy bar</th>\n",
              "      <th>Q6 | Black Jacks</th>\n",
              "      <th>Q6 | Bonkers (the candy)</th>\n",
              "      <th>Q6 | Bonkers (the board game)</th>\n",
              "      <th>...</th>\n",
              "      <th>Q6 | Whatchamacallit Bars</th>\n",
              "      <th>Q6 | White Bread</th>\n",
              "      <th>Q6 | Whole Wheat anything</th>\n",
              "      <th>Q6 | York Peppermint Patties</th>\n",
              "      <th>Q10: DRESS</th>\n",
              "      <th>Q11: DAY</th>\n",
              "      <th>Q12: MEDIA [Daily Dish]</th>\n",
              "      <th>Q12: MEDIA [Science]</th>\n",
              "      <th>Q12: MEDIA [ESPN]</th>\n",
              "      <th>Q12: MEDIA [Yahoo]</th>\n",
              "    </tr>\n",
              "  </thead>\n",
              "  <tbody>\n",
              "    <tr>\n",
              "      <th>0</th>\n",
              "      <td>NaN</td>\n",
              "      <td>NaN</td>\n",
              "      <td>NaN</td>\n",
              "      <td>NaN</td>\n",
              "      <td>NaN</td>\n",
              "      <td>NaN</td>\n",
              "      <td>NaN</td>\n",
              "      <td>NaN</td>\n",
              "      <td>NaN</td>\n",
              "      <td>NaN</td>\n",
              "      <td>...</td>\n",
              "      <td>NaN</td>\n",
              "      <td>NaN</td>\n",
              "      <td>NaN</td>\n",
              "      <td>NaN</td>\n",
              "      <td>NaN</td>\n",
              "      <td>NaN</td>\n",
              "      <td>NaN</td>\n",
              "      <td>NaN</td>\n",
              "      <td>NaN</td>\n",
              "      <td>NaN</td>\n",
              "    </tr>\n",
              "    <tr>\n",
              "      <th>1</th>\n",
              "      <td>No</td>\n",
              "      <td>Male</td>\n",
              "      <td>44</td>\n",
              "      <td>USA</td>\n",
              "      <td>MEH</td>\n",
              "      <td>DESPAIR</td>\n",
              "      <td>JOY</td>\n",
              "      <td>MEH</td>\n",
              "      <td>DESPAIR</td>\n",
              "      <td>DESPAIR</td>\n",
              "      <td>...</td>\n",
              "      <td>DESPAIR</td>\n",
              "      <td>DESPAIR</td>\n",
              "      <td>DESPAIR</td>\n",
              "      <td>DESPAIR</td>\n",
              "      <td>White and gold</td>\n",
              "      <td>Sunday</td>\n",
              "      <td>NaN</td>\n",
              "      <td>1.0</td>\n",
              "      <td>NaN</td>\n",
              "      <td>NaN</td>\n",
              "    </tr>\n",
              "    <tr>\n",
              "      <th>2</th>\n",
              "      <td>NaN</td>\n",
              "      <td>Male</td>\n",
              "      <td>49</td>\n",
              "      <td>USA</td>\n",
              "      <td>NaN</td>\n",
              "      <td>NaN</td>\n",
              "      <td>NaN</td>\n",
              "      <td>NaN</td>\n",
              "      <td>NaN</td>\n",
              "      <td>NaN</td>\n",
              "      <td>...</td>\n",
              "      <td>NaN</td>\n",
              "      <td>NaN</td>\n",
              "      <td>NaN</td>\n",
              "      <td>NaN</td>\n",
              "      <td>NaN</td>\n",
              "      <td>NaN</td>\n",
              "      <td>NaN</td>\n",
              "      <td>NaN</td>\n",
              "      <td>NaN</td>\n",
              "      <td>NaN</td>\n",
              "    </tr>\n",
              "    <tr>\n",
              "      <th>3</th>\n",
              "      <td>No</td>\n",
              "      <td>Male</td>\n",
              "      <td>40</td>\n",
              "      <td>us</td>\n",
              "      <td>MEH</td>\n",
              "      <td>DESPAIR</td>\n",
              "      <td>JOY</td>\n",
              "      <td>MEH</td>\n",
              "      <td>MEH</td>\n",
              "      <td>DESPAIR</td>\n",
              "      <td>...</td>\n",
              "      <td>JOY</td>\n",
              "      <td>DESPAIR</td>\n",
              "      <td>DESPAIR</td>\n",
              "      <td>DESPAIR</td>\n",
              "      <td>White and gold</td>\n",
              "      <td>Sunday</td>\n",
              "      <td>NaN</td>\n",
              "      <td>1.0</td>\n",
              "      <td>NaN</td>\n",
              "      <td>NaN</td>\n",
              "    </tr>\n",
              "    <tr>\n",
              "      <th>4</th>\n",
              "      <td>No</td>\n",
              "      <td>Male</td>\n",
              "      <td>23</td>\n",
              "      <td>usa</td>\n",
              "      <td>JOY</td>\n",
              "      <td>DESPAIR</td>\n",
              "      <td>JOY</td>\n",
              "      <td>DESPAIR</td>\n",
              "      <td>MEH</td>\n",
              "      <td>DESPAIR</td>\n",
              "      <td>...</td>\n",
              "      <td>JOY</td>\n",
              "      <td>DESPAIR</td>\n",
              "      <td>DESPAIR</td>\n",
              "      <td>JOY</td>\n",
              "      <td>White and gold</td>\n",
              "      <td>Friday</td>\n",
              "      <td>NaN</td>\n",
              "      <td>1.0</td>\n",
              "      <td>NaN</td>\n",
              "      <td>NaN</td>\n",
              "    </tr>\n",
              "    <tr>\n",
              "      <th>...</th>\n",
              "      <td>...</td>\n",
              "      <td>...</td>\n",
              "      <td>...</td>\n",
              "      <td>...</td>\n",
              "      <td>...</td>\n",
              "      <td>...</td>\n",
              "      <td>...</td>\n",
              "      <td>...</td>\n",
              "      <td>...</td>\n",
              "      <td>...</td>\n",
              "      <td>...</td>\n",
              "      <td>...</td>\n",
              "      <td>...</td>\n",
              "      <td>...</td>\n",
              "      <td>...</td>\n",
              "      <td>...</td>\n",
              "      <td>...</td>\n",
              "      <td>...</td>\n",
              "      <td>...</td>\n",
              "      <td>...</td>\n",
              "      <td>...</td>\n",
              "    </tr>\n",
              "    <tr>\n",
              "      <th>2474</th>\n",
              "      <td>No</td>\n",
              "      <td>Male</td>\n",
              "      <td>24</td>\n",
              "      <td>USA</td>\n",
              "      <td>JOY</td>\n",
              "      <td>DESPAIR</td>\n",
              "      <td>MEH</td>\n",
              "      <td>DESPAIR</td>\n",
              "      <td>DESPAIR</td>\n",
              "      <td>MEH</td>\n",
              "      <td>...</td>\n",
              "      <td>DESPAIR</td>\n",
              "      <td>MEH</td>\n",
              "      <td>DESPAIR</td>\n",
              "      <td>MEH</td>\n",
              "      <td>White and gold</td>\n",
              "      <td>Friday</td>\n",
              "      <td>NaN</td>\n",
              "      <td>NaN</td>\n",
              "      <td>NaN</td>\n",
              "      <td>NaN</td>\n",
              "    </tr>\n",
              "    <tr>\n",
              "      <th>2475</th>\n",
              "      <td>No</td>\n",
              "      <td>Female</td>\n",
              "      <td>33</td>\n",
              "      <td>USA</td>\n",
              "      <td>MEH</td>\n",
              "      <td>DESPAIR</td>\n",
              "      <td>JOY</td>\n",
              "      <td>NaN</td>\n",
              "      <td>NaN</td>\n",
              "      <td>NaN</td>\n",
              "      <td>...</td>\n",
              "      <td>JOY</td>\n",
              "      <td>DESPAIR</td>\n",
              "      <td>MEH</td>\n",
              "      <td>JOY</td>\n",
              "      <td>Blue and black</td>\n",
              "      <td>Friday</td>\n",
              "      <td>NaN</td>\n",
              "      <td>1.0</td>\n",
              "      <td>NaN</td>\n",
              "      <td>NaN</td>\n",
              "    </tr>\n",
              "    <tr>\n",
              "      <th>2476</th>\n",
              "      <td>No</td>\n",
              "      <td>Female</td>\n",
              "      <td>26</td>\n",
              "      <td>USA</td>\n",
              "      <td>MEH</td>\n",
              "      <td>DESPAIR</td>\n",
              "      <td>JOY</td>\n",
              "      <td>DESPAIR</td>\n",
              "      <td>MEH</td>\n",
              "      <td>JOY</td>\n",
              "      <td>...</td>\n",
              "      <td>MEH</td>\n",
              "      <td>DESPAIR</td>\n",
              "      <td>DESPAIR</td>\n",
              "      <td>MEH</td>\n",
              "      <td>Blue and black</td>\n",
              "      <td>Friday</td>\n",
              "      <td>NaN</td>\n",
              "      <td>1.0</td>\n",
              "      <td>NaN</td>\n",
              "      <td>NaN</td>\n",
              "    </tr>\n",
              "    <tr>\n",
              "      <th>2477</th>\n",
              "      <td>No</td>\n",
              "      <td>Male</td>\n",
              "      <td>58</td>\n",
              "      <td>Usa</td>\n",
              "      <td>NaN</td>\n",
              "      <td>NaN</td>\n",
              "      <td>NaN</td>\n",
              "      <td>NaN</td>\n",
              "      <td>NaN</td>\n",
              "      <td>NaN</td>\n",
              "      <td>...</td>\n",
              "      <td>NaN</td>\n",
              "      <td>NaN</td>\n",
              "      <td>NaN</td>\n",
              "      <td>NaN</td>\n",
              "      <td>NaN</td>\n",
              "      <td>NaN</td>\n",
              "      <td>NaN</td>\n",
              "      <td>NaN</td>\n",
              "      <td>NaN</td>\n",
              "      <td>NaN</td>\n",
              "    </tr>\n",
              "    <tr>\n",
              "      <th>2478</th>\n",
              "      <td>No</td>\n",
              "      <td>Female</td>\n",
              "      <td>66</td>\n",
              "      <td>usa</td>\n",
              "      <td>DESPAIR</td>\n",
              "      <td>DESPAIR</td>\n",
              "      <td>JOY</td>\n",
              "      <td>DESPAIR</td>\n",
              "      <td>DESPAIR</td>\n",
              "      <td>DESPAIR</td>\n",
              "      <td>...</td>\n",
              "      <td>DESPAIR</td>\n",
              "      <td>MEH</td>\n",
              "      <td>DESPAIR</td>\n",
              "      <td>JOY</td>\n",
              "      <td>White and gold</td>\n",
              "      <td>Sunday</td>\n",
              "      <td>1.0</td>\n",
              "      <td>NaN</td>\n",
              "      <td>NaN</td>\n",
              "      <td>NaN</td>\n",
              "    </tr>\n",
              "  </tbody>\n",
              "</table>\n",
              "<p>2460 rows × 113 columns</p>\n",
              "</div>\n",
              "    <div class=\"colab-df-buttons\">\n",
              "\n",
              "  <div class=\"colab-df-container\">\n",
              "    <button class=\"colab-df-convert\" onclick=\"convertToInteractive('df-ea140124-d378-45d0-b349-41da9aca97bc')\"\n",
              "            title=\"Convert this dataframe to an interactive table.\"\n",
              "            style=\"display:none;\">\n",
              "\n",
              "  <svg xmlns=\"http://www.w3.org/2000/svg\" height=\"24px\" viewBox=\"0 -960 960 960\">\n",
              "    <path d=\"M120-120v-720h720v720H120Zm60-500h600v-160H180v160Zm220 220h160v-160H400v160Zm0 220h160v-160H400v160ZM180-400h160v-160H180v160Zm440 0h160v-160H620v160ZM180-180h160v-160H180v160Zm440 0h160v-160H620v160Z\"/>\n",
              "  </svg>\n",
              "    </button>\n",
              "\n",
              "  <style>\n",
              "    .colab-df-container {\n",
              "      display:flex;\n",
              "      gap: 12px;\n",
              "    }\n",
              "\n",
              "    .colab-df-convert {\n",
              "      background-color: #E8F0FE;\n",
              "      border: none;\n",
              "      border-radius: 50%;\n",
              "      cursor: pointer;\n",
              "      display: none;\n",
              "      fill: #1967D2;\n",
              "      height: 32px;\n",
              "      padding: 0 0 0 0;\n",
              "      width: 32px;\n",
              "    }\n",
              "\n",
              "    .colab-df-convert:hover {\n",
              "      background-color: #E2EBFA;\n",
              "      box-shadow: 0px 1px 2px rgba(60, 64, 67, 0.3), 0px 1px 3px 1px rgba(60, 64, 67, 0.15);\n",
              "      fill: #174EA6;\n",
              "    }\n",
              "\n",
              "    .colab-df-buttons div {\n",
              "      margin-bottom: 4px;\n",
              "    }\n",
              "\n",
              "    [theme=dark] .colab-df-convert {\n",
              "      background-color: #3B4455;\n",
              "      fill: #D2E3FC;\n",
              "    }\n",
              "\n",
              "    [theme=dark] .colab-df-convert:hover {\n",
              "      background-color: #434B5C;\n",
              "      box-shadow: 0px 1px 3px 1px rgba(0, 0, 0, 0.15);\n",
              "      filter: drop-shadow(0px 1px 2px rgba(0, 0, 0, 0.3));\n",
              "      fill: #FFFFFF;\n",
              "    }\n",
              "  </style>\n",
              "\n",
              "    <script>\n",
              "      const buttonEl =\n",
              "        document.querySelector('#df-ea140124-d378-45d0-b349-41da9aca97bc button.colab-df-convert');\n",
              "      buttonEl.style.display =\n",
              "        google.colab.kernel.accessAllowed ? 'block' : 'none';\n",
              "\n",
              "      async function convertToInteractive(key) {\n",
              "        const element = document.querySelector('#df-ea140124-d378-45d0-b349-41da9aca97bc');\n",
              "        const dataTable =\n",
              "          await google.colab.kernel.invokeFunction('convertToInteractive',\n",
              "                                                    [key], {});\n",
              "        if (!dataTable) return;\n",
              "\n",
              "        const docLinkHtml = 'Like what you see? Visit the ' +\n",
              "          '<a target=\"_blank\" href=https://colab.research.google.com/notebooks/data_table.ipynb>data table notebook</a>'\n",
              "          + ' to learn more about interactive tables.';\n",
              "        element.innerHTML = '';\n",
              "        dataTable['output_type'] = 'display_data';\n",
              "        await google.colab.output.renderOutput(dataTable, element);\n",
              "        const docLink = document.createElement('div');\n",
              "        docLink.innerHTML = docLinkHtml;\n",
              "        element.appendChild(docLink);\n",
              "      }\n",
              "    </script>\n",
              "  </div>\n",
              "\n",
              "\n",
              "<div id=\"df-b95f89aa-eda7-43bf-a852-e31b6e97757c\">\n",
              "  <button class=\"colab-df-quickchart\" onclick=\"quickchart('df-b95f89aa-eda7-43bf-a852-e31b6e97757c')\"\n",
              "            title=\"Suggest charts\"\n",
              "            style=\"display:none;\">\n",
              "\n",
              "<svg xmlns=\"http://www.w3.org/2000/svg\" height=\"24px\"viewBox=\"0 0 24 24\"\n",
              "     width=\"24px\">\n",
              "    <g>\n",
              "        <path d=\"M19 3H5c-1.1 0-2 .9-2 2v14c0 1.1.9 2 2 2h14c1.1 0 2-.9 2-2V5c0-1.1-.9-2-2-2zM9 17H7v-7h2v7zm4 0h-2V7h2v10zm4 0h-2v-4h2v4z\"/>\n",
              "    </g>\n",
              "</svg>\n",
              "  </button>\n",
              "\n",
              "<style>\n",
              "  .colab-df-quickchart {\n",
              "      --bg-color: #E8F0FE;\n",
              "      --fill-color: #1967D2;\n",
              "      --hover-bg-color: #E2EBFA;\n",
              "      --hover-fill-color: #174EA6;\n",
              "      --disabled-fill-color: #AAA;\n",
              "      --disabled-bg-color: #DDD;\n",
              "  }\n",
              "\n",
              "  [theme=dark] .colab-df-quickchart {\n",
              "      --bg-color: #3B4455;\n",
              "      --fill-color: #D2E3FC;\n",
              "      --hover-bg-color: #434B5C;\n",
              "      --hover-fill-color: #FFFFFF;\n",
              "      --disabled-bg-color: #3B4455;\n",
              "      --disabled-fill-color: #666;\n",
              "  }\n",
              "\n",
              "  .colab-df-quickchart {\n",
              "    background-color: var(--bg-color);\n",
              "    border: none;\n",
              "    border-radius: 50%;\n",
              "    cursor: pointer;\n",
              "    display: none;\n",
              "    fill: var(--fill-color);\n",
              "    height: 32px;\n",
              "    padding: 0;\n",
              "    width: 32px;\n",
              "  }\n",
              "\n",
              "  .colab-df-quickchart:hover {\n",
              "    background-color: var(--hover-bg-color);\n",
              "    box-shadow: 0 1px 2px rgba(60, 64, 67, 0.3), 0 1px 3px 1px rgba(60, 64, 67, 0.15);\n",
              "    fill: var(--button-hover-fill-color);\n",
              "  }\n",
              "\n",
              "  .colab-df-quickchart-complete:disabled,\n",
              "  .colab-df-quickchart-complete:disabled:hover {\n",
              "    background-color: var(--disabled-bg-color);\n",
              "    fill: var(--disabled-fill-color);\n",
              "    box-shadow: none;\n",
              "  }\n",
              "\n",
              "  .colab-df-spinner {\n",
              "    border: 2px solid var(--fill-color);\n",
              "    border-color: transparent;\n",
              "    border-bottom-color: var(--fill-color);\n",
              "    animation:\n",
              "      spin 1s steps(1) infinite;\n",
              "  }\n",
              "\n",
              "  @keyframes spin {\n",
              "    0% {\n",
              "      border-color: transparent;\n",
              "      border-bottom-color: var(--fill-color);\n",
              "      border-left-color: var(--fill-color);\n",
              "    }\n",
              "    20% {\n",
              "      border-color: transparent;\n",
              "      border-left-color: var(--fill-color);\n",
              "      border-top-color: var(--fill-color);\n",
              "    }\n",
              "    30% {\n",
              "      border-color: transparent;\n",
              "      border-left-color: var(--fill-color);\n",
              "      border-top-color: var(--fill-color);\n",
              "      border-right-color: var(--fill-color);\n",
              "    }\n",
              "    40% {\n",
              "      border-color: transparent;\n",
              "      border-right-color: var(--fill-color);\n",
              "      border-top-color: var(--fill-color);\n",
              "    }\n",
              "    60% {\n",
              "      border-color: transparent;\n",
              "      border-right-color: var(--fill-color);\n",
              "    }\n",
              "    80% {\n",
              "      border-color: transparent;\n",
              "      border-right-color: var(--fill-color);\n",
              "      border-bottom-color: var(--fill-color);\n",
              "    }\n",
              "    90% {\n",
              "      border-color: transparent;\n",
              "      border-bottom-color: var(--fill-color);\n",
              "    }\n",
              "  }\n",
              "</style>\n",
              "\n",
              "  <script>\n",
              "    async function quickchart(key) {\n",
              "      const quickchartButtonEl =\n",
              "        document.querySelector('#' + key + ' button');\n",
              "      quickchartButtonEl.disabled = true;  // To prevent multiple clicks.\n",
              "      quickchartButtonEl.classList.add('colab-df-spinner');\n",
              "      try {\n",
              "        const charts = await google.colab.kernel.invokeFunction(\n",
              "            'suggestCharts', [key], {});\n",
              "      } catch (error) {\n",
              "        console.error('Error during call to suggestCharts:', error);\n",
              "      }\n",
              "      quickchartButtonEl.classList.remove('colab-df-spinner');\n",
              "      quickchartButtonEl.classList.add('colab-df-quickchart-complete');\n",
              "    }\n",
              "    (() => {\n",
              "      let quickchartButtonEl =\n",
              "        document.querySelector('#df-b95f89aa-eda7-43bf-a852-e31b6e97757c button');\n",
              "      quickchartButtonEl.style.display =\n",
              "        google.colab.kernel.accessAllowed ? 'block' : 'none';\n",
              "    })();\n",
              "  </script>\n",
              "</div>\n",
              "\n",
              "  <div id=\"id_6584862e-7e6c-4eb7-8e9f-8d184ac1cac8\">\n",
              "    <style>\n",
              "      .colab-df-generate {\n",
              "        background-color: #E8F0FE;\n",
              "        border: none;\n",
              "        border-radius: 50%;\n",
              "        cursor: pointer;\n",
              "        display: none;\n",
              "        fill: #1967D2;\n",
              "        height: 32px;\n",
              "        padding: 0 0 0 0;\n",
              "        width: 32px;\n",
              "      }\n",
              "\n",
              "      .colab-df-generate:hover {\n",
              "        background-color: #E2EBFA;\n",
              "        box-shadow: 0px 1px 2px rgba(60, 64, 67, 0.3), 0px 1px 3px 1px rgba(60, 64, 67, 0.15);\n",
              "        fill: #174EA6;\n",
              "      }\n",
              "\n",
              "      [theme=dark] .colab-df-generate {\n",
              "        background-color: #3B4455;\n",
              "        fill: #D2E3FC;\n",
              "      }\n",
              "\n",
              "      [theme=dark] .colab-df-generate:hover {\n",
              "        background-color: #434B5C;\n",
              "        box-shadow: 0px 1px 3px 1px rgba(0, 0, 0, 0.15);\n",
              "        filter: drop-shadow(0px 1px 2px rgba(0, 0, 0, 0.3));\n",
              "        fill: #FFFFFF;\n",
              "      }\n",
              "    </style>\n",
              "    <button class=\"colab-df-generate\" onclick=\"generateWithVariable('candy')\"\n",
              "            title=\"Generate code using this dataframe.\"\n",
              "            style=\"display:none;\">\n",
              "\n",
              "  <svg xmlns=\"http://www.w3.org/2000/svg\" height=\"24px\"viewBox=\"0 0 24 24\"\n",
              "       width=\"24px\">\n",
              "    <path d=\"M7,19H8.4L18.45,9,17,7.55,7,17.6ZM5,21V16.75L18.45,3.32a2,2,0,0,1,2.83,0l1.4,1.43a1.91,1.91,0,0,1,.58,1.4,1.91,1.91,0,0,1-.58,1.4L9.25,21ZM18.45,9,17,7.55Zm-12,3A5.31,5.31,0,0,0,4.9,8.1,5.31,5.31,0,0,0,1,6.5,5.31,5.31,0,0,0,4.9,4.9,5.31,5.31,0,0,0,6.5,1,5.31,5.31,0,0,0,8.1,4.9,5.31,5.31,0,0,0,12,6.5,5.46,5.46,0,0,0,6.5,12Z\"/>\n",
              "  </svg>\n",
              "    </button>\n",
              "    <script>\n",
              "      (() => {\n",
              "      const buttonEl =\n",
              "        document.querySelector('#id_6584862e-7e6c-4eb7-8e9f-8d184ac1cac8 button.colab-df-generate');\n",
              "      buttonEl.style.display =\n",
              "        google.colab.kernel.accessAllowed ? 'block' : 'none';\n",
              "\n",
              "      buttonEl.onclick = () => {\n",
              "        google.colab.notebook.generateWithVariable('candy');\n",
              "      }\n",
              "      })();\n",
              "    </script>\n",
              "  </div>\n",
              "\n",
              "    </div>\n",
              "  </div>\n"
            ],
            "application/vnd.google.colaboratory.intrinsic+json": {
              "type": "dataframe",
              "variable_name": "candy"
            }
          },
          "metadata": {},
          "execution_count": 11
        }
      ],
      "source": [
        "columns_removed = [\n",
        "    'Internal ID',\n",
        "     'Q5: STATE, PROVINCE, COUNTY, ETC',\n",
        "     'Q7: JOY OTHER',\n",
        "     'Q8: DESPAIR OTHER',\n",
        "     'Q9: OTHER COMMENTS',\n",
        "     'Unnamed: 113',\n",
        "     'Click Coordinates (x, y)'\n",
        "]\n",
        "\n",
        "candy = candy.drop(columns= columns_removed)\n",
        "candy"
      ]
    },
    {
      "cell_type": "markdown",
      "metadata": {
        "id": "7GKsDdBIi6jb"
      },
      "source": [
        "**Code Check:** As a check for the above exercises, the shape of your data should now be: `(2460, 113)`"
      ]
    },
    {
      "cell_type": "code",
      "execution_count": 12,
      "metadata": {
        "colab": {
          "base_uri": "https://localhost:8080/"
        },
        "id": "7TInoJPGi6jb",
        "outputId": "ad1c0c53-427f-4900-88b4-acb368a913ed"
      },
      "outputs": [
        {
          "output_type": "execute_result",
          "data": {
            "text/plain": [
              "(2460, 113)"
            ]
          },
          "metadata": {},
          "execution_count": 12
        }
      ],
      "source": [
        "candy.shape"
      ]
    },
    {
      "cell_type": "markdown",
      "metadata": {
        "id": "OZhQ2ecri6jb"
      },
      "source": [
        "**Exercise4:** Let's now take a look at the `Q2: GENDER` column since this will be what we are trying to predict. Take a look at the value counts for this column."
      ]
    },
    {
      "cell_type": "code",
      "execution_count": 13,
      "metadata": {
        "colab": {
          "base_uri": "https://localhost:8080/",
          "height": 241
        },
        "id": "PeH_3siNi6jb",
        "outputId": "d782075f-7f83-4d24-f2cb-82f3b40d620b"
      },
      "outputs": [
        {
          "output_type": "execute_result",
          "data": {
            "text/plain": [
              "Q2: GENDER\n",
              "Male                  1466\n",
              "Female                 839\n",
              "I'd rather not say      83\n",
              "Other                   30\n",
              "Name: count, dtype: int64"
            ],
            "text/html": [
              "<div>\n",
              "<style scoped>\n",
              "    .dataframe tbody tr th:only-of-type {\n",
              "        vertical-align: middle;\n",
              "    }\n",
              "\n",
              "    .dataframe tbody tr th {\n",
              "        vertical-align: top;\n",
              "    }\n",
              "\n",
              "    .dataframe thead th {\n",
              "        text-align: right;\n",
              "    }\n",
              "</style>\n",
              "<table border=\"1\" class=\"dataframe\">\n",
              "  <thead>\n",
              "    <tr style=\"text-align: right;\">\n",
              "      <th></th>\n",
              "      <th>count</th>\n",
              "    </tr>\n",
              "    <tr>\n",
              "      <th>Q2: GENDER</th>\n",
              "      <th></th>\n",
              "    </tr>\n",
              "  </thead>\n",
              "  <tbody>\n",
              "    <tr>\n",
              "      <th>Male</th>\n",
              "      <td>1466</td>\n",
              "    </tr>\n",
              "    <tr>\n",
              "      <th>Female</th>\n",
              "      <td>839</td>\n",
              "    </tr>\n",
              "    <tr>\n",
              "      <th>I'd rather not say</th>\n",
              "      <td>83</td>\n",
              "    </tr>\n",
              "    <tr>\n",
              "      <th>Other</th>\n",
              "      <td>30</td>\n",
              "    </tr>\n",
              "  </tbody>\n",
              "</table>\n",
              "</div><br><label><b>dtype:</b> int64</label>"
            ]
          },
          "metadata": {},
          "execution_count": 13
        }
      ],
      "source": [
        "candy['Q2: GENDER'].value_counts()"
      ]
    },
    {
      "cell_type": "markdown",
      "metadata": {
        "id": "DOzMIK6ii6jb"
      },
      "source": [
        "**Q3:** How many missing values are in the `Q2: GENDER` column? Save this as `Q3`."
      ]
    },
    {
      "cell_type": "code",
      "execution_count": 14,
      "metadata": {
        "id": "bVjVlRaFi6jc"
      },
      "outputs": [],
      "source": [
        "Q3 = candy['Q2: GENDER'].isna().sum()"
      ]
    },
    {
      "cell_type": "markdown",
      "metadata": {
        "id": "MeKOxn4Hi6jc"
      },
      "source": [
        "**Exercise5:** Using the `candy` DataFrame, remove all rows with a missing value in the `Q2: GENDER` column.  (This should overwrite and be saved as `candy` like you have been doing for the previous exercises.)"
      ]
    },
    {
      "cell_type": "code",
      "execution_count": 15,
      "metadata": {
        "id": "XUboqGQni6jc"
      },
      "outputs": [],
      "source": [
        "candy = candy.dropna(subset= ['Q2: GENDER'])"
      ]
    },
    {
      "cell_type": "markdown",
      "metadata": {
        "id": "gl1JDGVCi6jc"
      },
      "source": [
        "**Exercise6:** For this project, we want to use binary classification, which predicts one of two classes. Because we are using a binary classification model, we will try to predict between `Male` or `Female`. Select only the rows that contain either `Male` or `Female` in the `Q2: GENDER` column."
      ]
    },
    {
      "cell_type": "code",
      "execution_count": 16,
      "metadata": {
        "scrolled": true,
        "id": "3hG8cU_gi6jc"
      },
      "outputs": [],
      "source": [
        "candy = candy[candy['Q2: GENDER'].isin(['Male', 'Female'])]"
      ]
    },
    {
      "cell_type": "markdown",
      "metadata": {
        "id": "tN4cahQHi6jd"
      },
      "source": [
        "**Code Check:** As a check for the above exercises, the shape of your data should now be: `(2305, 113)`"
      ]
    },
    {
      "cell_type": "code",
      "execution_count": 17,
      "metadata": {
        "colab": {
          "base_uri": "https://localhost:8080/"
        },
        "id": "Tl3pZx4ai6jd",
        "outputId": "f0147aa1-9b1d-4385-dab4-4e25b7346578"
      },
      "outputs": [
        {
          "output_type": "execute_result",
          "data": {
            "text/plain": [
              "(2305, 113)"
            ]
          },
          "metadata": {},
          "execution_count": 17
        }
      ],
      "source": [
        "candy.shape"
      ]
    },
    {
      "cell_type": "markdown",
      "metadata": {
        "id": "cKw8tr2ui6jd"
      },
      "source": [
        "Now, let's work on filling some of the missing data.  There are easier ways to do this with the sklearn library which you will learn about more in the machine learning classes, but for now, let's try to practice our Pandas skills."
      ]
    },
    {
      "cell_type": "markdown",
      "metadata": {
        "id": "RO-HAN9_i6jd"
      },
      "source": [
        "**Q4:** How many missing values are in the `Q1: GOING OUT?` column? Save this number as `Q4`."
      ]
    },
    {
      "cell_type": "code",
      "execution_count": 18,
      "metadata": {
        "id": "5h9YHsQxi6jd"
      },
      "outputs": [],
      "source": [
        "Q4 = candy['Q1: GOING OUT?'].isna().sum()"
      ]
    },
    {
      "cell_type": "markdown",
      "metadata": {
        "id": "wZR3-S1oi6jd"
      },
      "source": [
        "**Exercise7:** For a future analysis question, we are interested in those that we know will *definitely* go out for Halloween.  Because of this, fill all missing values in the `Q1: GOING OUT?` column with a `No` value."
      ]
    },
    {
      "cell_type": "code",
      "execution_count": 19,
      "metadata": {
        "code_folding": [],
        "id": "qFrThYKfi6jd"
      },
      "outputs": [],
      "source": [
        "candy['Q1: GOING OUT?'].fillna('No', inplace= True)"
      ]
    },
    {
      "cell_type": "markdown",
      "metadata": {
        "id": "Ih4SRXm4i6jd"
      },
      "source": [
        "**Code Check:** Double check your above work and look at the value counts for the `Q1: GOING OUT?` column.  Make sure that you only have \"Yes\" and No\" values and that they add up to 2305, which is the number of rows you should have at this step in the assignment."
      ]
    },
    {
      "cell_type": "code",
      "execution_count": 20,
      "metadata": {
        "colab": {
          "base_uri": "https://localhost:8080/",
          "height": 178
        },
        "id": "QS3J_4mTi6jd",
        "outputId": "1a180a80-195b-4de8-8364-48d86bb71467"
      },
      "outputs": [
        {
          "output_type": "execute_result",
          "data": {
            "text/plain": [
              "Q1: GOING OUT?\n",
              "No     2007\n",
              "Yes     298\n",
              "Name: count, dtype: int64"
            ],
            "text/html": [
              "<div>\n",
              "<style scoped>\n",
              "    .dataframe tbody tr th:only-of-type {\n",
              "        vertical-align: middle;\n",
              "    }\n",
              "\n",
              "    .dataframe tbody tr th {\n",
              "        vertical-align: top;\n",
              "    }\n",
              "\n",
              "    .dataframe thead th {\n",
              "        text-align: right;\n",
              "    }\n",
              "</style>\n",
              "<table border=\"1\" class=\"dataframe\">\n",
              "  <thead>\n",
              "    <tr style=\"text-align: right;\">\n",
              "      <th></th>\n",
              "      <th>count</th>\n",
              "    </tr>\n",
              "    <tr>\n",
              "      <th>Q1: GOING OUT?</th>\n",
              "      <th></th>\n",
              "    </tr>\n",
              "  </thead>\n",
              "  <tbody>\n",
              "    <tr>\n",
              "      <th>No</th>\n",
              "      <td>2007</td>\n",
              "    </tr>\n",
              "    <tr>\n",
              "      <th>Yes</th>\n",
              "      <td>298</td>\n",
              "    </tr>\n",
              "  </tbody>\n",
              "</table>\n",
              "</div><br><label><b>dtype:</b> int64</label>"
            ]
          },
          "metadata": {},
          "execution_count": 20
        }
      ],
      "source": [
        "candy['Q1: GOING OUT?'].value_counts()\n"
      ]
    },
    {
      "cell_type": "markdown",
      "metadata": {
        "id": "XflVctgUi6je"
      },
      "source": [
        "**Exercise8:** To get ready for the next step, let's practice selecting all the columns: going from `Q6 | 100 Grand Bar` to `Q11: DAY`.  Save this slice as `candy_slice`."
      ]
    },
    {
      "cell_type": "code",
      "execution_count": 21,
      "metadata": {
        "id": "KNUdhglzi6je"
      },
      "outputs": [],
      "source": [
        "candy_slice = candy.loc[:, 'Q6 | 100 Grand Bar' : 'Q11: DAY']\n"
      ]
    },
    {
      "cell_type": "markdown",
      "metadata": {
        "id": "bY1eimIli6je"
      },
      "source": [
        "**Exercise9:** Now that you know how to slice the data, fill any missing values in the `candy` DataFrame for those columns (going from `Q6 | 100 Grand Bar` to `Q11: DAY`) with the string `NO_ANSWER`. **Make sure you are working with the `candy` DataFrame and not the `candy_slice` DataFrame.**"
      ]
    },
    {
      "cell_type": "code",
      "execution_count": 22,
      "metadata": {
        "id": "zcilrkJzi6je"
      },
      "outputs": [],
      "source": [
        "candy.loc[:, 'Q6 | 100 Grand Bar' : 'Q11: DAY'] = candy.loc[:, 'Q6 | 100 Grand Bar' : 'Q11: DAY'].fillna('NO_ANSWER')"
      ]
    },
    {
      "cell_type": "markdown",
      "metadata": {
        "id": "EMuF41v7i6je"
      },
      "source": [
        "**Exercise10:** For all four `Q12: Media` columns in the `candy` DataFrame, fill the missing values with `0.0`."
      ]
    },
    {
      "cell_type": "code",
      "execution_count": 23,
      "metadata": {
        "colab": {
          "base_uri": "https://localhost:8080/",
          "height": 652
        },
        "id": "Cx2Kl8M4i6je",
        "outputId": "75fa8e66-1b41-484c-a3e7-a9218a009727"
      },
      "outputs": [
        {
          "output_type": "execute_result",
          "data": {
            "text/plain": [
              "     Q1: GOING OUT? Q2: GENDER Q3: AGE Q4: COUNTRY Q6 | 100 Grand Bar  \\\n",
              "1                No       Male      44        USA                 MEH   \n",
              "2                No       Male      49         USA          NO_ANSWER   \n",
              "3                No       Male      40          us                MEH   \n",
              "4                No       Male      23         usa                JOY   \n",
              "5                No       Male     NaN         NaN                JOY   \n",
              "...             ...        ...     ...         ...                ...   \n",
              "2474             No       Male      24         USA                JOY   \n",
              "2475             No     Female      33         USA                MEH   \n",
              "2476             No     Female      26        USA                 MEH   \n",
              "2477             No       Male      58         Usa          NO_ANSWER   \n",
              "2478             No     Female      66         usa            DESPAIR   \n",
              "\n",
              "     Q6 | Anonymous brown globs that come in black and orange wrappers\\t(a.k.a. Mary Janes)  \\\n",
              "1                                               DESPAIR                                       \n",
              "2                                             NO_ANSWER                                       \n",
              "3                                               DESPAIR                                       \n",
              "4                                               DESPAIR                                       \n",
              "5                                               DESPAIR                                       \n",
              "...                                                 ...                                       \n",
              "2474                                            DESPAIR                                       \n",
              "2475                                            DESPAIR                                       \n",
              "2476                                            DESPAIR                                       \n",
              "2477                                          NO_ANSWER                                       \n",
              "2478                                            DESPAIR                                       \n",
              "\n",
              "     Q6 | Any full-sized candy bar Q6 | Black Jacks Q6 | Bonkers (the candy)  \\\n",
              "1                              JOY              MEH                  DESPAIR   \n",
              "2                        NO_ANSWER        NO_ANSWER                NO_ANSWER   \n",
              "3                              JOY              MEH                      MEH   \n",
              "4                              JOY          DESPAIR                      MEH   \n",
              "5                              JOY        NO_ANSWER                NO_ANSWER   \n",
              "...                            ...              ...                      ...   \n",
              "2474                           MEH          DESPAIR                  DESPAIR   \n",
              "2475                           JOY        NO_ANSWER                NO_ANSWER   \n",
              "2476                           JOY          DESPAIR                      MEH   \n",
              "2477                     NO_ANSWER        NO_ANSWER                NO_ANSWER   \n",
              "2478                           JOY          DESPAIR                  DESPAIR   \n",
              "\n",
              "     Q6 | Bonkers (the board game)  ... Q6 | Whatchamacallit Bars  \\\n",
              "1                          DESPAIR  ...                   DESPAIR   \n",
              "2                        NO_ANSWER  ...                 NO_ANSWER   \n",
              "3                          DESPAIR  ...                       JOY   \n",
              "4                          DESPAIR  ...                       JOY   \n",
              "5                        NO_ANSWER  ...                       JOY   \n",
              "...                            ...  ...                       ...   \n",
              "2474                           MEH  ...                   DESPAIR   \n",
              "2475                     NO_ANSWER  ...                       JOY   \n",
              "2476                           JOY  ...                       MEH   \n",
              "2477                     NO_ANSWER  ...                 NO_ANSWER   \n",
              "2478                       DESPAIR  ...                   DESPAIR   \n",
              "\n",
              "     Q6 | White Bread Q6 | Whole Wheat anything Q6 | York Peppermint Patties  \\\n",
              "1             DESPAIR                   DESPAIR                      DESPAIR   \n",
              "2           NO_ANSWER                 NO_ANSWER                    NO_ANSWER   \n",
              "3             DESPAIR                   DESPAIR                      DESPAIR   \n",
              "4             DESPAIR                   DESPAIR                          JOY   \n",
              "5             DESPAIR                   DESPAIR                          JOY   \n",
              "...               ...                       ...                          ...   \n",
              "2474              MEH                   DESPAIR                          MEH   \n",
              "2475          DESPAIR                       MEH                          JOY   \n",
              "2476          DESPAIR                   DESPAIR                          MEH   \n",
              "2477        NO_ANSWER                 NO_ANSWER                    NO_ANSWER   \n",
              "2478              MEH                   DESPAIR                          JOY   \n",
              "\n",
              "          Q10: DRESS   Q11: DAY Q12: MEDIA [Daily Dish] Q12: MEDIA [Science]  \\\n",
              "1     White and gold     Sunday                     0.0                  1.0   \n",
              "2          NO_ANSWER  NO_ANSWER                     0.0                  0.0   \n",
              "3     White and gold     Sunday                     0.0                  1.0   \n",
              "4     White and gold     Friday                     0.0                  1.0   \n",
              "5          NO_ANSWER  NO_ANSWER                     0.0                  1.0   \n",
              "...              ...        ...                     ...                  ...   \n",
              "2474  White and gold     Friday                     0.0                  0.0   \n",
              "2475  Blue and black     Friday                     0.0                  1.0   \n",
              "2476  Blue and black     Friday                     0.0                  1.0   \n",
              "2477       NO_ANSWER  NO_ANSWER                     0.0                  0.0   \n",
              "2478  White and gold     Sunday                     1.0                  0.0   \n",
              "\n",
              "     Q12: MEDIA [ESPN] Q12: MEDIA [Yahoo]  \n",
              "1                  0.0                0.0  \n",
              "2                  0.0                0.0  \n",
              "3                  0.0                0.0  \n",
              "4                  0.0                0.0  \n",
              "5                  0.0                0.0  \n",
              "...                ...                ...  \n",
              "2474               0.0                0.0  \n",
              "2475               0.0                0.0  \n",
              "2476               0.0                0.0  \n",
              "2477               0.0                0.0  \n",
              "2478               0.0                0.0  \n",
              "\n",
              "[2305 rows x 113 columns]"
            ],
            "text/html": [
              "\n",
              "  <div id=\"df-d7c15ca7-456d-4e17-802a-64bce77b5649\" class=\"colab-df-container\">\n",
              "    <div>\n",
              "<style scoped>\n",
              "    .dataframe tbody tr th:only-of-type {\n",
              "        vertical-align: middle;\n",
              "    }\n",
              "\n",
              "    .dataframe tbody tr th {\n",
              "        vertical-align: top;\n",
              "    }\n",
              "\n",
              "    .dataframe thead th {\n",
              "        text-align: right;\n",
              "    }\n",
              "</style>\n",
              "<table border=\"1\" class=\"dataframe\">\n",
              "  <thead>\n",
              "    <tr style=\"text-align: right;\">\n",
              "      <th></th>\n",
              "      <th>Q1: GOING OUT?</th>\n",
              "      <th>Q2: GENDER</th>\n",
              "      <th>Q3: AGE</th>\n",
              "      <th>Q4: COUNTRY</th>\n",
              "      <th>Q6 | 100 Grand Bar</th>\n",
              "      <th>Q6 | Anonymous brown globs that come in black and orange wrappers\\t(a.k.a. Mary Janes)</th>\n",
              "      <th>Q6 | Any full-sized candy bar</th>\n",
              "      <th>Q6 | Black Jacks</th>\n",
              "      <th>Q6 | Bonkers (the candy)</th>\n",
              "      <th>Q6 | Bonkers (the board game)</th>\n",
              "      <th>...</th>\n",
              "      <th>Q6 | Whatchamacallit Bars</th>\n",
              "      <th>Q6 | White Bread</th>\n",
              "      <th>Q6 | Whole Wheat anything</th>\n",
              "      <th>Q6 | York Peppermint Patties</th>\n",
              "      <th>Q10: DRESS</th>\n",
              "      <th>Q11: DAY</th>\n",
              "      <th>Q12: MEDIA [Daily Dish]</th>\n",
              "      <th>Q12: MEDIA [Science]</th>\n",
              "      <th>Q12: MEDIA [ESPN]</th>\n",
              "      <th>Q12: MEDIA [Yahoo]</th>\n",
              "    </tr>\n",
              "  </thead>\n",
              "  <tbody>\n",
              "    <tr>\n",
              "      <th>1</th>\n",
              "      <td>No</td>\n",
              "      <td>Male</td>\n",
              "      <td>44</td>\n",
              "      <td>USA</td>\n",
              "      <td>MEH</td>\n",
              "      <td>DESPAIR</td>\n",
              "      <td>JOY</td>\n",
              "      <td>MEH</td>\n",
              "      <td>DESPAIR</td>\n",
              "      <td>DESPAIR</td>\n",
              "      <td>...</td>\n",
              "      <td>DESPAIR</td>\n",
              "      <td>DESPAIR</td>\n",
              "      <td>DESPAIR</td>\n",
              "      <td>DESPAIR</td>\n",
              "      <td>White and gold</td>\n",
              "      <td>Sunday</td>\n",
              "      <td>0.0</td>\n",
              "      <td>1.0</td>\n",
              "      <td>0.0</td>\n",
              "      <td>0.0</td>\n",
              "    </tr>\n",
              "    <tr>\n",
              "      <th>2</th>\n",
              "      <td>No</td>\n",
              "      <td>Male</td>\n",
              "      <td>49</td>\n",
              "      <td>USA</td>\n",
              "      <td>NO_ANSWER</td>\n",
              "      <td>NO_ANSWER</td>\n",
              "      <td>NO_ANSWER</td>\n",
              "      <td>NO_ANSWER</td>\n",
              "      <td>NO_ANSWER</td>\n",
              "      <td>NO_ANSWER</td>\n",
              "      <td>...</td>\n",
              "      <td>NO_ANSWER</td>\n",
              "      <td>NO_ANSWER</td>\n",
              "      <td>NO_ANSWER</td>\n",
              "      <td>NO_ANSWER</td>\n",
              "      <td>NO_ANSWER</td>\n",
              "      <td>NO_ANSWER</td>\n",
              "      <td>0.0</td>\n",
              "      <td>0.0</td>\n",
              "      <td>0.0</td>\n",
              "      <td>0.0</td>\n",
              "    </tr>\n",
              "    <tr>\n",
              "      <th>3</th>\n",
              "      <td>No</td>\n",
              "      <td>Male</td>\n",
              "      <td>40</td>\n",
              "      <td>us</td>\n",
              "      <td>MEH</td>\n",
              "      <td>DESPAIR</td>\n",
              "      <td>JOY</td>\n",
              "      <td>MEH</td>\n",
              "      <td>MEH</td>\n",
              "      <td>DESPAIR</td>\n",
              "      <td>...</td>\n",
              "      <td>JOY</td>\n",
              "      <td>DESPAIR</td>\n",
              "      <td>DESPAIR</td>\n",
              "      <td>DESPAIR</td>\n",
              "      <td>White and gold</td>\n",
              "      <td>Sunday</td>\n",
              "      <td>0.0</td>\n",
              "      <td>1.0</td>\n",
              "      <td>0.0</td>\n",
              "      <td>0.0</td>\n",
              "    </tr>\n",
              "    <tr>\n",
              "      <th>4</th>\n",
              "      <td>No</td>\n",
              "      <td>Male</td>\n",
              "      <td>23</td>\n",
              "      <td>usa</td>\n",
              "      <td>JOY</td>\n",
              "      <td>DESPAIR</td>\n",
              "      <td>JOY</td>\n",
              "      <td>DESPAIR</td>\n",
              "      <td>MEH</td>\n",
              "      <td>DESPAIR</td>\n",
              "      <td>...</td>\n",
              "      <td>JOY</td>\n",
              "      <td>DESPAIR</td>\n",
              "      <td>DESPAIR</td>\n",
              "      <td>JOY</td>\n",
              "      <td>White and gold</td>\n",
              "      <td>Friday</td>\n",
              "      <td>0.0</td>\n",
              "      <td>1.0</td>\n",
              "      <td>0.0</td>\n",
              "      <td>0.0</td>\n",
              "    </tr>\n",
              "    <tr>\n",
              "      <th>5</th>\n",
              "      <td>No</td>\n",
              "      <td>Male</td>\n",
              "      <td>NaN</td>\n",
              "      <td>NaN</td>\n",
              "      <td>JOY</td>\n",
              "      <td>DESPAIR</td>\n",
              "      <td>JOY</td>\n",
              "      <td>NO_ANSWER</td>\n",
              "      <td>NO_ANSWER</td>\n",
              "      <td>NO_ANSWER</td>\n",
              "      <td>...</td>\n",
              "      <td>JOY</td>\n",
              "      <td>DESPAIR</td>\n",
              "      <td>DESPAIR</td>\n",
              "      <td>JOY</td>\n",
              "      <td>NO_ANSWER</td>\n",
              "      <td>NO_ANSWER</td>\n",
              "      <td>0.0</td>\n",
              "      <td>1.0</td>\n",
              "      <td>0.0</td>\n",
              "      <td>0.0</td>\n",
              "    </tr>\n",
              "    <tr>\n",
              "      <th>...</th>\n",
              "      <td>...</td>\n",
              "      <td>...</td>\n",
              "      <td>...</td>\n",
              "      <td>...</td>\n",
              "      <td>...</td>\n",
              "      <td>...</td>\n",
              "      <td>...</td>\n",
              "      <td>...</td>\n",
              "      <td>...</td>\n",
              "      <td>...</td>\n",
              "      <td>...</td>\n",
              "      <td>...</td>\n",
              "      <td>...</td>\n",
              "      <td>...</td>\n",
              "      <td>...</td>\n",
              "      <td>...</td>\n",
              "      <td>...</td>\n",
              "      <td>...</td>\n",
              "      <td>...</td>\n",
              "      <td>...</td>\n",
              "      <td>...</td>\n",
              "    </tr>\n",
              "    <tr>\n",
              "      <th>2474</th>\n",
              "      <td>No</td>\n",
              "      <td>Male</td>\n",
              "      <td>24</td>\n",
              "      <td>USA</td>\n",
              "      <td>JOY</td>\n",
              "      <td>DESPAIR</td>\n",
              "      <td>MEH</td>\n",
              "      <td>DESPAIR</td>\n",
              "      <td>DESPAIR</td>\n",
              "      <td>MEH</td>\n",
              "      <td>...</td>\n",
              "      <td>DESPAIR</td>\n",
              "      <td>MEH</td>\n",
              "      <td>DESPAIR</td>\n",
              "      <td>MEH</td>\n",
              "      <td>White and gold</td>\n",
              "      <td>Friday</td>\n",
              "      <td>0.0</td>\n",
              "      <td>0.0</td>\n",
              "      <td>0.0</td>\n",
              "      <td>0.0</td>\n",
              "    </tr>\n",
              "    <tr>\n",
              "      <th>2475</th>\n",
              "      <td>No</td>\n",
              "      <td>Female</td>\n",
              "      <td>33</td>\n",
              "      <td>USA</td>\n",
              "      <td>MEH</td>\n",
              "      <td>DESPAIR</td>\n",
              "      <td>JOY</td>\n",
              "      <td>NO_ANSWER</td>\n",
              "      <td>NO_ANSWER</td>\n",
              "      <td>NO_ANSWER</td>\n",
              "      <td>...</td>\n",
              "      <td>JOY</td>\n",
              "      <td>DESPAIR</td>\n",
              "      <td>MEH</td>\n",
              "      <td>JOY</td>\n",
              "      <td>Blue and black</td>\n",
              "      <td>Friday</td>\n",
              "      <td>0.0</td>\n",
              "      <td>1.0</td>\n",
              "      <td>0.0</td>\n",
              "      <td>0.0</td>\n",
              "    </tr>\n",
              "    <tr>\n",
              "      <th>2476</th>\n",
              "      <td>No</td>\n",
              "      <td>Female</td>\n",
              "      <td>26</td>\n",
              "      <td>USA</td>\n",
              "      <td>MEH</td>\n",
              "      <td>DESPAIR</td>\n",
              "      <td>JOY</td>\n",
              "      <td>DESPAIR</td>\n",
              "      <td>MEH</td>\n",
              "      <td>JOY</td>\n",
              "      <td>...</td>\n",
              "      <td>MEH</td>\n",
              "      <td>DESPAIR</td>\n",
              "      <td>DESPAIR</td>\n",
              "      <td>MEH</td>\n",
              "      <td>Blue and black</td>\n",
              "      <td>Friday</td>\n",
              "      <td>0.0</td>\n",
              "      <td>1.0</td>\n",
              "      <td>0.0</td>\n",
              "      <td>0.0</td>\n",
              "    </tr>\n",
              "    <tr>\n",
              "      <th>2477</th>\n",
              "      <td>No</td>\n",
              "      <td>Male</td>\n",
              "      <td>58</td>\n",
              "      <td>Usa</td>\n",
              "      <td>NO_ANSWER</td>\n",
              "      <td>NO_ANSWER</td>\n",
              "      <td>NO_ANSWER</td>\n",
              "      <td>NO_ANSWER</td>\n",
              "      <td>NO_ANSWER</td>\n",
              "      <td>NO_ANSWER</td>\n",
              "      <td>...</td>\n",
              "      <td>NO_ANSWER</td>\n",
              "      <td>NO_ANSWER</td>\n",
              "      <td>NO_ANSWER</td>\n",
              "      <td>NO_ANSWER</td>\n",
              "      <td>NO_ANSWER</td>\n",
              "      <td>NO_ANSWER</td>\n",
              "      <td>0.0</td>\n",
              "      <td>0.0</td>\n",
              "      <td>0.0</td>\n",
              "      <td>0.0</td>\n",
              "    </tr>\n",
              "    <tr>\n",
              "      <th>2478</th>\n",
              "      <td>No</td>\n",
              "      <td>Female</td>\n",
              "      <td>66</td>\n",
              "      <td>usa</td>\n",
              "      <td>DESPAIR</td>\n",
              "      <td>DESPAIR</td>\n",
              "      <td>JOY</td>\n",
              "      <td>DESPAIR</td>\n",
              "      <td>DESPAIR</td>\n",
              "      <td>DESPAIR</td>\n",
              "      <td>...</td>\n",
              "      <td>DESPAIR</td>\n",
              "      <td>MEH</td>\n",
              "      <td>DESPAIR</td>\n",
              "      <td>JOY</td>\n",
              "      <td>White and gold</td>\n",
              "      <td>Sunday</td>\n",
              "      <td>1.0</td>\n",
              "      <td>0.0</td>\n",
              "      <td>0.0</td>\n",
              "      <td>0.0</td>\n",
              "    </tr>\n",
              "  </tbody>\n",
              "</table>\n",
              "<p>2305 rows × 113 columns</p>\n",
              "</div>\n",
              "    <div class=\"colab-df-buttons\">\n",
              "\n",
              "  <div class=\"colab-df-container\">\n",
              "    <button class=\"colab-df-convert\" onclick=\"convertToInteractive('df-d7c15ca7-456d-4e17-802a-64bce77b5649')\"\n",
              "            title=\"Convert this dataframe to an interactive table.\"\n",
              "            style=\"display:none;\">\n",
              "\n",
              "  <svg xmlns=\"http://www.w3.org/2000/svg\" height=\"24px\" viewBox=\"0 -960 960 960\">\n",
              "    <path d=\"M120-120v-720h720v720H120Zm60-500h600v-160H180v160Zm220 220h160v-160H400v160Zm0 220h160v-160H400v160ZM180-400h160v-160H180v160Zm440 0h160v-160H620v160ZM180-180h160v-160H180v160Zm440 0h160v-160H620v160Z\"/>\n",
              "  </svg>\n",
              "    </button>\n",
              "\n",
              "  <style>\n",
              "    .colab-df-container {\n",
              "      display:flex;\n",
              "      gap: 12px;\n",
              "    }\n",
              "\n",
              "    .colab-df-convert {\n",
              "      background-color: #E8F0FE;\n",
              "      border: none;\n",
              "      border-radius: 50%;\n",
              "      cursor: pointer;\n",
              "      display: none;\n",
              "      fill: #1967D2;\n",
              "      height: 32px;\n",
              "      padding: 0 0 0 0;\n",
              "      width: 32px;\n",
              "    }\n",
              "\n",
              "    .colab-df-convert:hover {\n",
              "      background-color: #E2EBFA;\n",
              "      box-shadow: 0px 1px 2px rgba(60, 64, 67, 0.3), 0px 1px 3px 1px rgba(60, 64, 67, 0.15);\n",
              "      fill: #174EA6;\n",
              "    }\n",
              "\n",
              "    .colab-df-buttons div {\n",
              "      margin-bottom: 4px;\n",
              "    }\n",
              "\n",
              "    [theme=dark] .colab-df-convert {\n",
              "      background-color: #3B4455;\n",
              "      fill: #D2E3FC;\n",
              "    }\n",
              "\n",
              "    [theme=dark] .colab-df-convert:hover {\n",
              "      background-color: #434B5C;\n",
              "      box-shadow: 0px 1px 3px 1px rgba(0, 0, 0, 0.15);\n",
              "      filter: drop-shadow(0px 1px 2px rgba(0, 0, 0, 0.3));\n",
              "      fill: #FFFFFF;\n",
              "    }\n",
              "  </style>\n",
              "\n",
              "    <script>\n",
              "      const buttonEl =\n",
              "        document.querySelector('#df-d7c15ca7-456d-4e17-802a-64bce77b5649 button.colab-df-convert');\n",
              "      buttonEl.style.display =\n",
              "        google.colab.kernel.accessAllowed ? 'block' : 'none';\n",
              "\n",
              "      async function convertToInteractive(key) {\n",
              "        const element = document.querySelector('#df-d7c15ca7-456d-4e17-802a-64bce77b5649');\n",
              "        const dataTable =\n",
              "          await google.colab.kernel.invokeFunction('convertToInteractive',\n",
              "                                                    [key], {});\n",
              "        if (!dataTable) return;\n",
              "\n",
              "        const docLinkHtml = 'Like what you see? Visit the ' +\n",
              "          '<a target=\"_blank\" href=https://colab.research.google.com/notebooks/data_table.ipynb>data table notebook</a>'\n",
              "          + ' to learn more about interactive tables.';\n",
              "        element.innerHTML = '';\n",
              "        dataTable['output_type'] = 'display_data';\n",
              "        await google.colab.output.renderOutput(dataTable, element);\n",
              "        const docLink = document.createElement('div');\n",
              "        docLink.innerHTML = docLinkHtml;\n",
              "        element.appendChild(docLink);\n",
              "      }\n",
              "    </script>\n",
              "  </div>\n",
              "\n",
              "\n",
              "<div id=\"df-8f2bbb8b-7df7-4394-9238-a21e834d05e2\">\n",
              "  <button class=\"colab-df-quickchart\" onclick=\"quickchart('df-8f2bbb8b-7df7-4394-9238-a21e834d05e2')\"\n",
              "            title=\"Suggest charts\"\n",
              "            style=\"display:none;\">\n",
              "\n",
              "<svg xmlns=\"http://www.w3.org/2000/svg\" height=\"24px\"viewBox=\"0 0 24 24\"\n",
              "     width=\"24px\">\n",
              "    <g>\n",
              "        <path d=\"M19 3H5c-1.1 0-2 .9-2 2v14c0 1.1.9 2 2 2h14c1.1 0 2-.9 2-2V5c0-1.1-.9-2-2-2zM9 17H7v-7h2v7zm4 0h-2V7h2v10zm4 0h-2v-4h2v4z\"/>\n",
              "    </g>\n",
              "</svg>\n",
              "  </button>\n",
              "\n",
              "<style>\n",
              "  .colab-df-quickchart {\n",
              "      --bg-color: #E8F0FE;\n",
              "      --fill-color: #1967D2;\n",
              "      --hover-bg-color: #E2EBFA;\n",
              "      --hover-fill-color: #174EA6;\n",
              "      --disabled-fill-color: #AAA;\n",
              "      --disabled-bg-color: #DDD;\n",
              "  }\n",
              "\n",
              "  [theme=dark] .colab-df-quickchart {\n",
              "      --bg-color: #3B4455;\n",
              "      --fill-color: #D2E3FC;\n",
              "      --hover-bg-color: #434B5C;\n",
              "      --hover-fill-color: #FFFFFF;\n",
              "      --disabled-bg-color: #3B4455;\n",
              "      --disabled-fill-color: #666;\n",
              "  }\n",
              "\n",
              "  .colab-df-quickchart {\n",
              "    background-color: var(--bg-color);\n",
              "    border: none;\n",
              "    border-radius: 50%;\n",
              "    cursor: pointer;\n",
              "    display: none;\n",
              "    fill: var(--fill-color);\n",
              "    height: 32px;\n",
              "    padding: 0;\n",
              "    width: 32px;\n",
              "  }\n",
              "\n",
              "  .colab-df-quickchart:hover {\n",
              "    background-color: var(--hover-bg-color);\n",
              "    box-shadow: 0 1px 2px rgba(60, 64, 67, 0.3), 0 1px 3px 1px rgba(60, 64, 67, 0.15);\n",
              "    fill: var(--button-hover-fill-color);\n",
              "  }\n",
              "\n",
              "  .colab-df-quickchart-complete:disabled,\n",
              "  .colab-df-quickchart-complete:disabled:hover {\n",
              "    background-color: var(--disabled-bg-color);\n",
              "    fill: var(--disabled-fill-color);\n",
              "    box-shadow: none;\n",
              "  }\n",
              "\n",
              "  .colab-df-spinner {\n",
              "    border: 2px solid var(--fill-color);\n",
              "    border-color: transparent;\n",
              "    border-bottom-color: var(--fill-color);\n",
              "    animation:\n",
              "      spin 1s steps(1) infinite;\n",
              "  }\n",
              "\n",
              "  @keyframes spin {\n",
              "    0% {\n",
              "      border-color: transparent;\n",
              "      border-bottom-color: var(--fill-color);\n",
              "      border-left-color: var(--fill-color);\n",
              "    }\n",
              "    20% {\n",
              "      border-color: transparent;\n",
              "      border-left-color: var(--fill-color);\n",
              "      border-top-color: var(--fill-color);\n",
              "    }\n",
              "    30% {\n",
              "      border-color: transparent;\n",
              "      border-left-color: var(--fill-color);\n",
              "      border-top-color: var(--fill-color);\n",
              "      border-right-color: var(--fill-color);\n",
              "    }\n",
              "    40% {\n",
              "      border-color: transparent;\n",
              "      border-right-color: var(--fill-color);\n",
              "      border-top-color: var(--fill-color);\n",
              "    }\n",
              "    60% {\n",
              "      border-color: transparent;\n",
              "      border-right-color: var(--fill-color);\n",
              "    }\n",
              "    80% {\n",
              "      border-color: transparent;\n",
              "      border-right-color: var(--fill-color);\n",
              "      border-bottom-color: var(--fill-color);\n",
              "    }\n",
              "    90% {\n",
              "      border-color: transparent;\n",
              "      border-bottom-color: var(--fill-color);\n",
              "    }\n",
              "  }\n",
              "</style>\n",
              "\n",
              "  <script>\n",
              "    async function quickchart(key) {\n",
              "      const quickchartButtonEl =\n",
              "        document.querySelector('#' + key + ' button');\n",
              "      quickchartButtonEl.disabled = true;  // To prevent multiple clicks.\n",
              "      quickchartButtonEl.classList.add('colab-df-spinner');\n",
              "      try {\n",
              "        const charts = await google.colab.kernel.invokeFunction(\n",
              "            'suggestCharts', [key], {});\n",
              "      } catch (error) {\n",
              "        console.error('Error during call to suggestCharts:', error);\n",
              "      }\n",
              "      quickchartButtonEl.classList.remove('colab-df-spinner');\n",
              "      quickchartButtonEl.classList.add('colab-df-quickchart-complete');\n",
              "    }\n",
              "    (() => {\n",
              "      let quickchartButtonEl =\n",
              "        document.querySelector('#df-8f2bbb8b-7df7-4394-9238-a21e834d05e2 button');\n",
              "      quickchartButtonEl.style.display =\n",
              "        google.colab.kernel.accessAllowed ? 'block' : 'none';\n",
              "    })();\n",
              "  </script>\n",
              "</div>\n",
              "\n",
              "  <div id=\"id_0a1246e4-82aa-4d96-87d5-cd3403db0038\">\n",
              "    <style>\n",
              "      .colab-df-generate {\n",
              "        background-color: #E8F0FE;\n",
              "        border: none;\n",
              "        border-radius: 50%;\n",
              "        cursor: pointer;\n",
              "        display: none;\n",
              "        fill: #1967D2;\n",
              "        height: 32px;\n",
              "        padding: 0 0 0 0;\n",
              "        width: 32px;\n",
              "      }\n",
              "\n",
              "      .colab-df-generate:hover {\n",
              "        background-color: #E2EBFA;\n",
              "        box-shadow: 0px 1px 2px rgba(60, 64, 67, 0.3), 0px 1px 3px 1px rgba(60, 64, 67, 0.15);\n",
              "        fill: #174EA6;\n",
              "      }\n",
              "\n",
              "      [theme=dark] .colab-df-generate {\n",
              "        background-color: #3B4455;\n",
              "        fill: #D2E3FC;\n",
              "      }\n",
              "\n",
              "      [theme=dark] .colab-df-generate:hover {\n",
              "        background-color: #434B5C;\n",
              "        box-shadow: 0px 1px 3px 1px rgba(0, 0, 0, 0.15);\n",
              "        filter: drop-shadow(0px 1px 2px rgba(0, 0, 0, 0.3));\n",
              "        fill: #FFFFFF;\n",
              "      }\n",
              "    </style>\n",
              "    <button class=\"colab-df-generate\" onclick=\"generateWithVariable('candy')\"\n",
              "            title=\"Generate code using this dataframe.\"\n",
              "            style=\"display:none;\">\n",
              "\n",
              "  <svg xmlns=\"http://www.w3.org/2000/svg\" height=\"24px\"viewBox=\"0 0 24 24\"\n",
              "       width=\"24px\">\n",
              "    <path d=\"M7,19H8.4L18.45,9,17,7.55,7,17.6ZM5,21V16.75L18.45,3.32a2,2,0,0,1,2.83,0l1.4,1.43a1.91,1.91,0,0,1,.58,1.4,1.91,1.91,0,0,1-.58,1.4L9.25,21ZM18.45,9,17,7.55Zm-12,3A5.31,5.31,0,0,0,4.9,8.1,5.31,5.31,0,0,0,1,6.5,5.31,5.31,0,0,0,4.9,4.9,5.31,5.31,0,0,0,6.5,1,5.31,5.31,0,0,0,8.1,4.9,5.31,5.31,0,0,0,12,6.5,5.46,5.46,0,0,0,6.5,12Z\"/>\n",
              "  </svg>\n",
              "    </button>\n",
              "    <script>\n",
              "      (() => {\n",
              "      const buttonEl =\n",
              "        document.querySelector('#id_0a1246e4-82aa-4d96-87d5-cd3403db0038 button.colab-df-generate');\n",
              "      buttonEl.style.display =\n",
              "        google.colab.kernel.accessAllowed ? 'block' : 'none';\n",
              "\n",
              "      buttonEl.onclick = () => {\n",
              "        google.colab.notebook.generateWithVariable('candy');\n",
              "      }\n",
              "      })();\n",
              "    </script>\n",
              "  </div>\n",
              "\n",
              "    </div>\n",
              "  </div>\n"
            ],
            "application/vnd.google.colaboratory.intrinsic+json": {
              "type": "dataframe",
              "variable_name": "candy"
            }
          },
          "metadata": {},
          "execution_count": 23
        }
      ],
      "source": [
        "candy.loc[:, candy.columns.str.startswith('Q12: MEDIA')] = candy.loc[:, candy.columns.str.startswith('Q12: MEDIA')].fillna(0.0)\n",
        "candy"
      ]
    },
    {
      "cell_type": "markdown",
      "metadata": {
        "id": "y_FW6Gc_i6je"
      },
      "source": [
        "**Code Check:** As a check for the above code, make sure that there are no missing values left for the `Q6` to `Q12` columns.  "
      ]
    },
    {
      "cell_type": "code",
      "execution_count": 24,
      "metadata": {
        "colab": {
          "base_uri": "https://localhost:8080/",
          "height": 458
        },
        "id": "aUs73c4di6je",
        "outputId": "495a0128-1b0f-4e71-8cc3-caca99f881f0"
      },
      "outputs": [
        {
          "output_type": "execute_result",
          "data": {
            "text/plain": [
              "Q6 | 100 Grand Bar                                                                        0\n",
              "Q6 | Anonymous brown globs that come in black and orange wrappers\\t(a.k.a. Mary Janes)    0\n",
              "Q6 | Any full-sized candy bar                                                             0\n",
              "Q6 | Black Jacks                                                                          0\n",
              "Q6 | Bonkers (the candy)                                                                  0\n",
              "                                                                                         ..\n",
              "Q11: DAY                                                                                  0\n",
              "Q12: MEDIA [Daily Dish]                                                                   0\n",
              "Q12: MEDIA [Science]                                                                      0\n",
              "Q12: MEDIA [ESPN]                                                                         0\n",
              "Q12: MEDIA [Yahoo]                                                                        0\n",
              "Length: 109, dtype: int64"
            ],
            "text/html": [
              "<div>\n",
              "<style scoped>\n",
              "    .dataframe tbody tr th:only-of-type {\n",
              "        vertical-align: middle;\n",
              "    }\n",
              "\n",
              "    .dataframe tbody tr th {\n",
              "        vertical-align: top;\n",
              "    }\n",
              "\n",
              "    .dataframe thead th {\n",
              "        text-align: right;\n",
              "    }\n",
              "</style>\n",
              "<table border=\"1\" class=\"dataframe\">\n",
              "  <thead>\n",
              "    <tr style=\"text-align: right;\">\n",
              "      <th></th>\n",
              "      <th>0</th>\n",
              "    </tr>\n",
              "  </thead>\n",
              "  <tbody>\n",
              "    <tr>\n",
              "      <th>Q6 | 100 Grand Bar</th>\n",
              "      <td>0</td>\n",
              "    </tr>\n",
              "    <tr>\n",
              "      <th>Q6 | Anonymous brown globs that come in black and orange wrappers\\t(a.k.a. Mary Janes)</th>\n",
              "      <td>0</td>\n",
              "    </tr>\n",
              "    <tr>\n",
              "      <th>Q6 | Any full-sized candy bar</th>\n",
              "      <td>0</td>\n",
              "    </tr>\n",
              "    <tr>\n",
              "      <th>Q6 | Black Jacks</th>\n",
              "      <td>0</td>\n",
              "    </tr>\n",
              "    <tr>\n",
              "      <th>Q6 | Bonkers (the candy)</th>\n",
              "      <td>0</td>\n",
              "    </tr>\n",
              "    <tr>\n",
              "      <th>...</th>\n",
              "      <td>...</td>\n",
              "    </tr>\n",
              "    <tr>\n",
              "      <th>Q11: DAY</th>\n",
              "      <td>0</td>\n",
              "    </tr>\n",
              "    <tr>\n",
              "      <th>Q12: MEDIA [Daily Dish]</th>\n",
              "      <td>0</td>\n",
              "    </tr>\n",
              "    <tr>\n",
              "      <th>Q12: MEDIA [Science]</th>\n",
              "      <td>0</td>\n",
              "    </tr>\n",
              "    <tr>\n",
              "      <th>Q12: MEDIA [ESPN]</th>\n",
              "      <td>0</td>\n",
              "    </tr>\n",
              "    <tr>\n",
              "      <th>Q12: MEDIA [Yahoo]</th>\n",
              "      <td>0</td>\n",
              "    </tr>\n",
              "  </tbody>\n",
              "</table>\n",
              "<p>109 rows × 1 columns</p>\n",
              "</div><br><label><b>dtype:</b> int64</label>"
            ]
          },
          "metadata": {},
          "execution_count": 24
        }
      ],
      "source": [
        "candy.loc[:, 'Q6 | 100 Grand Bar' : 'Q12: MEDIA [Yahoo]'].isna().sum()\n"
      ]
    },
    {
      "cell_type": "markdown",
      "metadata": {
        "id": "Sr0KK4Q5i6je"
      },
      "source": [
        "Now, let's look at the very messy `Q4: COUNTRY` column and see what we can do about it. First, run the code below to look at the different unique values in the data."
      ]
    },
    {
      "cell_type": "code",
      "execution_count": 25,
      "metadata": {
        "colab": {
          "base_uri": "https://localhost:8080/"
        },
        "id": "vF-YA2Ubi6je",
        "outputId": "6c5bb2f8-55a6-475d-d726-bc3265751ba2"
      },
      "outputs": [
        {
          "output_type": "execute_result",
          "data": {
            "text/plain": [
              "array(['USA ', 'USA', 'us', 'usa', nan, 'canada', 'Canada', 'Us', 'US',\n",
              "       'Murica', 'United States', 'uk', 'United Kingdom', 'united states',\n",
              "       'Usa', 'United States ', 'United staes',\n",
              "       'United States of America', 'UAE', 'England', 'UK', 'canada ',\n",
              "       'United states', 'u.s.a.', '35', 'france',\n",
              "       'United States of America ', 'america', 'U.S.A.', 'finland',\n",
              "       'unhinged states', 'Mexico', 'Canada ', 'united states of america',\n",
              "       'US of A', 'The United States', 'North Carolina ', 'Unied States',\n",
              "       'Netherlands', 'germany', 'Europe', 'U S', 'u.s.', 'U.K. ',\n",
              "       'Costa Rica', 'The United States of America', 'unite states',\n",
              "       'U.S.', '46', 'Australia', 'Greece', 'USA? Hard to tell anymore..',\n",
              "       \"'merica\", '45', 'United State', '32', 'France', 'australia',\n",
              "       'Can', 'Canae', 'Trumpistan', 'Ireland', 'United Sates', 'Korea',\n",
              "       'California', 'Unites States', 'Japan', 'USa', 'South africa',\n",
              "       'I pretend to be from Canada, but I am really from the United States.',\n",
              "       'Usa ', 'Uk', 'Germany', 'Canada`', 'Scotland', 'UK ', 'Denmark',\n",
              "       'United Stated', 'France ', 'Switzerland', 'UD', 'Scotland ',\n",
              "       'South Korea', 'New Jersey', 'CANADA', 'Indonesia',\n",
              "       'United ststes', 'America', 'The Netherlands', 'United Statss',\n",
              "       'endland', 'murrika', 'USA! USA! USA!', 'USAA', 'united States ',\n",
              "       'soviet canuckistan', 'N. America', 'Singapore', 'USSA', 'China',\n",
              "       'Taiwan', 'Ireland ', 'hong kong', 'spain', 'Sweden', 'Hong Kong',\n",
              "       'U.S. ', 'Narnia', 'u s a', 'United Statea', 'united ststes',\n",
              "       'subscribe to dm4uz3 on youtube', 'United kingdom',\n",
              "       'USA USA USA!!!!', \"I don't know anymore\", 'Fear and Loathing'],\n",
              "      dtype=object)"
            ]
          },
          "metadata": {},
          "execution_count": 25
        }
      ],
      "source": [
        "# check unique values\n",
        "candy['Q4: COUNTRY'].unique()"
      ]
    },
    {
      "cell_type": "markdown",
      "metadata": {
        "id": "BB5pG__pi6je"
      },
      "source": [
        "**Code Check:** As a check for the Country column, check to see how many unique values are in the data.  You should have `115` different unique values for the `Q4: COUNTRY` column.  If you have less or more than this number, double check your work above."
      ]
    },
    {
      "cell_type": "code",
      "execution_count": 26,
      "metadata": {
        "colab": {
          "base_uri": "https://localhost:8080/"
        },
        "id": "lCnqTn1Ii6jf",
        "outputId": "ce51ba71-4874-4182-90ca-22bcb87fe130"
      },
      "outputs": [
        {
          "output_type": "execute_result",
          "data": {
            "text/plain": [
              "115"
            ]
          },
          "metadata": {},
          "execution_count": 26
        }
      ],
      "source": [
        "# check the Q4: COUNTRY number of unique values\n",
        "candy['Q4: COUNTRY'].nunique()"
      ]
    },
    {
      "cell_type": "markdown",
      "metadata": {
        "id": "qomiIf6Oi6jf"
      },
      "source": [
        "We want to clean up this data to only include four areas: USA, Canada, Europe (the continent, not necessarily the European Union), and Other.\n",
        "\n",
        "There are different ways to do this, but I would suggest that you look at the way we handled the `property_type` column in the `vienna` data set and the code in the `amenities_to_columns()` function in the module notebook.  These might be a little harder than those examples but they should give you a good baseline approach.  \n",
        "\n",
        "You could use `replace()` for this step, and it is fine if you ultimately decide to do this, but I would suggest that you come up with a solution similar to what was shown in the `vienna` data cleaning notebook.  This method would be much more robust if you had many more values in your data.\n",
        "\n",
        "I suggest the following order for this section to make it easier:\n",
        "- Fill in all missing values with `Other`\n",
        "- Code Australia as `Other` (doing this step will help when trying to use `us` in the next step if you use string methods)\n",
        "- Combine all USA entries together as `USA`\n",
        "- Combine Canadian entries as `CA`\n",
        "- Combine European entries as `EU`\n",
        "- Everything else gets coded as `Other`"
      ]
    },
    {
      "cell_type": "markdown",
      "metadata": {
        "id": "0ddNepNDi6jf"
      },
      "source": [
        "**Exercise11:** Fill the missing values in the `Q4: COUNTRY` column with `Other`."
      ]
    },
    {
      "cell_type": "code",
      "execution_count": 27,
      "metadata": {
        "id": "AlZ8DnkYi6jf"
      },
      "outputs": [],
      "source": [
        "candy.fillna({'Q4: COUNTRY' : 'Other'}, inplace= True)"
      ]
    },
    {
      "cell_type": "markdown",
      "metadata": {
        "id": "knmCmu-Ri6jf"
      },
      "source": [
        "**Code Check:** Double check that there are no missing values in the `Q4: COUNTRY` column.  Also, double check the unique values to make sure that \"Other\" was added.  This should mean that you now have `116` unique values for this column."
      ]
    },
    {
      "cell_type": "code",
      "execution_count": 28,
      "metadata": {
        "colab": {
          "base_uri": "https://localhost:8080/"
        },
        "id": "t4Fob4Z0i6jf",
        "outputId": "34691c06-9c2a-46c4-ab04-58041e0fb88b"
      },
      "outputs": [
        {
          "output_type": "execute_result",
          "data": {
            "text/plain": [
              "0"
            ]
          },
          "metadata": {},
          "execution_count": 28
        }
      ],
      "source": [
        "# check missing Q4 values\n",
        "candy['Q4: COUNTRY'].isna().sum()\n"
      ]
    },
    {
      "cell_type": "code",
      "execution_count": 29,
      "metadata": {
        "colab": {
          "base_uri": "https://localhost:8080/"
        },
        "id": "KQvLf92li6jf",
        "outputId": "6d2d266b-0acf-4f5d-d60e-518b813f711f"
      },
      "outputs": [
        {
          "output_type": "execute_result",
          "data": {
            "text/plain": [
              "array(['USA ', 'USA', 'us', 'usa', 'Other', 'canada', 'Canada', 'Us',\n",
              "       'US', 'Murica', 'United States', 'uk', 'United Kingdom',\n",
              "       'united states', 'Usa', 'United States ', 'United staes',\n",
              "       'United States of America', 'UAE', 'England', 'UK', 'canada ',\n",
              "       'United states', 'u.s.a.', '35', 'france',\n",
              "       'United States of America ', 'america', 'U.S.A.', 'finland',\n",
              "       'unhinged states', 'Mexico', 'Canada ', 'united states of america',\n",
              "       'US of A', 'The United States', 'North Carolina ', 'Unied States',\n",
              "       'Netherlands', 'germany', 'Europe', 'U S', 'u.s.', 'U.K. ',\n",
              "       'Costa Rica', 'The United States of America', 'unite states',\n",
              "       'U.S.', '46', 'Australia', 'Greece', 'USA? Hard to tell anymore..',\n",
              "       \"'merica\", '45', 'United State', '32', 'France', 'australia',\n",
              "       'Can', 'Canae', 'Trumpistan', 'Ireland', 'United Sates', 'Korea',\n",
              "       'California', 'Unites States', 'Japan', 'USa', 'South africa',\n",
              "       'I pretend to be from Canada, but I am really from the United States.',\n",
              "       'Usa ', 'Uk', 'Germany', 'Canada`', 'Scotland', 'UK ', 'Denmark',\n",
              "       'United Stated', 'France ', 'Switzerland', 'UD', 'Scotland ',\n",
              "       'South Korea', 'New Jersey', 'CANADA', 'Indonesia',\n",
              "       'United ststes', 'America', 'The Netherlands', 'United Statss',\n",
              "       'endland', 'murrika', 'USA! USA! USA!', 'USAA', 'united States ',\n",
              "       'soviet canuckistan', 'N. America', 'Singapore', 'USSA', 'China',\n",
              "       'Taiwan', 'Ireland ', 'hong kong', 'spain', 'Sweden', 'Hong Kong',\n",
              "       'U.S. ', 'Narnia', 'u s a', 'United Statea', 'united ststes',\n",
              "       'subscribe to dm4uz3 on youtube', 'United kingdom',\n",
              "       'USA USA USA!!!!', \"I don't know anymore\", 'Fear and Loathing'],\n",
              "      dtype=object)"
            ]
          },
          "metadata": {},
          "execution_count": 29
        }
      ],
      "source": [
        "# check unique values\n",
        "candy['Q4: COUNTRY'].unique()\n"
      ]
    },
    {
      "cell_type": "markdown",
      "metadata": {
        "id": "3ge-RQewi6jf"
      },
      "source": [
        "**Exercise12:** Combine all Australia entries into `Other`.  Watch out for capitalization issues.  You should have `114` unique values after this step."
      ]
    },
    {
      "cell_type": "code",
      "execution_count": 30,
      "metadata": {
        "id": "vNrlkGbYi6jf"
      },
      "outputs": [],
      "source": [
        "candy['Q4: COUNTRY'].replace({\n",
        "    'Australia': 'Other', 'australia': 'Other'\n",
        "}, inplace= True)"
      ]
    },
    {
      "cell_type": "code",
      "execution_count": 31,
      "metadata": {
        "colab": {
          "base_uri": "https://localhost:8080/"
        },
        "id": "CPDvmeW_i6jf",
        "outputId": "d76715ee-f235-487d-b0b8-f9e0a2db9ebe"
      },
      "outputs": [
        {
          "output_type": "execute_result",
          "data": {
            "text/plain": [
              "array(['USA ', 'USA', 'us', 'usa', 'Other', 'canada', 'Canada', 'Us',\n",
              "       'US', 'Murica', 'United States', 'uk', 'United Kingdom',\n",
              "       'united states', 'Usa', 'United States ', 'United staes',\n",
              "       'United States of America', 'UAE', 'England', 'UK', 'canada ',\n",
              "       'United states', 'u.s.a.', '35', 'france',\n",
              "       'United States of America ', 'america', 'U.S.A.', 'finland',\n",
              "       'unhinged states', 'Mexico', 'Canada ', 'united states of america',\n",
              "       'US of A', 'The United States', 'North Carolina ', 'Unied States',\n",
              "       'Netherlands', 'germany', 'Europe', 'U S', 'u.s.', 'U.K. ',\n",
              "       'Costa Rica', 'The United States of America', 'unite states',\n",
              "       'U.S.', '46', 'Greece', 'USA? Hard to tell anymore..', \"'merica\",\n",
              "       '45', 'United State', '32', 'France', 'Can', 'Canae', 'Trumpistan',\n",
              "       'Ireland', 'United Sates', 'Korea', 'California', 'Unites States',\n",
              "       'Japan', 'USa', 'South africa',\n",
              "       'I pretend to be from Canada, but I am really from the United States.',\n",
              "       'Usa ', 'Uk', 'Germany', 'Canada`', 'Scotland', 'UK ', 'Denmark',\n",
              "       'United Stated', 'France ', 'Switzerland', 'UD', 'Scotland ',\n",
              "       'South Korea', 'New Jersey', 'CANADA', 'Indonesia',\n",
              "       'United ststes', 'America', 'The Netherlands', 'United Statss',\n",
              "       'endland', 'murrika', 'USA! USA! USA!', 'USAA', 'united States ',\n",
              "       'soviet canuckistan', 'N. America', 'Singapore', 'USSA', 'China',\n",
              "       'Taiwan', 'Ireland ', 'hong kong', 'spain', 'Sweden', 'Hong Kong',\n",
              "       'U.S. ', 'Narnia', 'u s a', 'United Statea', 'united ststes',\n",
              "       'subscribe to dm4uz3 on youtube', 'United kingdom',\n",
              "       'USA USA USA!!!!', \"I don't know anymore\", 'Fear and Loathing'],\n",
              "      dtype=object)"
            ]
          },
          "metadata": {},
          "execution_count": 31
        }
      ],
      "source": [
        "# check number of unique values\n",
        "candy['Q4: COUNTRY'].unique()\n"
      ]
    },
    {
      "cell_type": "markdown",
      "metadata": {
        "id": "ds7Q9hL4i6jg"
      },
      "source": [
        "**Exercise13:** Combine all United States entries together into `USA`.  These would include the following:\n",
        "```\n",
        "'USA ', 'USA', 'us', 'usa', 'Us', 'US', 'Murica', 'United States', 'united states', 'Usa', 'United States ', 'United staes', 'United States of America', 'United states', 'u.s.a.', 'United States of America ', 'america', 'U.S.A.', 'unhinged states', 'united states of america', 'US of A', 'The United States', 'North Carolina ', 'Unied States', 'U S', 'u.s.', 'The United States of America', 'unite states','U.S.', 'USA? Hard to tell anymore..', \"'merica\", 'United State', 'United Sates', 'California', 'Unites States', 'USa', 'I pretend to be from Canada, but I am really from the United States.', 'Usa ', 'United Stated', 'New Jersey', 'United ststes', 'America', 'United Statss', 'murrika', 'USA! USA! USA!', 'USAA', 'united States ', 'N. America', 'USSA', 'U.S. ', 'u s a', 'United Statea', 'united ststes', 'USA USA USA!!!!'\n",
        "```"
      ]
    },
    {
      "cell_type": "markdown",
      "metadata": {
        "id": "HtNEQ3cYi6jg"
      },
      "source": [
        "**Careful:** Some students try to use regex for this step with a string method.  Be careful as there is one response with the term \"subscribe\" in it.  If you create your regex incorrectly, your use of \"u.s.\" could mistakenly pick up this record because of the \"ubs\" contained in it and code it as \"USA\"."
      ]
    },
    {
      "cell_type": "code",
      "execution_count": 32,
      "metadata": {
        "id": "00LAFS-9i6jg"
      },
      "outputs": [],
      "source": [
        "candy['Q4: COUNTRY'] = candy['Q4: COUNTRY'].str.lower()\n",
        "\n",
        "candy['Q4: COUNTRY'].replace({\n",
        "    'usa ': 'USA', 'usa': 'USA', 'us': 'USA', 'murica': 'USA', 'united states': 'USA',\n",
        "    'united states ': 'USA', 'united staes': 'USA', 'united states of america': 'USA',\n",
        "    'america': 'USA', 'u.s.a.': 'USA', 'unhinged states': 'USA', 'us of a': 'USA',\n",
        "    'the united states': 'USA', 'north carolina ': 'USA', 'unied states': 'USA', 'u s': 'USA',\n",
        "    'u.s.': 'USA', 'usa? hard to tell anymore..': 'USA', \"'merica\": 'USA', 'unite states': 'USA',\n",
        "    'california': 'USA', 'i pretend to be from canada, but i am really from the united states.': 'USA',\n",
        "    'new jersey': 'USA', 'united ststes': 'USA', 'united statss': 'USA', 'murrika': 'USA',\n",
        "    'usa! usa! usa!': 'USA', 'usaa': 'USA', 'n. america': 'USA', 'ussa': 'USA', 'u.s. ': 'USA',\n",
        "    'u s a': 'USA', 'united statea': 'USA', 'united ststes': 'USA', 'usa usa usa!!!!': 'USA',\n",
        "    'united states of america': 'USA', 'the united states of america': 'USA', 'united state': 'USA',\n",
        "    'united sates': 'USA', 'unites states': 'USA', 'united stated': 'USA', 'united states of america ':'USA'\n",
        "}, inplace=True)\n",
        "\n"
      ]
    },
    {
      "cell_type": "markdown",
      "metadata": {
        "id": "Gul8NC20i6jg"
      },
      "source": [
        "**Code Check:** You should be merging the above values together into 1 (`USA`) and be left with 61 unique values after this step (including the `USA` value)."
      ]
    },
    {
      "cell_type": "code",
      "execution_count": 33,
      "metadata": {
        "colab": {
          "base_uri": "https://localhost:8080/"
        },
        "id": "2FjHjYwGi6jg",
        "outputId": "d056ea3b-2789-4324-a58b-9880ef81682f"
      },
      "outputs": [
        {
          "output_type": "execute_result",
          "data": {
            "text/plain": [
              "array(['USA', 'other', 'canada', 'uk', 'united kingdom', 'uae', 'england',\n",
              "       'canada ', '35', 'france', 'finland', 'mexico', 'netherlands',\n",
              "       'germany', 'europe', 'u.k. ', 'costa rica', '46', 'greece', '45',\n",
              "       '32', 'can', 'canae', 'trumpistan', 'ireland', 'korea', 'japan',\n",
              "       'south africa', 'canada`', 'scotland', 'uk ', 'denmark', 'france ',\n",
              "       'switzerland', 'ud', 'scotland ', 'south korea', 'indonesia',\n",
              "       'the netherlands', 'endland', 'soviet canuckistan', 'singapore',\n",
              "       'china', 'taiwan', 'ireland ', 'hong kong', 'spain', 'sweden',\n",
              "       'narnia', 'subscribe to dm4uz3 on youtube', \"i don't know anymore\",\n",
              "       'fear and loathing'], dtype=object)"
            ]
          },
          "metadata": {},
          "execution_count": 33
        }
      ],
      "source": [
        "# check unique values\n",
        "candy['Q4: COUNTRY'].unique()\n",
        "\n"
      ]
    },
    {
      "cell_type": "markdown",
      "metadata": {
        "id": "2ZEasA5Si6jg"
      },
      "source": [
        "**Exercise14:** Combine the Canadian entries (both upper and lower case) and label them as `CA`. Be careful as there are extra spaces, characters, and misspellings (Can, Canae).\n",
        "\n",
        "These values include:\n",
        "```\n",
        "'canada', 'Canada', 'canada ', 'Canada ', 'Can', 'Canae', 'Canada`', 'CANADA'\n",
        "```"
      ]
    },
    {
      "cell_type": "code",
      "execution_count": 34,
      "metadata": {
        "id": "tZf8UKBji6jg"
      },
      "outputs": [],
      "source": [
        "candy['Q4: COUNTRY'].replace({\n",
        "    'canada': 'CA', 'Canada': 'CA', 'canada ': 'CA', 'Can': 'CA',\n",
        "    'Canae': 'CA', 'Canada`': 'CA', 'CANADA': 'CA', 'can': 'CA',\n",
        "    'canae': 'CA','canada`': 'CA', 'ca': 'CA'\n",
        "}, inplace= True)"
      ]
    },
    {
      "cell_type": "markdown",
      "metadata": {
        "id": "j2Bh4beQi6jg"
      },
      "source": [
        "**Code Check:** You should be merging 8 values together into 1 (`CA`) and be left with 54 unique values after this step (including the `CA` value)."
      ]
    },
    {
      "cell_type": "code",
      "execution_count": 35,
      "metadata": {
        "colab": {
          "base_uri": "https://localhost:8080/"
        },
        "id": "ZUuj8g7Ei6jg",
        "outputId": "718d3528-515b-4b57-f880-8e2111a0ffba"
      },
      "outputs": [
        {
          "output_type": "execute_result",
          "data": {
            "text/plain": [
              "array(['USA', 'other', 'CA', 'uk', 'united kingdom', 'uae', 'england',\n",
              "       '35', 'france', 'finland', 'mexico', 'netherlands', 'germany',\n",
              "       'europe', 'u.k. ', 'costa rica', '46', 'greece', '45', '32',\n",
              "       'trumpistan', 'ireland', 'korea', 'japan', 'south africa',\n",
              "       'scotland', 'uk ', 'denmark', 'france ', 'switzerland', 'ud',\n",
              "       'scotland ', 'south korea', 'indonesia', 'the netherlands',\n",
              "       'endland', 'soviet canuckistan', 'singapore', 'china', 'taiwan',\n",
              "       'ireland ', 'hong kong', 'spain', 'sweden', 'narnia',\n",
              "       'subscribe to dm4uz3 on youtube', \"i don't know anymore\",\n",
              "       'fear and loathing'], dtype=object)"
            ]
          },
          "metadata": {},
          "execution_count": 35
        }
      ],
      "source": [
        "# check unique values\n",
        "candy['Q4: COUNTRY'].unique()"
      ]
    },
    {
      "cell_type": "markdown",
      "metadata": {
        "id": "MzmsGFNii6jg"
      },
      "source": [
        "**Exercise15:** Combine the European entries and label them as `EU`. Again, we are looking at the continent of Europe and not necessarily the countries that are a part of the European Union.  \n",
        "\n",
        "These values include:\n",
        "```\n",
        "'uk', 'United Kingdom', 'England', 'UK', 'france', 'finland', 'Netherlands', 'germany', 'Europe', 'U.K. ', 'Greece', 'France', 'Ireland', 'Uk', 'Germany', 'Scotland', 'UK ', 'Denmark', 'France ', 'Switzerland', 'Scotland ', 'The Netherlands', 'Ireland ', 'spain', 'Sweden', 'United kingdom'\n",
        "```"
      ]
    },
    {
      "cell_type": "code",
      "execution_count": 36,
      "metadata": {
        "id": "JS174jZsi6jg"
      },
      "outputs": [],
      "source": [
        "candy['Q4: COUNTRY'].replace({\n",
        "    'uk': 'EU', 'united kingdom': 'EU', 'england': 'EU', 'UK': 'EU', 'france': 'EU',\n",
        "    'finland': 'EU', 'netherlands': 'EU', 'germany': 'EU', 'europe': 'EU', 'u.k.': 'EU',\n",
        "    'greece': 'EU', 'ireland': 'EU', 'scotland': 'EU', 'denmark': 'EU', 'switzerland': 'EU',\n",
        "    'the netherlands': 'EU', 'spain': 'EU', 'sweden': 'EU', 'united kingdom': 'EU', 'u.k. ': 'EU',\n",
        "    'ireland ': 'EU',  'france ': 'EU', 'scotland ': 'EU', 'uk ': 'EU', 'endland': 'EU', 'eu': 'EU'\n",
        "}, inplace= True)"
      ]
    },
    {
      "cell_type": "markdown",
      "metadata": {
        "id": "bA7GPaYPi6jh"
      },
      "source": [
        "**Code Check:** You should be merging 26 entries together and be left with 29 unique values after this step (including the `EU` value)."
      ]
    },
    {
      "cell_type": "code",
      "execution_count": 37,
      "metadata": {
        "colab": {
          "base_uri": "https://localhost:8080/"
        },
        "id": "XsNYJSlui6jh",
        "outputId": "12e1fb47-8565-49c4-f1fd-c9cced5fc5cf"
      },
      "outputs": [
        {
          "output_type": "execute_result",
          "data": {
            "text/plain": [
              "array(['USA', 'other', 'CA', 'EU', 'uae', '35', 'mexico', 'costa rica',\n",
              "       '46', '45', '32', 'trumpistan', 'korea', 'japan', 'south africa',\n",
              "       'ud', 'south korea', 'indonesia', 'soviet canuckistan',\n",
              "       'singapore', 'china', 'taiwan', 'hong kong', 'narnia',\n",
              "       'subscribe to dm4uz3 on youtube', \"i don't know anymore\",\n",
              "       'fear and loathing'], dtype=object)"
            ]
          },
          "metadata": {},
          "execution_count": 37
        }
      ],
      "source": [
        "# check unique values\n",
        "candy['Q4: COUNTRY'].unique()"
      ]
    },
    {
      "cell_type": "markdown",
      "metadata": {
        "id": "j-BLI49Xi6jh"
      },
      "source": [
        "**Exercise16:** Finally, combine the other entries and label them as `Other`."
      ]
    },
    {
      "cell_type": "code",
      "execution_count": 38,
      "metadata": {
        "id": "DPxjR7_di6jh"
      },
      "outputs": [],
      "source": [
        "candy['Q4: COUNTRY'].replace({\n",
        "    'uae': 'Other', '35': 'Other', 'mexico': 'Other', 'costa rica': 'Other',\n",
        "    '46': 'Other', '45': 'Other', '32': 'Other',\n",
        "    'trumpistan': 'Other', 'korea': 'Other', 'japan': 'Other',\n",
        "    'south africa': 'Other', 'ud': 'Other', 'south korea': 'Other',\n",
        "    'indonesia': 'Other', 'soviet canuckistan': 'Other', 'singapore': 'Other',\n",
        "    'china': 'Other', 'taiwan': 'Other', 'hong kong': 'Other',\n",
        "    'narnia': 'Other', 'subscribe to dm4uz3 on youtube': 'Other',\n",
        "    \"i don't know anymore\": 'Other', 'fear and loathing': 'Other', 'other': 'Other'\n",
        "}, inplace= True)"
      ]
    },
    {
      "cell_type": "markdown",
      "metadata": {
        "id": "K4x5S9RFi6jh"
      },
      "source": [
        "**Code Check:** Double check that you only have four unique values in the `Q4: COUNTRY` column: `USA`, `Other`, `CA`, and `EU`"
      ]
    },
    {
      "cell_type": "code",
      "execution_count": 39,
      "metadata": {
        "id": "gmkn2XHVi6jh",
        "colab": {
          "base_uri": "https://localhost:8080/"
        },
        "outputId": "351fe438-ae4e-4263-884c-bbb6a70baaed"
      },
      "outputs": [
        {
          "output_type": "execute_result",
          "data": {
            "text/plain": [
              "array(['USA', 'Other', 'CA', 'EU'], dtype=object)"
            ]
          },
          "metadata": {},
          "execution_count": 39
        }
      ],
      "source": [
        "# check values\n",
        "candy['Q4: COUNTRY'].unique()"
      ]
    },
    {
      "cell_type": "markdown",
      "metadata": {
        "id": "VY0Irwsni6jh"
      },
      "source": [
        "**Q5:** To double check that everything was coded correctly, save the value counts of the `Q4: COUNTRY` column as `Q5`.  You can check this once you run your CodeGrade check."
      ]
    },
    {
      "cell_type": "code",
      "execution_count": 40,
      "metadata": {
        "id": "5zmPfdnwi6ji"
      },
      "outputs": [],
      "source": [
        "Q5 = candy['Q4: COUNTRY'].value_counts()"
      ]
    },
    {
      "cell_type": "markdown",
      "metadata": {
        "id": "tSGdGCdhi6ji"
      },
      "source": [
        "We now want to look at the `Q3: AGE` column. Let's look at all the unique values."
      ]
    },
    {
      "cell_type": "code",
      "execution_count": 41,
      "metadata": {
        "id": "LTerXXimi6ji",
        "colab": {
          "base_uri": "https://localhost:8080/"
        },
        "outputId": "64bb742b-6df4-4dbd-c491-794c3ae6ba78"
      },
      "outputs": [
        {
          "output_type": "execute_result",
          "data": {
            "text/plain": [
              "array(['44', '49', '40', '23', nan, '53', '33', '43', '56', '64', '37',\n",
              "       '48', '54', '36', '45', '25', '34', '35', '38', '58', '50', '47',\n",
              "       '16', '52', '63', '65', '41', '27', '31', '59', '61', '46', '42',\n",
              "       '62', '29', '39', '32', '28', '69', '67', '30', '22', '51', '70',\n",
              "       '24', '19', 'Old enough', '57', '60', '66', '12', 'Many', '55',\n",
              "       '72', '?', '21', '11', 'no', '9', '68', '20', '6', '10', '71',\n",
              "       '13', '26', '45-55', '7', '39.4', '74', '18', 'older than dirt',\n",
              "       '17', '15', '8', '75', '5u', 'Enough', 'Over 50', '90', '76',\n",
              "       'sixty-nine', 'ancient', '77', 'OLD', 'old', '73', '70 1/2', '14',\n",
              "       'MY NAME JEFF', '4', '59 on the day after Halloween', 'old enough',\n",
              "       'your mom', 'I can remember when Java was a cool new language',\n",
              "       '60+'], dtype=object)"
            ]
          },
          "metadata": {},
          "execution_count": 41
        }
      ],
      "source": [
        "# check unique age values\n",
        "candy['Q3: AGE'].unique()"
      ]
    },
    {
      "cell_type": "markdown",
      "metadata": {
        "id": "wH7MohUNi6ji"
      },
      "source": [
        "Again, this is a pretty messy column of data. This is a good example of why those that create online surveys shouldn't allow the individual to just put any value into the field. But it is now our job to clean this up.\n",
        "\n",
        "**Exercise17:** Your task is to put these values into the following categorical bins: `unknown`, `17 and under`, `18-25`, `26-35`, `36-45`, `46-55`, and `56+`.\n",
        "\n",
        "- The category labels should exactly match the above.\n",
        "- Missing values should be replaced with the `unknown` category\n",
        "- To make things easier and avoid ambiguity, let's say that any value with text, even if we could determine the age, will be binned with the `unknown` category. For example: `sixty-nine` should be coded as `unknown`, `45-55` should be coded as `unknown`, `59 on the day after Halloween` should be coded as `unknown`, etc.\n",
        "- Ensure that the category labels are unordered but reorder the categories so that 'unknown' is listed in the first position. This is not really needed but will help us grade your assignment. The categories should be listed as follows: `Index(['unknown', '17 and under', '18-25', '26-35', '36-45', '46-55', '56+'], dtype='object')`"
      ]
    },
    {
      "cell_type": "markdown",
      "metadata": {
        "id": "yVFkYZb8i6ji"
      },
      "source": [
        "First, we will replace any non-numeric value (those with text as mentioned above) with a missing value.  This will allow you to turn the other values into floats so that you can bin them. Just don't forget to code the missing values as `unknown` when you are done.  To replace the non-numeric values, run the following code:"
      ]
    },
    {
      "cell_type": "code",
      "execution_count": 42,
      "metadata": {
        "id": "XXGvD6Jki6ji"
      },
      "outputs": [],
      "source": [
        "### DO NOT CHANGE THIS CODE - RUN AS IS ###\n",
        "### This code replaces non-numeric values with a missing value to make your next step easier ###\n",
        "\n",
        "# create True/False index\n",
        "age_index = candy['Q3: AGE'].str.isnumeric()\n",
        "\n",
        "# for the index, fill missing values with False\n",
        "age_index = age_index.fillna(False)\n",
        "\n",
        "# select Age column for only those False values from index and code as missing\n",
        "candy.loc[~age_index, 'Q3: AGE'] = np.nan"
      ]
    },
    {
      "cell_type": "markdown",
      "metadata": {
        "id": "QuxU6q6Ti6ji"
      },
      "source": [
        "Now, you can finish exercise 17 to bin the ages and write the code below:"
      ]
    },
    {
      "cell_type": "code",
      "execution_count": 50,
      "metadata": {
        "id": "MeoEo7SSi6ji",
        "colab": {
          "base_uri": "https://localhost:8080/"
        },
        "outputId": "0032c542-717f-413c-fdc9-b8ec5f14d0c2"
      },
      "outputs": [
        {
          "output_type": "stream",
          "name": "stdout",
          "text": [
            "Index(['17 and under', '18-25', '26-35', '36-45', '46-55', '56+', 'unknown'], dtype='object')\n"
          ]
        }
      ],
      "source": [
        "bins = [0, 17, 25, 35, 45, 55, float('inf')]\n",
        "labels = ['17 and under', '18-25', '26-35', '36-45', '46-55', '56+']\n",
        "\n",
        "candy['Q3: AGE'] = pd.cut(candy['Q3: AGE'], bins=bins, labels=labels, right = False)\n",
        "\n",
        "candy['Q3: AGE'] = candy['Q3: AGE'].cat.add_categories('unknown').fillna('unknown')\n",
        "\n",
        "print(candy['Q3: AGE'].cat.categories)"
      ]
    },
    {
      "cell_type": "markdown",
      "metadata": {
        "id": "ahQj1ZiCi6ji"
      },
      "source": [
        "**Exercise18:** Double check yourself by checking the categories for the `Q3: AGE` column. It should output: `Index(['unknown', '17 and under', '18-25', '26-35', '36-45', '46-55', '56+'], dtype='object')`"
      ]
    },
    {
      "cell_type": "code",
      "execution_count": 51,
      "metadata": {
        "id": "nyAD7fRyi6ji",
        "colab": {
          "base_uri": "https://localhost:8080/"
        },
        "outputId": "f0fb4cba-3377-4f68-a13b-f26fed00a68a"
      },
      "outputs": [
        {
          "output_type": "execute_result",
          "data": {
            "text/plain": [
              "Index(['17 and under', '18-25', '26-35', '36-45', '46-55', '56+', 'unknown'], dtype='object')"
            ]
          },
          "metadata": {},
          "execution_count": 51
        }
      ],
      "source": [
        "# double check categories\n",
        "candy['Q3: AGE'].cat.categories"
      ]
    },
    {
      "cell_type": "markdown",
      "metadata": {
        "id": "vJyW-9Khi6jj"
      },
      "source": [
        "**Code Check:** To double check your above binning worked correctly, your value counts (sorted by the index) should be as follows:\n",
        "\n",
        "```\n",
        "unknown: 60\n",
        "17 and under: 49\n",
        "18-25: 85\n",
        "26-35: 520\n",
        "36-45: 768\n",
        "46-55: 525\n",
        "56+: 298\n",
        "```"
      ]
    },
    {
      "cell_type": "code",
      "execution_count": 52,
      "metadata": {
        "id": "8gMp4Rtfi6jj",
        "colab": {
          "base_uri": "https://localhost:8080/",
          "height": 335
        },
        "outputId": "846ecd87-5502-4f05-984f-25b5369ee971"
      },
      "outputs": [
        {
          "output_type": "execute_result",
          "data": {
            "text/plain": [
              "Q3: AGE\n",
              "17 and under     46\n",
              "18-25            72\n",
              "26-35           464\n",
              "36-45           770\n",
              "46-55           563\n",
              "56+             330\n",
              "unknown          60\n",
              "Name: count, dtype: int64"
            ],
            "text/html": [
              "<div>\n",
              "<style scoped>\n",
              "    .dataframe tbody tr th:only-of-type {\n",
              "        vertical-align: middle;\n",
              "    }\n",
              "\n",
              "    .dataframe tbody tr th {\n",
              "        vertical-align: top;\n",
              "    }\n",
              "\n",
              "    .dataframe thead th {\n",
              "        text-align: right;\n",
              "    }\n",
              "</style>\n",
              "<table border=\"1\" class=\"dataframe\">\n",
              "  <thead>\n",
              "    <tr style=\"text-align: right;\">\n",
              "      <th></th>\n",
              "      <th>count</th>\n",
              "    </tr>\n",
              "    <tr>\n",
              "      <th>Q3: AGE</th>\n",
              "      <th></th>\n",
              "    </tr>\n",
              "  </thead>\n",
              "  <tbody>\n",
              "    <tr>\n",
              "      <th>17 and under</th>\n",
              "      <td>46</td>\n",
              "    </tr>\n",
              "    <tr>\n",
              "      <th>18-25</th>\n",
              "      <td>72</td>\n",
              "    </tr>\n",
              "    <tr>\n",
              "      <th>26-35</th>\n",
              "      <td>464</td>\n",
              "    </tr>\n",
              "    <tr>\n",
              "      <th>36-45</th>\n",
              "      <td>770</td>\n",
              "    </tr>\n",
              "    <tr>\n",
              "      <th>46-55</th>\n",
              "      <td>563</td>\n",
              "    </tr>\n",
              "    <tr>\n",
              "      <th>56+</th>\n",
              "      <td>330</td>\n",
              "    </tr>\n",
              "    <tr>\n",
              "      <th>unknown</th>\n",
              "      <td>60</td>\n",
              "    </tr>\n",
              "  </tbody>\n",
              "</table>\n",
              "</div><br><label><b>dtype:</b> int64</label>"
            ]
          },
          "metadata": {},
          "execution_count": 52
        }
      ],
      "source": [
        "candy['Q3: AGE'].value_counts(sort=False)"
      ]
    },
    {
      "cell_type": "markdown",
      "metadata": {
        "id": "0BZoelPui6jj"
      },
      "source": [
        "You can also double check some of your work up to this point by making sure that there are no missing values in the data set anymore."
      ]
    },
    {
      "cell_type": "markdown",
      "metadata": {
        "id": "6w63ADp2i6jj"
      },
      "source": [
        "**Code Check:** Check to see if there are any missing values in the data set. Your output should show `0`."
      ]
    },
    {
      "cell_type": "code",
      "execution_count": 53,
      "metadata": {
        "id": "OdURoopYi6jj",
        "colab": {
          "base_uri": "https://localhost:8080/",
          "height": 458
        },
        "outputId": "50c65544-259f-46c2-95d3-22709357a274"
      },
      "outputs": [
        {
          "output_type": "execute_result",
          "data": {
            "text/plain": [
              "Q1: GOING OUT?             0\n",
              "Q2: GENDER                 0\n",
              "Q3: AGE                    0\n",
              "Q4: COUNTRY                0\n",
              "Q6 | 100 Grand Bar         0\n",
              "                          ..\n",
              "Q11: DAY                   0\n",
              "Q12: MEDIA [Daily Dish]    0\n",
              "Q12: MEDIA [Science]       0\n",
              "Q12: MEDIA [ESPN]          0\n",
              "Q12: MEDIA [Yahoo]         0\n",
              "Length: 113, dtype: int64"
            ],
            "text/html": [
              "<div>\n",
              "<style scoped>\n",
              "    .dataframe tbody tr th:only-of-type {\n",
              "        vertical-align: middle;\n",
              "    }\n",
              "\n",
              "    .dataframe tbody tr th {\n",
              "        vertical-align: top;\n",
              "    }\n",
              "\n",
              "    .dataframe thead th {\n",
              "        text-align: right;\n",
              "    }\n",
              "</style>\n",
              "<table border=\"1\" class=\"dataframe\">\n",
              "  <thead>\n",
              "    <tr style=\"text-align: right;\">\n",
              "      <th></th>\n",
              "      <th>0</th>\n",
              "    </tr>\n",
              "  </thead>\n",
              "  <tbody>\n",
              "    <tr>\n",
              "      <th>Q1: GOING OUT?</th>\n",
              "      <td>0</td>\n",
              "    </tr>\n",
              "    <tr>\n",
              "      <th>Q2: GENDER</th>\n",
              "      <td>0</td>\n",
              "    </tr>\n",
              "    <tr>\n",
              "      <th>Q3: AGE</th>\n",
              "      <td>0</td>\n",
              "    </tr>\n",
              "    <tr>\n",
              "      <th>Q4: COUNTRY</th>\n",
              "      <td>0</td>\n",
              "    </tr>\n",
              "    <tr>\n",
              "      <th>Q6 | 100 Grand Bar</th>\n",
              "      <td>0</td>\n",
              "    </tr>\n",
              "    <tr>\n",
              "      <th>...</th>\n",
              "      <td>...</td>\n",
              "    </tr>\n",
              "    <tr>\n",
              "      <th>Q11: DAY</th>\n",
              "      <td>0</td>\n",
              "    </tr>\n",
              "    <tr>\n",
              "      <th>Q12: MEDIA [Daily Dish]</th>\n",
              "      <td>0</td>\n",
              "    </tr>\n",
              "    <tr>\n",
              "      <th>Q12: MEDIA [Science]</th>\n",
              "      <td>0</td>\n",
              "    </tr>\n",
              "    <tr>\n",
              "      <th>Q12: MEDIA [ESPN]</th>\n",
              "      <td>0</td>\n",
              "    </tr>\n",
              "    <tr>\n",
              "      <th>Q12: MEDIA [Yahoo]</th>\n",
              "      <td>0</td>\n",
              "    </tr>\n",
              "  </tbody>\n",
              "</table>\n",
              "<p>113 rows × 1 columns</p>\n",
              "</div><br><label><b>dtype:</b> int64</label>"
            ]
          },
          "metadata": {},
          "execution_count": 53
        }
      ],
      "source": [
        "candy.isnull().sum()"
      ]
    },
    {
      "cell_type": "markdown",
      "metadata": {
        "id": "z3o816Yvi6jj"
      },
      "source": [
        "**Exercise19:** Before you move on to the next section, reset the index for `candy` ensuring that it goes from 0 to n-1.  "
      ]
    },
    {
      "cell_type": "code",
      "execution_count": 54,
      "metadata": {
        "id": "ZRLUfrHpi6jj"
      },
      "outputs": [],
      "source": [
        "candy.reset_index(drop= True, inplace= True)"
      ]
    },
    {
      "cell_type": "markdown",
      "metadata": {
        "id": "Www-H5RLi6jj"
      },
      "source": [
        "## Feature Engineering\n",
        "\n",
        "Feature engineering is the process of transforming raw data into features that better represent the underlying problem to the predictive models.  In this section, we will create a new column called \"net_feelies\" (calculated by the authors as the total joy count minus the total despair count).\n",
        "\n",
        "First, let's narrow down our data to make working with it easier.\n",
        "\n",
        "**Exercise20:** Select only the Q6 candy columns (`Q6 | 100 Grand Bar` through `Q6 | York Peppermint Patties`) in the data set and save this as a new DataFrame called `candy_reduced`."
      ]
    },
    {
      "cell_type": "code",
      "execution_count": 58,
      "metadata": {
        "id": "gP4DyL76i6jj"
      },
      "outputs": [],
      "source": [
        "candy_reduced = candy.loc[:, 'Q6 | 100 Grand Bar' : 'Q6 | York Peppermint Patties']"
      ]
    },
    {
      "cell_type": "markdown",
      "metadata": {
        "id": "kqQV_BKSi6jj"
      },
      "source": [
        "Next, we will create two Series, one with JOY counts and one with DESPAIR counts to add to our `candy_reduced` data.\n",
        "\n",
        "**Exercise21:** Create a Series called `joy_count` that lists total counts for JOY for each column, making sure to keep it in the same order as the columns in the `candy_reduced` DataFrame. Hint: A simple way to do this is to filter the entire DataFrame for any `JOY` values and then use `count()`. See this [stackoverflow question](https://stackoverflow.com/questions/63103090/how-do-i-count-specific-values-across-multiple-columns-in-pandas) and answers."
      ]
    },
    {
      "cell_type": "code",
      "execution_count": 59,
      "metadata": {
        "id": "RxXnigQti6jk"
      },
      "outputs": [],
      "source": [
        "joy_count = candy_reduced.apply(lambda x: (x == 'JOY').sum())"
      ]
    },
    {
      "cell_type": "markdown",
      "metadata": {
        "id": "G6m5_8Cfi6jk"
      },
      "source": [
        "**Exercise22:** Same as above except you will create a Series called `despair_count` that lists the total counts for DESPAIR for each column."
      ]
    },
    {
      "cell_type": "code",
      "execution_count": 60,
      "metadata": {
        "id": "jE7P9anIi6jk"
      },
      "outputs": [],
      "source": [
        "despair_count = candy_reduced.apply(lambda x: (x == 'DESPAIR').sum())"
      ]
    },
    {
      "cell_type": "markdown",
      "metadata": {
        "id": "r4LUUW4Xi6jk"
      },
      "source": [
        "**Exercise23:** Take the transpose of the `candy_reduced` DataFrame and save this transposed data as `candy_reduced_transpose`."
      ]
    },
    {
      "cell_type": "code",
      "execution_count": 61,
      "metadata": {
        "id": "g0pw6sgni6jk"
      },
      "outputs": [],
      "source": [
        "candy_reduced_transpose = candy_reduced.transpose()"
      ]
    },
    {
      "cell_type": "markdown",
      "metadata": {
        "id": "Aoq5vxu_i6jk"
      },
      "source": [
        "**Exercise24:** Add a new column called \"joy_count\" using the `joy_count` Series above and a new column called 'despair_count\" using the `despair_count` Series above to the `candy_reduced_transpose` DataFrame."
      ]
    },
    {
      "cell_type": "code",
      "execution_count": 62,
      "metadata": {
        "id": "ZbFaim0pi6jk"
      },
      "outputs": [],
      "source": [
        "candy_reduced_transpose['joy_count'] = joy_count\n",
        "\n",
        "candy_reduced_transpose['despair_count'] =despair_count"
      ]
    },
    {
      "cell_type": "markdown",
      "metadata": {
        "id": "ycpj2K7_i6jk"
      },
      "source": [
        "**Exercise25:** Add a new column to the `candy_reduced_transpose` DataFrame called \"net_feelies\" that takes the `joy_count` column and subtracts the `despair_count` column."
      ]
    },
    {
      "cell_type": "code",
      "execution_count": 63,
      "metadata": {
        "id": "zcs2y-Udi6jk"
      },
      "outputs": [],
      "source": [
        "candy_reduced_transpose['net_feelies'] = candy_reduced_transpose['joy_count'] - candy_reduced_transpose['despair_count']"
      ]
    },
    {
      "cell_type": "markdown",
      "metadata": {
        "id": "5UmgLr2yi6jk"
      },
      "source": [
        "**Exercise26:** Select only the `joy_count`, `despair_count`, and `net_feelies` columns from the `candy_reduced_transpose` DataFrame. Sort this DataFrame in descending order by `net_feelies` and save this as `candy_net_sorted`."
      ]
    },
    {
      "cell_type": "code",
      "execution_count": 64,
      "metadata": {
        "id": "Ltdf-9lUi6jk"
      },
      "outputs": [],
      "source": [
        "candy_net_sorted = candy_reduced_transpose[['joy_count', 'despair_count', 'net_feelies']]\n",
        "\n",
        "candy_net_sorted = candy_net_sorted.sort_values(by= 'net_feelies', ascending= False)"
      ]
    },
    {
      "cell_type": "markdown",
      "metadata": {
        "id": "aQtbrwfci6jl"
      },
      "source": [
        "## Encoding\n",
        "\n",
        "We now want to get the `candy` DataFrame ready to run a machine learning algorthim to determine if we could predict a person's gender based on what candy they prefer.\n",
        "\n",
        "We will now turn all of our values into numeric values.  There are easier ways to do this with sklearn, but we will use Pandas to perform these exercises for further practice."
      ]
    },
    {
      "cell_type": "markdown",
      "metadata": {
        "id": "4anbJQCXi6jl"
      },
      "source": [
        "**Exercise27:** For grading purposes, we want to leave the `candy` DataFrame as is. Make a copy of the `candy` DataFrame and save this new DataFrame as `candy_encode`."
      ]
    },
    {
      "cell_type": "code",
      "execution_count": 65,
      "metadata": {
        "id": "x1fiJcq6i6jl"
      },
      "outputs": [],
      "source": [
        "candy_encode = candy.copy()"
      ]
    },
    {
      "cell_type": "markdown",
      "metadata": {
        "id": "JIuyIpQSi6jl"
      },
      "source": [
        "**Exercise28:** For the `candy_encode` DataFrame, replace any `Female` values with `0` and any `Male` values with `1`."
      ]
    },
    {
      "cell_type": "code",
      "execution_count": 66,
      "metadata": {
        "id": "VbBiovvai6jl"
      },
      "outputs": [],
      "source": [
        "candy_encode['Q2: GENDER'] = candy_encode['Q2: GENDER'].replace({'Female': 0, 'Male': 1})"
      ]
    },
    {
      "cell_type": "markdown",
      "metadata": {
        "id": "ahjZzORni6jl"
      },
      "source": [
        "**Exercise29:** Again, you will learn more about this later, but we need to separate the column that we want to predict (called the response) and the columns that we will use to make the predictions (called the features).  **For both of the items below, make sure that the index is reset and goes from 0 to n-1.**\n",
        "\n",
        "- Select only the `Q2: GENDER` column from `candy_encode` and save this as `candy_response`.  **Note: This should be a Series.**\n",
        "- Drop the following columns from the `candy_encode` DataFrame: `Q2: GENDER`,`Q1: GOING OUT?`,`Q3: AGE`,`Q4: COUNTRY`,`Q10: DRESS`,`Q11: DAY`, `Q12: MEDIA [Daily Dish]`,`Q12: MEDIA [Science]`,`Q12: MEDIA [ESPN]`,`Q12: MEDIA [Yahoo]`.  Save the remaining columns as `candy_features`."
      ]
    },
    {
      "cell_type": "code",
      "execution_count": 67,
      "metadata": {
        "id": "vblgM8UJi6jl"
      },
      "outputs": [],
      "source": [
        "candy_response = candy_encode['Q2: GENDER']\n",
        "\n",
        "enconde_columns_removed= [\n",
        "    'Q2: GENDER', 'Q1: GOING OUT?', 'Q3: AGE',\n",
        "    'Q4: COUNTRY', 'Q10: DRESS', 'Q11: DAY',\n",
        "    'Q12: MEDIA [Daily Dish]', 'Q12: MEDIA [Science]',\n",
        "    'Q12: MEDIA [ESPN]', 'Q12: MEDIA [Yahoo]'\n",
        "]\n",
        "\n",
        "candy_features = candy_encode.drop(columns=enconde_columns_removed)"
      ]
    },
    {
      "cell_type": "markdown",
      "metadata": {
        "id": "Vl3SQChWi6jl"
      },
      "source": [
        "**Exercise30:** Use Panda's `get_dummies()` to encode the `candy_features` data, making sure to set `drop_first=True` and `dtype=int`. Save this as `candy_features_encoded`."
      ]
    },
    {
      "cell_type": "code",
      "execution_count": 70,
      "metadata": {
        "id": "Z6LQ343ri6jl"
      },
      "outputs": [],
      "source": [
        "candy_features_encoded = pd.get_dummies(candy_features, drop_first= True, dtype= int)"
      ]
    },
    {
      "cell_type": "markdown",
      "metadata": {
        "id": "TJZqhowBi6jl"
      },
      "source": [
        "**Code Check:** Make sure that the `candy`, `candy_features`, `candy_response` and `candy_features_encoded` have an index that goes from 0 to n-1 or your final CodeGrade tests will not pass."
      ]
    },
    {
      "cell_type": "markdown",
      "metadata": {
        "id": "Fg8xbLrwi6jl"
      },
      "source": [
        "## Final Analysis\n",
        "\n",
        "THe data is now cleaned and prepared to be passed to a machine learning model.  \n",
        "\n",
        "I created models using Random Forest, Logistic Regression, and XGBoost algorithms, and they all returned around 70% accuracy rates. However, the other accuracy metrics didn't look as good. Given the metrics that were calculated, I would say that based only on this data, using candy preference is not that great of an indicator of someone's gender.\n"
      ]
    },
    {
      "cell_type": "markdown",
      "metadata": {
        "id": "A7jomAZ0i6jm"
      },
      "source": []
    }
  ],
  "metadata": {
    "kernelspec": {
      "display_name": "Python 3",
      "language": "python",
      "name": "python3"
    },
    "language_info": {
      "codemirror_mode": {
        "name": "ipython",
        "version": 3
      },
      "file_extension": ".py",
      "mimetype": "text/x-python",
      "name": "python",
      "nbconvert_exporter": "python",
      "pygments_lexer": "ipython3",
      "version": "3.8.16"
    },
    "colab": {
      "provenance": []
    }
  },
  "nbformat": 4,
  "nbformat_minor": 0
}