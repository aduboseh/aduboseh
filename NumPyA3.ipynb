{
  "nbformat": 4,
  "nbformat_minor": 0,
  "metadata": {
    "colab": {
      "provenance": []
    },
    "kernelspec": {
      "name": "python3",
      "display_name": "Python 3"
    },
    "language_info": {
      "name": "python"
    }
  },
  "cells": [
    {
      "cell_type": "code",
      "execution_count": 3,
      "metadata": {
        "id": "9F-sNgexLn6H"
      },
      "outputs": [],
      "source": [
        "import numpy as np"
      ]
    },
    {
      "cell_type": "code",
      "source": [
        "np.random.seed(77)\n",
        "Q1 = np.random.randint(50, size =(8, 6))"
      ],
      "metadata": {
        "id": "nUXRhx2OltBa"
      },
      "execution_count": 13,
      "outputs": []
    },
    {
      "cell_type": "code",
      "source": [
        "Q2 = Q1[2:7, 4:]"
      ],
      "metadata": {
        "id": "rGeySKv_mmaJ"
      },
      "execution_count": 14,
      "outputs": []
    },
    {
      "cell_type": "code",
      "source": [
        "Q3 = Q1[2:, 3:5]"
      ],
      "metadata": {
        "id": "MCBqkjeFnVEq"
      },
      "execution_count": 9,
      "outputs": []
    },
    {
      "cell_type": "code",
      "source": [
        "Q4 = Q3.reshape((2,6))"
      ],
      "metadata": {
        "id": "hDzIVes3nwrP"
      },
      "execution_count": 10,
      "outputs": []
    },
    {
      "cell_type": "code",
      "source": [
        "Q5 = Q4.reshape((3,4))"
      ],
      "metadata": {
        "id": "MM1TA5jUowj0"
      },
      "execution_count": 11,
      "outputs": []
    },
    {
      "cell_type": "code",
      "source": [
        "firstname = ['Janetta', 'Deb', 'Minato', 'Maurine', 'Niketas']\n",
        "lastname = ['Lydia', 'Albin', 'Vanja', 'Peter', 'Justine']\n",
        "height = [58, 68, 78, 77, 70]\n",
        "age = [58, 50, 38, 57, 60]"
      ],
      "metadata": {
        "id": "YeS9DVjspLYj"
      },
      "execution_count": 18,
      "outputs": []
    },
    {
      "cell_type": "code",
      "source": [
        "Q6 = np.zeros(5, dtype={'names' :('firstname', 'lastname', 'height', 'age'),\n",
        "                       'formats' :('U20', 'U20', 'int16', 'int16')})\n",
        "Q6['firstname'] = firstname\n",
        "Q6['lastname'] = lastname\n",
        "Q6['height'] = height\n",
        "Q6['age'] = age"
      ],
      "metadata": {
        "id": "X_N9md4n9445"
      },
      "execution_count": null,
      "outputs": []
    }
  ]
}