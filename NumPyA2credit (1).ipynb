{
  "nbformat": 4,
  "nbformat_minor": 0,
  "metadata": {
    "colab": {
      "provenance": []
    },
    "kernelspec": {
      "name": "python3",
      "display_name": "Python 3"
    },
    "language_info": {
      "name": "python"
    }
  },
  "cells": [
    {
      "cell_type": "code",
      "execution_count": 1,
      "metadata": {
        "id": "2SVXUGgQ57PY"
      },
      "outputs": [],
      "source": [
        "import numpy as np"
      ]
    },
    {
      "cell_type": "code",
      "source": [
        "np.random.seed(56)\n",
        "Q1 = np.random.randint(20, size = (10, 10)"
      ],
      "metadata": {
        "id": "213J7h9h7zhR"
      },
      "execution_count": null,
      "outputs": []
    },
    {
      "cell_type": "code",
      "source": [
        "Q2 = Q1[2:5, 3:8]"
      ],
      "metadata": {
        "id": "L4nWjbfX7-Nw"
      },
      "execution_count": 3,
      "outputs": []
    },
    {
      "cell_type": "code",
      "source": [
        "Q3 = Q1[7:, 4:6]"
      ],
      "metadata": {
        "id": "vgkb94YD8lRR"
      },
      "execution_count": 4,
      "outputs": []
    },
    {
      "cell_type": "code",
      "source": [
        "Q4 = Q3.reshape((2,3))"
      ],
      "metadata": {
        "id": "CMnkrqJ987aG"
      },
      "execution_count": 5,
      "outputs": []
    },
    {
      "cell_type": "code",
      "source": [
        "np.random.seed(0)\n",
        "x = np.random.randint(0,15, size = 10)\n",
        "y = np.random.randint(0,15, size = 10)\n",
        "Q5 = np.concatenate([x,y])"
      ],
      "metadata": {
        "id": "16HH4Pr-9T80"
      },
      "execution_count": 15,
      "outputs": []
    },
    {
      "cell_type": "code",
      "source": [
        "Q6a = [Q5[1], Q5[3], Q5[10], Q5[9]]"
      ],
      "metadata": {
        "id": "-Gd1cmYeIeiy"
      },
      "execution_count": 7,
      "outputs": []
    },
    {
      "cell_type": "code",
      "source": [
        "Q6b = [Q5[18], Q5[1], Q5[18], Q5[4], Q5[14], Q5[17], Q5[11]]\n",
        "Q6b[4] = 14"
      ],
      "metadata": {
        "id": "RsK0Jp9fT7OF"
      },
      "execution_count": 8,
      "outputs": []
    },
    {
      "cell_type": "code",
      "source": [
        "Q6c = [Q5[3], Q5[7], Q5[6], Q5[13], Q5[6], Q5[6]]"
      ],
      "metadata": {
        "id": "pUD8rn_j4Ovp"
      },
      "execution_count": 9,
      "outputs": []
    },
    {
      "cell_type": "code",
      "source": [
        "Q6d = [Q5[14], Q5[2], Q5[11]]\n",
        "Q6d[0] = 14"
      ],
      "metadata": {
        "id": "PFNkt7Ag5My_"
      },
      "execution_count": 10,
      "outputs": []
    },
    {
      "cell_type": "code",
      "source": [
        "Q7 = np.sum(Q5)"
      ],
      "metadata": {
        "id": "Aua9dkAG6YmV"
      },
      "execution_count": 20,
      "outputs": []
    },
    {
      "cell_type": "code",
      "source": [
        "np.random.seed(0)\n",
        "Q8 = np.random.randint(48,86, size = 50)\n",
        "Q8 = np.mean(Q8)"
      ],
      "metadata": {
        "id": "y_OVwHUZhtYL"
      },
      "execution_count": 21,
      "outputs": []
    },
    {
      "cell_type": "code",
      "source": [
        "name = ['Jonathan Loaisiga', \"Nick Saban\", 'Katie Ladecky']\n",
        "occupation = ['Baseball player', 'Football coach', 'Swimmer']\n",
        "salary = [595800.00, 8619934.23, 100000.00]"
      ],
      "metadata": {
        "id": "jw70J6Bpn1sv"
      },
      "execution_count": 23,
      "outputs": []
    },
    {
      "cell_type": "code",
      "source": [
        "data = np.zeros(3, dtype = {'names' :('name', 'occupation', 'salary'),\n",
        "                            'formats' :('U20', 'U20', 'f8')})\n"
      ],
      "metadata": {
        "id": "AJ-HCDsTn7_m"
      },
      "execution_count": 24,
      "outputs": []
    }
  ]
}